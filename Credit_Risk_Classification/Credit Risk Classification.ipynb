{
 "cells": [
  {
   "cell_type": "code",
   "execution_count": 1,
   "id": "004ec63f",
   "metadata": {},
   "outputs": [],
   "source": [
    "import warnings\n",
    "warnings.filterwarnings('ignore')"
   ]
  },
  {
   "cell_type": "code",
   "execution_count": 3,
   "id": "65333734",
   "metadata": {},
   "outputs": [
    {
     "data": {
      "text/html": [
       "<div>\n",
       "<style scoped>\n",
       "    .dataframe tbody tr th:only-of-type {\n",
       "        vertical-align: middle;\n",
       "    }\n",
       "\n",
       "    .dataframe tbody tr th {\n",
       "        vertical-align: top;\n",
       "    }\n",
       "\n",
       "    .dataframe thead th {\n",
       "        text-align: right;\n",
       "    }\n",
       "</style>\n",
       "<table border=\"1\" class=\"dataframe\">\n",
       "  <thead>\n",
       "    <tr style=\"text-align: right;\">\n",
       "      <th></th>\n",
       "      <th>GoodCredit</th>\n",
       "      <th>checkingstatus</th>\n",
       "      <th>duration</th>\n",
       "      <th>history</th>\n",
       "      <th>purpose</th>\n",
       "      <th>amount</th>\n",
       "      <th>savings</th>\n",
       "      <th>employ</th>\n",
       "      <th>installment</th>\n",
       "      <th>status</th>\n",
       "      <th>...</th>\n",
       "      <th>residence</th>\n",
       "      <th>property</th>\n",
       "      <th>age</th>\n",
       "      <th>otherplans</th>\n",
       "      <th>housing</th>\n",
       "      <th>cards</th>\n",
       "      <th>job</th>\n",
       "      <th>liable</th>\n",
       "      <th>tele</th>\n",
       "      <th>foreign</th>\n",
       "    </tr>\n",
       "  </thead>\n",
       "  <tbody>\n",
       "    <tr>\n",
       "      <th>0</th>\n",
       "      <td>0</td>\n",
       "      <td>A11</td>\n",
       "      <td>6</td>\n",
       "      <td>A34</td>\n",
       "      <td>A43</td>\n",
       "      <td>1169</td>\n",
       "      <td>A65</td>\n",
       "      <td>A75</td>\n",
       "      <td>4</td>\n",
       "      <td>A93</td>\n",
       "      <td>...</td>\n",
       "      <td>4</td>\n",
       "      <td>A121</td>\n",
       "      <td>67</td>\n",
       "      <td>A143</td>\n",
       "      <td>A152</td>\n",
       "      <td>2</td>\n",
       "      <td>A173</td>\n",
       "      <td>1</td>\n",
       "      <td>A192</td>\n",
       "      <td>A201</td>\n",
       "    </tr>\n",
       "    <tr>\n",
       "      <th>1</th>\n",
       "      <td>1</td>\n",
       "      <td>A12</td>\n",
       "      <td>48</td>\n",
       "      <td>A32</td>\n",
       "      <td>A43</td>\n",
       "      <td>5951</td>\n",
       "      <td>A61</td>\n",
       "      <td>A73</td>\n",
       "      <td>2</td>\n",
       "      <td>A92</td>\n",
       "      <td>...</td>\n",
       "      <td>2</td>\n",
       "      <td>A121</td>\n",
       "      <td>22</td>\n",
       "      <td>A143</td>\n",
       "      <td>A152</td>\n",
       "      <td>1</td>\n",
       "      <td>A173</td>\n",
       "      <td>1</td>\n",
       "      <td>A191</td>\n",
       "      <td>A201</td>\n",
       "    </tr>\n",
       "    <tr>\n",
       "      <th>2</th>\n",
       "      <td>0</td>\n",
       "      <td>A14</td>\n",
       "      <td>12</td>\n",
       "      <td>A34</td>\n",
       "      <td>A46</td>\n",
       "      <td>2096</td>\n",
       "      <td>A61</td>\n",
       "      <td>A74</td>\n",
       "      <td>2</td>\n",
       "      <td>A93</td>\n",
       "      <td>...</td>\n",
       "      <td>3</td>\n",
       "      <td>A121</td>\n",
       "      <td>49</td>\n",
       "      <td>A143</td>\n",
       "      <td>A152</td>\n",
       "      <td>1</td>\n",
       "      <td>A172</td>\n",
       "      <td>2</td>\n",
       "      <td>A191</td>\n",
       "      <td>A201</td>\n",
       "    </tr>\n",
       "    <tr>\n",
       "      <th>3</th>\n",
       "      <td>0</td>\n",
       "      <td>A11</td>\n",
       "      <td>42</td>\n",
       "      <td>A32</td>\n",
       "      <td>A42</td>\n",
       "      <td>7882</td>\n",
       "      <td>A61</td>\n",
       "      <td>A74</td>\n",
       "      <td>2</td>\n",
       "      <td>A93</td>\n",
       "      <td>...</td>\n",
       "      <td>4</td>\n",
       "      <td>A122</td>\n",
       "      <td>45</td>\n",
       "      <td>A143</td>\n",
       "      <td>A153</td>\n",
       "      <td>1</td>\n",
       "      <td>A173</td>\n",
       "      <td>2</td>\n",
       "      <td>A191</td>\n",
       "      <td>A201</td>\n",
       "    </tr>\n",
       "    <tr>\n",
       "      <th>4</th>\n",
       "      <td>1</td>\n",
       "      <td>A11</td>\n",
       "      <td>24</td>\n",
       "      <td>A33</td>\n",
       "      <td>A40</td>\n",
       "      <td>4870</td>\n",
       "      <td>A61</td>\n",
       "      <td>A73</td>\n",
       "      <td>3</td>\n",
       "      <td>A93</td>\n",
       "      <td>...</td>\n",
       "      <td>4</td>\n",
       "      <td>A124</td>\n",
       "      <td>53</td>\n",
       "      <td>A143</td>\n",
       "      <td>A153</td>\n",
       "      <td>2</td>\n",
       "      <td>A173</td>\n",
       "      <td>2</td>\n",
       "      <td>A191</td>\n",
       "      <td>A201</td>\n",
       "    </tr>\n",
       "  </tbody>\n",
       "</table>\n",
       "<p>5 rows × 21 columns</p>\n",
       "</div>"
      ],
      "text/plain": [
       "   GoodCredit checkingstatus  duration history purpose  amount savings employ  \\\n",
       "0           0            A11         6     A34     A43    1169     A65    A75   \n",
       "1           1            A12        48     A32     A43    5951     A61    A73   \n",
       "2           0            A14        12     A34     A46    2096     A61    A74   \n",
       "3           0            A11        42     A32     A42    7882     A61    A74   \n",
       "4           1            A11        24     A33     A40    4870     A61    A73   \n",
       "\n",
       "   installment status  ... residence  property age  otherplans housing cards  \\\n",
       "0            4    A93  ...         4      A121  67        A143    A152     2   \n",
       "1            2    A92  ...         2      A121  22        A143    A152     1   \n",
       "2            2    A93  ...         3      A121  49        A143    A152     1   \n",
       "3            2    A93  ...         4      A122  45        A143    A153     1   \n",
       "4            3    A93  ...         4      A124  53        A143    A153     2   \n",
       "\n",
       "    job liable  tele foreign  \n",
       "0  A173      1  A192    A201  \n",
       "1  A173      1  A191    A201  \n",
       "2  A172      2  A191    A201  \n",
       "3  A173      2  A191    A201  \n",
       "4  A173      2  A191    A201  \n",
       "\n",
       "[5 rows x 21 columns]"
      ]
     },
     "execution_count": 3,
     "metadata": {},
     "output_type": "execute_result"
    }
   ],
   "source": [
    "import pandas as pd\n",
    "import numpy as np\n",
    "import matplotlib.pyplot as plt\n",
    "\n",
    "CreditDF=pd.read_csv(\"CreditRiskData.csv\")\n",
    "CreditDF.head()"
   ]
  },
  {
   "cell_type": "code",
   "execution_count": 11,
   "id": "922c53f5",
   "metadata": {},
   "outputs": [
    {
     "data": {
      "text/plain": [
       "(1000, 21)"
      ]
     },
     "execution_count": 11,
     "metadata": {},
     "output_type": "execute_result"
    }
   ],
   "source": [
    "CreditDF.shape"
   ]
  },
  {
   "cell_type": "code",
   "execution_count": 12,
   "id": "c3c3c2d3",
   "metadata": {},
   "outputs": [
    {
     "data": {
      "text/plain": [
       "0"
      ]
     },
     "execution_count": 12,
     "metadata": {},
     "output_type": "execute_result"
    }
   ],
   "source": [
    "CreditDF.duplicated().sum()"
   ]
  },
  {
   "cell_type": "markdown",
   "id": "e1d41979",
   "metadata": {},
   "source": [
    "### Defining Problem Statement\n",
    "* Target :- GoodCredit (If given credit choice is good or bad)\n",
    "* Predictors:- duration,history,purpose,amount etc"
   ]
  },
  {
   "cell_type": "markdown",
   "id": "a5783e3f",
   "metadata": {},
   "source": [
    "### Analysing the Distribution of Target Variable\n"
   ]
  },
  {
   "cell_type": "code",
   "execution_count": 13,
   "id": "d2b745ad",
   "metadata": {},
   "outputs": [
    {
     "data": {
      "text/plain": [
       "<AxesSubplot:xlabel='GoodCredit'>"
      ]
     },
     "execution_count": 13,
     "metadata": {},
     "output_type": "execute_result"
    },
    {
     "data": {
      "image/png": "[encoded data removed]",
      "text/plain": [
       "<Figure size 720x360 with 1 Axes>"
      ]
     },
     "metadata": {
      "needs_background": "light"
     },
     "output_type": "display_data"
    }
   ],
   "source": [
    "CreditDF.groupby('GoodCredit').size().plot(kind='bar',figsize=(10,5),color=['red','lightgreen'])\n"
   ]
  },
  {
   "cell_type": "markdown",
   "id": "78c6536e",
   "metadata": {},
   "source": []
  },
  {
   "cell_type": "markdown",
   "id": "c79fd379",
   "metadata": {},
   "source": [
    "### Basic Data Exploration\n",
    "* info()\n",
    "* describe()\n",
    "* nunique()"
   ]
  },
  {
   "cell_type": "code",
   "execution_count": 14,
   "id": "fd57c146",
   "metadata": {},
   "outputs": [
    {
     "name": "stdout",
     "output_type": "stream",
     "text": [
      "<class 'pandas.core.frame.DataFrame'>\n",
      "RangeIndex: 1000 entries, 0 to 999\n",
      "Data columns (total 21 columns):\n",
      " #   Column          Non-Null Count  Dtype \n",
      "---  ------          --------------  ----- \n",
      " 0   GoodCredit      1000 non-null   int64 \n",
      " 1   checkingstatus  1000 non-null   object\n",
      " 2   duration        1000 non-null   int64 \n",
      " 3   history         1000 non-null   object\n",
      " 4   purpose         1000 non-null   object\n",
      " 5   amount          1000 non-null   int64 \n",
      " 6   savings         1000 non-null   object\n",
      " 7   employ          1000 non-null   object\n",
      " 8   installment     1000 non-null   int64 \n",
      " 9   status          1000 non-null   object\n",
      " 10  others          1000 non-null   object\n",
      " 11  residence       1000 non-null   int64 \n",
      " 12  property        1000 non-null   object\n",
      " 13  age             1000 non-null   int64 \n",
      " 14  otherplans      1000 non-null   object\n",
      " 15  housing         1000 non-null   object\n",
      " 16  cards           1000 non-null   int64 \n",
      " 17  job             1000 non-null   object\n",
      " 18  liable          1000 non-null   int64 \n",
      " 19  tele            1000 non-null   object\n",
      " 20  foreign         1000 non-null   object\n",
      "dtypes: int64(8), object(13)\n",
      "memory usage: 164.2+ KB\n"
     ]
    }
   ],
   "source": [
    "CreditDF.info()"
   ]
  },
  {
   "cell_type": "code",
   "execution_count": 15,
   "id": "9469956d",
   "metadata": {},
   "outputs": [
    {
     "name": "stdout",
     "output_type": "stream",
     "text": [
      "         GoodCredit checkingstatus     duration history purpose        amount  \\\n",
      "count   1000.000000           1000  1000.000000    1000    1000   1000.000000   \n",
      "unique          NaN              4          NaN       5      10           NaN   \n",
      "top             NaN            A14          NaN     A32     A43           NaN   \n",
      "freq            NaN            394          NaN     530     280           NaN   \n",
      "mean       0.300000            NaN    20.903000     NaN     NaN   3271.258000   \n",
      "std        0.458487            NaN    12.058814     NaN     NaN   2822.736876   \n",
      "min        0.000000            NaN     4.000000     NaN     NaN    250.000000   \n",
      "25%        0.000000            NaN    12.000000     NaN     NaN   1365.500000   \n",
      "50%        0.000000            NaN    18.000000     NaN     NaN   2319.500000   \n",
      "75%        1.000000            NaN    24.000000     NaN     NaN   3972.250000   \n",
      "max        1.000000            NaN    72.000000     NaN     NaN  18424.000000   \n",
      "\n",
      "       savings employ  installment status  ...    residence  property  \\\n",
      "count     1000   1000  1000.000000   1000  ...  1000.000000      1000   \n",
      "unique       5      5          NaN      4  ...          NaN         4   \n",
      "top        A61    A73          NaN    A93  ...          NaN      A123   \n",
      "freq       603    339          NaN    548  ...          NaN       332   \n",
      "mean       NaN    NaN     2.973000    NaN  ...     2.845000       NaN   \n",
      "std        NaN    NaN     1.118715    NaN  ...     1.103718       NaN   \n",
      "min        NaN    NaN     1.000000    NaN  ...     1.000000       NaN   \n",
      "25%        NaN    NaN     2.000000    NaN  ...     2.000000       NaN   \n",
      "50%        NaN    NaN     3.000000    NaN  ...     3.000000       NaN   \n",
      "75%        NaN    NaN     4.000000    NaN  ...     4.000000       NaN   \n",
      "max        NaN    NaN     4.000000    NaN  ...     4.000000       NaN   \n",
      "\n",
      "                age  otherplans housing        cards   job       liable  tele  \\\n",
      "count   1000.000000        1000    1000  1000.000000  1000  1000.000000  1000   \n",
      "unique          NaN           3       3          NaN     4          NaN     2   \n",
      "top             NaN        A143    A152          NaN  A173          NaN  A191   \n",
      "freq            NaN         814     713          NaN   630          NaN   596   \n",
      "mean      35.546000         NaN     NaN     1.407000   NaN     1.155000   NaN   \n",
      "std       11.375469         NaN     NaN     0.577654   NaN     0.362086   NaN   \n",
      "min       19.000000         NaN     NaN     1.000000   NaN     1.000000   NaN   \n",
      "25%       27.000000         NaN     NaN     1.000000   NaN     1.000000   NaN   \n",
      "50%       33.000000         NaN     NaN     1.000000   NaN     1.000000   NaN   \n",
      "75%       42.000000         NaN     NaN     2.000000   NaN     1.000000   NaN   \n",
      "max       75.000000         NaN     NaN     4.000000   NaN     2.000000   NaN   \n",
      "\n",
      "       foreign  \n",
      "count     1000  \n",
      "unique       2  \n",
      "top       A201  \n",
      "freq       963  \n",
      "mean       NaN  \n",
      "std        NaN  \n",
      "min        NaN  \n",
      "25%        NaN  \n",
      "50%        NaN  \n",
      "75%        NaN  \n",
      "max        NaN  \n",
      "\n",
      "[11 rows x 21 columns]\n"
     ]
    }
   ],
   "source": [
    "print(CreditDF.iloc[:,:].describe(include='all'))"
   ]
  },
  {
   "cell_type": "code",
   "execution_count": 16,
   "id": "186bcbdf",
   "metadata": {},
   "outputs": [
    {
     "data": {
      "text/plain": [
       "GoodCredit          2\n",
       "checkingstatus      4\n",
       "duration           33\n",
       "history             5\n",
       "purpose            10\n",
       "amount            921\n",
       "savings             5\n",
       "employ              5\n",
       "installment         4\n",
       "status              4\n",
       "others              3\n",
       "residence           4\n",
       "property            4\n",
       "age                53\n",
       "otherplans          3\n",
       "housing             3\n",
       "cards               4\n",
       "job                 4\n",
       "liable              2\n",
       "tele                2\n",
       "foreign             2\n",
       "dtype: int64"
      ]
     },
     "execution_count": 16,
     "metadata": {},
     "output_type": "execute_result"
    }
   ],
   "source": [
    "CreditDF.nunique()"
   ]
  },
  {
   "cell_type": "markdown",
   "id": "b1ad5a91",
   "metadata": {},
   "source": [
    "### Data Exploration Result\n",
    "* Target:- GoodCredit\n",
    "* Continuous Predictors:- duration,amount,age\n",
    "* Categoorical Predictors:- checkingstatus,history,employ,etc"
   ]
  },
  {
   "cell_type": "code",
   "execution_count": 17,
   "id": "873654ba",
   "metadata": {},
   "outputs": [
    {
     "data": {
      "text/plain": [
       "Index(['GoodCredit', 'checkingstatus', 'duration', 'history', 'purpose',\n",
       "       'amount', 'savings', 'employ', 'installment', 'status', 'others',\n",
       "       'residence', 'property', 'age', 'otherplans', 'housing', 'cards', 'job',\n",
       "       'liable', 'tele', 'foreign'],\n",
       "      dtype='object')"
      ]
     },
     "execution_count": 17,
     "metadata": {},
     "output_type": "execute_result"
    }
   ],
   "source": [
    "CreditDF.columns"
   ]
  },
  {
   "cell_type": "code",
   "execution_count": 18,
   "id": "f64364a1",
   "metadata": {},
   "outputs": [],
   "source": [
    "Conti=['duration','amount','age']\n",
    "Categ=['checkingstatus', 'history', 'purpose', 'savings', 'employ', 'installment', 'status', 'others','residence', 'property', 'otherplans', 'housing', 'cards', 'job','liable', 'tele', 'foreign']\n",
    "Target='GoodCredit'"
   ]
  },
  {
   "cell_type": "markdown",
   "id": "eb7b156b",
   "metadata": {},
   "source": [
    "### Univariate Analysis\n",
    "* Continuous Variables"
   ]
  },
  {
   "cell_type": "code",
   "execution_count": 19,
   "id": "7edbabed",
   "metadata": {},
   "outputs": [
    {
     "data": {
      "text/plain": [
       "array([[<AxesSubplot:title={'center':'duration'}>,\n",
       "        <AxesSubplot:title={'center':'amount'}>],\n",
       "       [<AxesSubplot:title={'center':'age'}>, <AxesSubplot:>]],\n",
       "      dtype=object)"
      ]
     },
     "execution_count": 19,
     "metadata": {},
     "output_type": "execute_result"
    },
    {
     "data": {
      "image/png": "[encoded data removed]",
      "text/plain": [
       "<Figure size 1440x360 with 4 Axes>"
      ]
     },
     "metadata": {
      "needs_background": "light"
     },
     "output_type": "display_data"
    }
   ],
   "source": [
    "CreditDF[Conti].hist(figsize=(20,5),color='pink',bins=10)"
   ]
  },
  {
   "cell_type": "markdown",
   "id": "6e6f1c9d",
   "metadata": {},
   "source": [
    "* All Predictors have good distribution no need of any treatment"
   ]
  },
  {
   "cell_type": "markdown",
   "id": "79c8cd86",
   "metadata": {},
   "source": [
    "* Categorical Variable"
   ]
  },
  {
   "cell_type": "code",
   "execution_count": 20,
   "id": "68497c72",
   "metadata": {},
   "outputs": [
    {
     "data": {
      "image/png": "[encoded data removed]",
      "text/plain": [
       "<Figure size 1440x360 with 5 Axes>"
      ]
     },
     "metadata": {
      "needs_background": "light"
     },
     "output_type": "display_data"
    }
   ],
   "source": [
    "fig,subplot=plt.subplots(nrows=1,ncols=5,figsize=(20,5))\n",
    "\n",
    "for i,j in zip(Categ,range(5)):\n",
    "    CreditDF.groupby(i).size().plot(kind='bar',ax=subplot[j])"
   ]
  },
  {
   "cell_type": "code",
   "execution_count": 21,
   "id": "76d369e0",
   "metadata": {},
   "outputs": [
    {
     "data": {
      "image/png": "[encoded data removed]",
      "text/plain": [
       "<Figure size 1440x360 with 5 Axes>"
      ]
     },
     "metadata": {
      "needs_background": "light"
     },
     "output_type": "display_data"
    }
   ],
   "source": [
    "fig,subplot=plt.subplots(nrows=1,ncols=5,figsize=(20,5))\n",
    "\n",
    "for i,j in zip(Categ[5:],range(5)):\n",
    "    CreditDF.groupby(i).size().plot(kind='bar',ax=subplot[j])"
   ]
  },
  {
   "cell_type": "code",
   "execution_count": 22,
   "id": "17614710",
   "metadata": {},
   "outputs": [
    {
     "data": {
      "image/png": "[encoded data removed]",
      "text/plain": [
       "<Figure size 1440x360 with 5 Axes>"
      ]
     },
     "metadata": {
      "needs_background": "light"
     },
     "output_type": "display_data"
    }
   ],
   "source": [
    "fig,subplot=plt.subplots(nrows=1,ncols=5,figsize=(20,5))\n",
    "\n",
    "for i,j in zip(Categ[10:],range(5)):\n",
    "    CreditDF.groupby(i).size().plot(kind='bar',ax=subplot[j])"
   ]
  },
  {
   "cell_type": "code",
   "execution_count": 23,
   "id": "55487222",
   "metadata": {},
   "outputs": [
    {
     "data": {
      "image/png": "[encoded data removed]",
      "text/plain": [
       "<Figure size 1440x360 with 2 Axes>"
      ]
     },
     "metadata": {
      "needs_background": "light"
     },
     "output_type": "display_data"
    }
   ],
   "source": [
    "fig,subplot=plt.subplots(nrows=1,ncols=2,figsize=(20,5))\n",
    "\n",
    "for i,j in zip(Categ[15:],range(2)):\n",
    "    CreditDF.groupby(i).size().plot(kind='bar',ax=subplot[j])"
   ]
  },
  {
   "cell_type": "markdown",
   "id": "42d94d7c",
   "metadata": {},
   "source": [
    "#### Foreign and Other have imbalanced distribution we will check its correlation later in Ch2 test "
   ]
  },
  {
   "cell_type": "markdown",
   "id": "c76e9027",
   "metadata": {},
   "source": [
    "### Bivariate Analysis\n",
    "* Continuous vs Categorical"
   ]
  },
  {
   "cell_type": "code",
   "execution_count": 24,
   "id": "fd109312",
   "metadata": {},
   "outputs": [
    {
     "data": {
      "image/png": "[encoded data removed]",
      "text/plain": [
       "<Figure size 1440x360 with 3 Axes>"
      ]
     },
     "metadata": {
      "needs_background": "light"
     },
     "output_type": "display_data"
    }
   ],
   "source": [
    "fig,subplot=plt.subplots(1,3,figsize=(20,5))\n",
    "\n",
    "for i,j in zip(Conti,range(3)):\n",
    "    CreditDF.boxplot(by=Target,column=i,ax=subplot[j])"
   ]
  },
  {
   "cell_type": "markdown",
   "id": "bb5e11dc",
   "metadata": {},
   "source": [
    "### Anova Test"
   ]
  },
  {
   "cell_type": "code",
   "execution_count": 25,
   "id": "7aca8db2",
   "metadata": {},
   "outputs": [
    {
     "name": "stdout",
     "output_type": "stream",
     "text": [
      "Column duration is correlated with Target | P-value:\n",
      "Column amount is correlated with Target | P-value:\n",
      "Column age is correlated with Target | P-value:\n"
     ]
    }
   ],
   "source": [
    "def fun_anova(df,pred,target):\n",
    "    from scipy.stats import f_oneway\n",
    "    \n",
    "    for i in pred:\n",
    "        inp=df.groupby(target)[i].apply(list)\n",
    "        \n",
    "        anov=f_oneway(*inp)\n",
    "        if anov[1]<0.05:\n",
    "            print(\"Column {} is correlated with Target | P-value:\".format(i,anov[1]))\n",
    "        \n",
    "        else:\n",
    "            print(\"Column {} is Not correlated with Target | P-value:\".format(i,anov[1]))\n",
    "            \n",
    "\n",
    "fun_anova(CreditDF,Conti,Target)\n",
    "    "
   ]
  },
  {
   "cell_type": "markdown",
   "id": "2ede4d2e",
   "metadata": {},
   "source": []
  },
  {
   "cell_type": "markdown",
   "id": "7f0359e8",
   "metadata": {},
   "source": [
    "* Categorical vs Categorical"
   ]
  },
  {
   "cell_type": "code",
   "execution_count": 26,
   "id": "8a4779cf",
   "metadata": {},
   "outputs": [
    {
     "data": {
      "image/png": "[encoded data removed]",
      "text/plain": [
       "<Figure size 1440x360 with 5 Axes>"
      ]
     },
     "metadata": {
      "needs_background": "light"
     },
     "output_type": "display_data"
    }
   ],
   "source": [
    "fig,subplot=plt.subplots(nrows=1,ncols=5,figsize=(20,5))\n",
    "\n",
    "for i,j in zip(Categ,range(5)):\n",
    "    pd.crosstab(index=CreditDF[i],columns=CreditDF[Target]).plot(kind='bar',ax=subplot[j])"
   ]
  },
  {
   "cell_type": "code",
   "execution_count": 27,
   "id": "709f234f",
   "metadata": {},
   "outputs": [
    {
     "data": {
      "image/png": "[encoded data removed]",
      "text/plain": [
       "<Figure size 1440x360 with 5 Axes>"
      ]
     },
     "metadata": {
      "needs_background": "light"
     },
     "output_type": "display_data"
    }
   ],
   "source": [
    "fig,subplot=plt.subplots(nrows=1,ncols=5,figsize=(20,5))\n",
    "\n",
    "for i,j in zip(Categ[5:],range(5)):\n",
    "    pd.crosstab(index=CreditDF[i],columns=CreditDF[Target]).plot(kind='bar',ax=subplot[j])"
   ]
  },
  {
   "cell_type": "code",
   "execution_count": 28,
   "id": "3dcd509b",
   "metadata": {},
   "outputs": [
    {
     "data": {
      "image/png": "[encoded data removed]",
      "text/plain": [
       "<Figure size 1440x360 with 5 Axes>"
      ]
     },
     "metadata": {
      "needs_background": "light"
     },
     "output_type": "display_data"
    }
   ],
   "source": [
    "fig,subplot=plt.subplots(nrows=1,ncols=5,figsize=(20,5))\n",
    "\n",
    "for i,j in zip(Categ[10:],range(5)):\n",
    "    pd.crosstab(index=CreditDF[i],columns=CreditDF[Target]).plot(kind='bar',ax=subplot[j])"
   ]
  },
  {
   "cell_type": "code",
   "execution_count": 29,
   "id": "fdc11bdb",
   "metadata": {},
   "outputs": [
    {
     "data": {
      "image/png": "[encoded data removed]",
      "text/plain": [
       "<Figure size 1440x360 with 2 Axes>"
      ]
     },
     "metadata": {
      "needs_background": "light"
     },
     "output_type": "display_data"
    }
   ],
   "source": [
    "fig,subplot=plt.subplots(nrows=1,ncols=2,figsize=(20,5))\n",
    "\n",
    "for i,j in zip(Categ[15:],range(2)):\n",
    "    pd.crosstab(index=CreditDF[i],columns=CreditDF[Target]).plot(kind='bar',ax=subplot[j])"
   ]
  },
  {
   "cell_type": "markdown",
   "id": "0564493c",
   "metadata": {},
   "source": [
    "#### Chi2 Test (Statistical anlysis of correlation)"
   ]
  },
  {
   "cell_type": "code",
   "execution_count": 30,
   "id": "21767898",
   "metadata": {},
   "outputs": [
    {
     "name": "stdout",
     "output_type": "stream",
     "text": [
      "Column checkingstatus is correlated with Target | P-value:\n",
      "Column history is correlated with Target | P-value:\n",
      "Column purpose is correlated with Target | P-value:\n",
      "Column savings is correlated with Target | P-value:\n",
      "Column employ is correlated with Target | P-value:\n",
      "Column installment is Not correlated with Target | P-value:\n",
      "Column status is correlated with Target | P-value:\n",
      "Column others is correlated with Target | P-value:\n",
      "Column residence is Not correlated with Target | P-value:\n",
      "Column property is correlated with Target | P-value:\n",
      "Column otherplans is correlated with Target | P-value:\n",
      "Column housing is correlated with Target | P-value:\n",
      "Column cards is Not correlated with Target | P-value:\n",
      "Column job is Not correlated with Target | P-value:\n",
      "Column liable is Not correlated with Target | P-value:\n",
      "Column tele is Not correlated with Target | P-value:\n",
      "Column foreign is correlated with Target | P-value:\n"
     ]
    }
   ],
   "source": [
    "def fun_ch2(df,pred,target):\n",
    "    from scipy.stats import chi2_contingency\n",
    "    selected_predictors=[]\n",
    "    for i in pred:\n",
    "        inp=pd.crosstab(index=df[i],columns=df[target])\n",
    "        \n",
    "        chi=chi2_contingency(inp)\n",
    "        \n",
    "        if chi[1]<0.05:\n",
    "            print(\"Column {} is correlated with Target | P-value:\".format(i,chi[1]))\n",
    "            selected_predictors.append(i)\n",
    "        \n",
    "        else:\n",
    "            print(\"Column {} is Not correlated with Target | P-value:\".format(i,chi[1]))\n",
    "            \n",
    "    return selected_predictors\n",
    "\n",
    "\n",
    "selected_categ=fun_ch2(CreditDF,Categ,Target)\n",
    "            "
   ]
  },
  {
   "cell_type": "markdown",
   "id": "8897c603",
   "metadata": {},
   "source": [
    "#### Analysis Result\n",
    "* Selected Continuous:- all\n",
    "* Selected Categorical:- 'checkingstatus','history','purpose','savings','employ','status','others','property','otherplans','housing','foreign'\n",
    "* Target:- 'GoodCredit'"
   ]
  },
  {
   "cell_type": "markdown",
   "id": "99868df8",
   "metadata": {},
   "source": [
    "### Extracting data for ML"
   ]
  },
  {
   "cell_type": "code",
   "execution_count": 31,
   "id": "79242dcf",
   "metadata": {},
   "outputs": [
    {
     "data": {
      "text/html": [
       "<div>\n",
       "<style scoped>\n",
       "    .dataframe tbody tr th:only-of-type {\n",
       "        vertical-align: middle;\n",
       "    }\n",
       "\n",
       "    .dataframe tbody tr th {\n",
       "        vertical-align: top;\n",
       "    }\n",
       "\n",
       "    .dataframe thead th {\n",
       "        text-align: right;\n",
       "    }\n",
       "</style>\n",
       "<table border=\"1\" class=\"dataframe\">\n",
       "  <thead>\n",
       "    <tr style=\"text-align: right;\">\n",
       "      <th></th>\n",
       "      <th>duration</th>\n",
       "      <th>amount</th>\n",
       "      <th>age</th>\n",
       "      <th>checkingstatus</th>\n",
       "      <th>history</th>\n",
       "      <th>purpose</th>\n",
       "      <th>savings</th>\n",
       "      <th>employ</th>\n",
       "      <th>status</th>\n",
       "      <th>others</th>\n",
       "      <th>property</th>\n",
       "      <th>otherplans</th>\n",
       "      <th>housing</th>\n",
       "      <th>foreign</th>\n",
       "      <th>GoodCredit</th>\n",
       "    </tr>\n",
       "  </thead>\n",
       "  <tbody>\n",
       "    <tr>\n",
       "      <th>0</th>\n",
       "      <td>6</td>\n",
       "      <td>1169</td>\n",
       "      <td>67</td>\n",
       "      <td>A11</td>\n",
       "      <td>A34</td>\n",
       "      <td>A43</td>\n",
       "      <td>A65</td>\n",
       "      <td>A75</td>\n",
       "      <td>A93</td>\n",
       "      <td>A101</td>\n",
       "      <td>A121</td>\n",
       "      <td>A143</td>\n",
       "      <td>A152</td>\n",
       "      <td>A201</td>\n",
       "      <td>0</td>\n",
       "    </tr>\n",
       "    <tr>\n",
       "      <th>1</th>\n",
       "      <td>48</td>\n",
       "      <td>5951</td>\n",
       "      <td>22</td>\n",
       "      <td>A12</td>\n",
       "      <td>A32</td>\n",
       "      <td>A43</td>\n",
       "      <td>A61</td>\n",
       "      <td>A73</td>\n",
       "      <td>A92</td>\n",
       "      <td>A101</td>\n",
       "      <td>A121</td>\n",
       "      <td>A143</td>\n",
       "      <td>A152</td>\n",
       "      <td>A201</td>\n",
       "      <td>1</td>\n",
       "    </tr>\n",
       "    <tr>\n",
       "      <th>2</th>\n",
       "      <td>12</td>\n",
       "      <td>2096</td>\n",
       "      <td>49</td>\n",
       "      <td>A14</td>\n",
       "      <td>A34</td>\n",
       "      <td>A46</td>\n",
       "      <td>A61</td>\n",
       "      <td>A74</td>\n",
       "      <td>A93</td>\n",
       "      <td>A101</td>\n",
       "      <td>A121</td>\n",
       "      <td>A143</td>\n",
       "      <td>A152</td>\n",
       "      <td>A201</td>\n",
       "      <td>0</td>\n",
       "    </tr>\n",
       "    <tr>\n",
       "      <th>3</th>\n",
       "      <td>42</td>\n",
       "      <td>7882</td>\n",
       "      <td>45</td>\n",
       "      <td>A11</td>\n",
       "      <td>A32</td>\n",
       "      <td>A42</td>\n",
       "      <td>A61</td>\n",
       "      <td>A74</td>\n",
       "      <td>A93</td>\n",
       "      <td>A103</td>\n",
       "      <td>A122</td>\n",
       "      <td>A143</td>\n",
       "      <td>A153</td>\n",
       "      <td>A201</td>\n",
       "      <td>0</td>\n",
       "    </tr>\n",
       "    <tr>\n",
       "      <th>4</th>\n",
       "      <td>24</td>\n",
       "      <td>4870</td>\n",
       "      <td>53</td>\n",
       "      <td>A11</td>\n",
       "      <td>A33</td>\n",
       "      <td>A40</td>\n",
       "      <td>A61</td>\n",
       "      <td>A73</td>\n",
       "      <td>A93</td>\n",
       "      <td>A101</td>\n",
       "      <td>A124</td>\n",
       "      <td>A143</td>\n",
       "      <td>A153</td>\n",
       "      <td>A201</td>\n",
       "      <td>1</td>\n",
       "    </tr>\n",
       "  </tbody>\n",
       "</table>\n",
       "</div>"
      ],
      "text/plain": [
       "   duration  amount  age checkingstatus history purpose savings employ status  \\\n",
       "0         6    1169   67            A11     A34     A43     A65    A75    A93   \n",
       "1        48    5951   22            A12     A32     A43     A61    A73    A92   \n",
       "2        12    2096   49            A14     A34     A46     A61    A74    A93   \n",
       "3        42    7882   45            A11     A32     A42     A61    A74    A93   \n",
       "4        24    4870   53            A11     A33     A40     A61    A73    A93   \n",
       "\n",
       "  others property otherplans housing foreign  GoodCredit  \n",
       "0   A101     A121       A143    A152    A201           0  \n",
       "1   A101     A121       A143    A152    A201           1  \n",
       "2   A101     A121       A143    A152    A201           0  \n",
       "3   A103     A122       A143    A153    A201           0  \n",
       "4   A101     A124       A143    A153    A201           1  "
      ]
     },
     "execution_count": 31,
     "metadata": {},
     "output_type": "execute_result"
    }
   ],
   "source": [
    "CreditML=CreditDF[Conti+selected_categ]\n",
    "CreditML[Target]=CreditDF[Target]\n",
    "CreditML.head()"
   ]
  },
  {
   "cell_type": "markdown",
   "id": "35f5265a",
   "metadata": {},
   "source": [
    "### Preparing Data for ML\n",
    "* Converting Categorical Data to numeriacal"
   ]
  },
  {
   "cell_type": "code",
   "execution_count": null,
   "id": "fa122bc2",
   "metadata": {},
   "outputs": [],
   "source": [
    "CreditML['employ'].replace({'A71':1,'A72':2,'A73':3,'A74':4,'A75':5},inplace=True)# employ column have ordinal properties"
   ]
  },
  {
   "cell_type": "code",
   "execution_count": 33,
   "id": "af8f58ab",
   "metadata": {},
   "outputs": [
    {
     "data": {
      "text/plain": [
       "duration           33\n",
       "amount            921\n",
       "age                53\n",
       "checkingstatus      4\n",
       "history             5\n",
       "purpose            10\n",
       "savings             5\n",
       "employ              5\n",
       "status              4\n",
       "others              3\n",
       "property            4\n",
       "otherplans          3\n",
       "housing             3\n",
       "foreign             2\n",
       "GoodCredit          2\n",
       "dtype: int64"
      ]
     },
     "execution_count": 33,
     "metadata": {},
     "output_type": "execute_result"
    }
   ],
   "source": [
    "CreditML.nunique()"
   ]
  },
  {
   "cell_type": "code",
   "execution_count": 34,
   "id": "aa490b86",
   "metadata": {},
   "outputs": [],
   "source": [
    "CreditML['foreign'].replace({'A201':0,'A202':1},inplace=True)"
   ]
  },
  {
   "cell_type": "code",
   "execution_count": 35,
   "id": "e698cd09",
   "metadata": {
    "tags": []
   },
   "outputs": [
    {
     "data": {
      "text/html": [
       "<div>\n",
       "<style scoped>\n",
       "    .dataframe tbody tr th:only-of-type {\n",
       "        vertical-align: middle;\n",
       "    }\n",
       "\n",
       "    .dataframe tbody tr th {\n",
       "        vertical-align: top;\n",
       "    }\n",
       "\n",
       "    .dataframe thead th {\n",
       "        text-align: right;\n",
       "    }\n",
       "</style>\n",
       "<table border=\"1\" class=\"dataframe\">\n",
       "  <thead>\n",
       "    <tr style=\"text-align: right;\">\n",
       "      <th></th>\n",
       "      <th>duration</th>\n",
       "      <th>amount</th>\n",
       "      <th>age</th>\n",
       "      <th>employ</th>\n",
       "      <th>foreign</th>\n",
       "      <th>GoodCredit</th>\n",
       "      <th>checkingstatus_A11</th>\n",
       "      <th>checkingstatus_A12</th>\n",
       "      <th>checkingstatus_A13</th>\n",
       "      <th>checkingstatus_A14</th>\n",
       "      <th>...</th>\n",
       "      <th>property_A121</th>\n",
       "      <th>property_A122</th>\n",
       "      <th>property_A123</th>\n",
       "      <th>property_A124</th>\n",
       "      <th>otherplans_A141</th>\n",
       "      <th>otherplans_A142</th>\n",
       "      <th>otherplans_A143</th>\n",
       "      <th>housing_A151</th>\n",
       "      <th>housing_A152</th>\n",
       "      <th>housing_A153</th>\n",
       "    </tr>\n",
       "  </thead>\n",
       "  <tbody>\n",
       "    <tr>\n",
       "      <th>0</th>\n",
       "      <td>6</td>\n",
       "      <td>1169</td>\n",
       "      <td>67</td>\n",
       "      <td>5</td>\n",
       "      <td>0</td>\n",
       "      <td>0</td>\n",
       "      <td>1</td>\n",
       "      <td>0</td>\n",
       "      <td>0</td>\n",
       "      <td>0</td>\n",
       "      <td>...</td>\n",
       "      <td>1</td>\n",
       "      <td>0</td>\n",
       "      <td>0</td>\n",
       "      <td>0</td>\n",
       "      <td>0</td>\n",
       "      <td>0</td>\n",
       "      <td>1</td>\n",
       "      <td>0</td>\n",
       "      <td>1</td>\n",
       "      <td>0</td>\n",
       "    </tr>\n",
       "    <tr>\n",
       "      <th>1</th>\n",
       "      <td>48</td>\n",
       "      <td>5951</td>\n",
       "      <td>22</td>\n",
       "      <td>3</td>\n",
       "      <td>0</td>\n",
       "      <td>1</td>\n",
       "      <td>0</td>\n",
       "      <td>1</td>\n",
       "      <td>0</td>\n",
       "      <td>0</td>\n",
       "      <td>...</td>\n",
       "      <td>1</td>\n",
       "      <td>0</td>\n",
       "      <td>0</td>\n",
       "      <td>0</td>\n",
       "      <td>0</td>\n",
       "      <td>0</td>\n",
       "      <td>1</td>\n",
       "      <td>0</td>\n",
       "      <td>1</td>\n",
       "      <td>0</td>\n",
       "    </tr>\n",
       "    <tr>\n",
       "      <th>2</th>\n",
       "      <td>12</td>\n",
       "      <td>2096</td>\n",
       "      <td>49</td>\n",
       "      <td>4</td>\n",
       "      <td>0</td>\n",
       "      <td>0</td>\n",
       "      <td>0</td>\n",
       "      <td>0</td>\n",
       "      <td>0</td>\n",
       "      <td>1</td>\n",
       "      <td>...</td>\n",
       "      <td>1</td>\n",
       "      <td>0</td>\n",
       "      <td>0</td>\n",
       "      <td>0</td>\n",
       "      <td>0</td>\n",
       "      <td>0</td>\n",
       "      <td>1</td>\n",
       "      <td>0</td>\n",
       "      <td>1</td>\n",
       "      <td>0</td>\n",
       "    </tr>\n",
       "    <tr>\n",
       "      <th>3</th>\n",
       "      <td>42</td>\n",
       "      <td>7882</td>\n",
       "      <td>45</td>\n",
       "      <td>4</td>\n",
       "      <td>0</td>\n",
       "      <td>0</td>\n",
       "      <td>1</td>\n",
       "      <td>0</td>\n",
       "      <td>0</td>\n",
       "      <td>0</td>\n",
       "      <td>...</td>\n",
       "      <td>0</td>\n",
       "      <td>1</td>\n",
       "      <td>0</td>\n",
       "      <td>0</td>\n",
       "      <td>0</td>\n",
       "      <td>0</td>\n",
       "      <td>1</td>\n",
       "      <td>0</td>\n",
       "      <td>0</td>\n",
       "      <td>1</td>\n",
       "    </tr>\n",
       "    <tr>\n",
       "      <th>4</th>\n",
       "      <td>24</td>\n",
       "      <td>4870</td>\n",
       "      <td>53</td>\n",
       "      <td>3</td>\n",
       "      <td>0</td>\n",
       "      <td>1</td>\n",
       "      <td>1</td>\n",
       "      <td>0</td>\n",
       "      <td>0</td>\n",
       "      <td>0</td>\n",
       "      <td>...</td>\n",
       "      <td>0</td>\n",
       "      <td>0</td>\n",
       "      <td>0</td>\n",
       "      <td>1</td>\n",
       "      <td>0</td>\n",
       "      <td>0</td>\n",
       "      <td>1</td>\n",
       "      <td>0</td>\n",
       "      <td>0</td>\n",
       "      <td>1</td>\n",
       "    </tr>\n",
       "  </tbody>\n",
       "</table>\n",
       "<p>5 rows × 47 columns</p>\n",
       "</div>"
      ],
      "text/plain": [
       "   duration  amount  age  employ  foreign  GoodCredit  checkingstatus_A11  \\\n",
       "0         6    1169   67       5        0           0                   1   \n",
       "1        48    5951   22       3        0           1                   0   \n",
       "2        12    2096   49       4        0           0                   0   \n",
       "3        42    7882   45       4        0           0                   1   \n",
       "4        24    4870   53       3        0           1                   1   \n",
       "\n",
       "   checkingstatus_A12  checkingstatus_A13  checkingstatus_A14  ...  \\\n",
       "0                   0                   0                   0  ...   \n",
       "1                   1                   0                   0  ...   \n",
       "2                   0                   0                   1  ...   \n",
       "3                   0                   0                   0  ...   \n",
       "4                   0                   0                   0  ...   \n",
       "\n",
       "   property_A121  property_A122  property_A123  property_A124  \\\n",
       "0              1              0              0              0   \n",
       "1              1              0              0              0   \n",
       "2              1              0              0              0   \n",
       "3              0              1              0              0   \n",
       "4              0              0              0              1   \n",
       "\n",
       "   otherplans_A141  otherplans_A142  otherplans_A143  housing_A151  \\\n",
       "0                0                0                1             0   \n",
       "1                0                0                1             0   \n",
       "2                0                0                1             0   \n",
       "3                0                0                1             0   \n",
       "4                0                0                1             0   \n",
       "\n",
       "   housing_A152  housing_A153  \n",
       "0             1             0  \n",
       "1             1             0  \n",
       "2             1             0  \n",
       "3             0             1  \n",
       "4             0             1  \n",
       "\n",
       "[5 rows x 47 columns]"
      ]
     },
     "execution_count": 35,
     "metadata": {},
     "output_type": "execute_result"
    }
   ],
   "source": [
    "CreditML=pd.get_dummies(CreditML)\n",
    "CreditML.head()"
   ]
  },
  {
   "cell_type": "code",
   "execution_count": 36,
   "id": "bd95202c-c955-42a6-9e22-d5bd5a308278",
   "metadata": {},
   "outputs": [],
   "source": [
    "CreditML.to_pickle(\"Credit_Data.pkl\")"
   ]
  },
  {
   "cell_type": "code",
   "execution_count": 37,
   "id": "7e1f9d16",
   "metadata": {},
   "outputs": [],
   "source": [
    "FinalPredictors=list(CreditML.columns)#\n",
    "FinalPredictors.remove('GoodCredit')"
   ]
  },
  {
   "cell_type": "code",
   "execution_count": 38,
   "id": "1bfb807e",
   "metadata": {},
   "outputs": [
    {
     "data": {
      "text/plain": [
       "['duration',\n",
       " 'amount',\n",
       " 'age',\n",
       " 'employ',\n",
       " 'foreign',\n",
       " 'checkingstatus_A11',\n",
       " 'checkingstatus_A12',\n",
       " 'checkingstatus_A13',\n",
       " 'checkingstatus_A14',\n",
       " 'history_A30',\n",
       " 'history_A31',\n",
       " 'history_A32',\n",
       " 'history_A33',\n",
       " 'history_A34',\n",
       " 'purpose_A40',\n",
       " 'purpose_A41',\n",
       " 'purpose_A410',\n",
       " 'purpose_A42',\n",
       " 'purpose_A43',\n",
       " 'purpose_A44',\n",
       " 'purpose_A45',\n",
       " 'purpose_A46',\n",
       " 'purpose_A48',\n",
       " 'purpose_A49',\n",
       " 'savings_A61',\n",
       " 'savings_A62',\n",
       " 'savings_A63',\n",
       " 'savings_A64',\n",
       " 'savings_A65',\n",
       " 'status_A91',\n",
       " 'status_A92',\n",
       " 'status_A93',\n",
       " 'status_A94',\n",
       " 'others_A101',\n",
       " 'others_A102',\n",
       " 'others_A103',\n",
       " 'property_A121',\n",
       " 'property_A122',\n",
       " 'property_A123',\n",
       " 'property_A124',\n",
       " 'otherplans_A141',\n",
       " 'otherplans_A142',\n",
       " 'otherplans_A143',\n",
       " 'housing_A151',\n",
       " 'housing_A152',\n",
       " 'housing_A153']"
      ]
     },
     "execution_count": 38,
     "metadata": {},
     "output_type": "execute_result"
    }
   ],
   "source": [
    "FinalPredictors"
   ]
  },
  {
   "cell_type": "markdown",
   "id": "8aa850b5",
   "metadata": {},
   "source": [
    "* Standardizing / Normalizing Data"
   ]
  },
  {
   "cell_type": "code",
   "execution_count": 39,
   "id": "3a87f02b",
   "metadata": {},
   "outputs": [],
   "source": [
    "X=CreditML[FinalPredictors].values\n",
    "y=CreditML[Target].values"
   ]
  },
  {
   "cell_type": "code",
   "execution_count": 40,
   "id": "f4bfb7da",
   "metadata": {},
   "outputs": [
    {
     "data": {
      "text/plain": [
       "array([[0.02941176, 0.05056674, 0.85714286, ..., 0.        , 1.        ,\n",
       "        0.        ],\n",
       "       [0.64705882, 0.31368989, 0.05357143, ..., 0.        , 1.        ,\n",
       "        0.        ],\n",
       "       [0.11764706, 0.10157368, 0.53571429, ..., 0.        , 1.        ,\n",
       "        0.        ],\n",
       "       ...,\n",
       "       [0.11764706, 0.03048311, 0.33928571, ..., 0.        , 1.        ,\n",
       "        0.        ],\n",
       "       [0.60294118, 0.08776274, 0.07142857, ..., 0.        , 0.        ,\n",
       "        1.        ],\n",
       "       [0.60294118, 0.23803235, 0.14285714, ..., 0.        , 1.        ,\n",
       "        0.        ]])"
      ]
     },
     "execution_count": 40,
     "metadata": {},
     "output_type": "execute_result"
    }
   ],
   "source": [
    "from sklearn.preprocessing import MinMaxScaler\n",
    "\n",
    "X=MinMaxScaler().fit_transform(X)\n",
    "X"
   ]
  },
  {
   "cell_type": "markdown",
   "id": "d9e12598",
   "metadata": {},
   "source": [
    "* Splitting Data into Train and Test"
   ]
  },
  {
   "cell_type": "code",
   "execution_count": 41,
   "id": "548a2360",
   "metadata": {},
   "outputs": [
    {
     "name": "stdout",
     "output_type": "stream",
     "text": [
      "(700, 46)\n",
      "(300, 46)\n",
      "(700,)\n",
      "(300,)\n"
     ]
    }
   ],
   "source": [
    "from sklearn.model_selection import train_test_split\n",
    "\n",
    "X_train,X_test,y_train,y_test=train_test_split(X,y,test_size=0.3,random_state=42)\n",
    "\n",
    "print(X_train.shape,X_test.shape,y_train.shape,y_test.shape,sep='\\n')"
   ]
  },
  {
   "cell_type": "code",
   "execution_count": null,
   "id": "31105d7f",
   "metadata": {},
   "outputs": [],
   "source": []
  },
  {
   "cell_type": "markdown",
   "id": "3b965b55",
   "metadata": {},
   "source": [
    "### Logistic Regression"
   ]
  },
  {
   "cell_type": "code",
   "execution_count": 42,
   "id": "df0667af",
   "metadata": {},
   "outputs": [
    {
     "name": "stdout",
     "output_type": "stream",
     "text": [
      "              precision    recall  f1-score   support\n",
      "\n",
      "           0       0.80      0.90      0.85       209\n",
      "           1       0.68      0.47      0.56        91\n",
      "\n",
      "    accuracy                           0.77       300\n",
      "   macro avg       0.74      0.69      0.70       300\n",
      "weighted avg       0.76      0.77      0.76       300\n",
      "\n",
      "F1 score of fitted Model is  0.7598423698872129\n",
      "<sklearn.metrics._plot.confusion_matrix.ConfusionMatrixDisplay object at 0x000001B8AFB4C850>\n"
     ]
    },
    {
     "data": {
      "image/png": "[encoded data removed]",
      "text/plain": [
       "<Figure size 432x288 with 2 Axes>"
      ]
     },
     "metadata": {
      "needs_background": "light"
     },
     "output_type": "display_data"
    },
    {
     "name": "stdout",
     "output_type": "stream",
     "text": [
      "[0.78666667 0.66403326 0.75159817 0.71776316 0.76028751 0.80460526\n",
      " 0.63733333 0.77519841 0.77229833 0.7343254 ]\n",
      "Final average accuracy of model is :- 0.74\n",
      "Accuracy score on Test data is : 0.77\n"
     ]
    }
   ],
   "source": [
    "from sklearn.linear_model import LogisticRegression\n",
    "from sklearn.metrics import classification_report,confusion_matrix\n",
    "from sklearn import metrics\n",
    "from sklearn.model_selection import cross_val_score\n",
    "\n",
    "\n",
    "LR=LogisticRegression(C=1,penalty='l2',solver='newton-cg')\n",
    "\n",
    "LR.fit(X_train,y_train)\n",
    "\n",
    "predLR=LR.predict(X_test)\n",
    "\n",
    "print(classification_report(y_test,predLR))\n",
    "print(\"F1 score of fitted Model is \",metrics.f1_score(y_test,predLR,average='weighted'))\n",
    "\n",
    "print(metrics.plot_confusion_matrix(LR,X_test,y_test))\n",
    "plt.show()\n",
    "# print(confusion_matrix(y_test,predLR))\n",
    "\n",
    "CV=cross_val_score(LR,X,y,cv=10,scoring='f1_weighted')\n",
    "print(CV)\n",
    "print(\"Final average accuracy of model is :-\",round(np.mean(CV),2))\n",
    "print(\"Accuracy score on Test data is :\",round(metrics.accuracy_score(y_test,predLR),2))\n",
    "\n"
   ]
  },
  {
   "cell_type": "code",
   "execution_count": null,
   "id": "8f647424",
   "metadata": {},
   "outputs": [],
   "source": []
  },
  {
   "cell_type": "markdown",
   "id": "1dc5248a",
   "metadata": {},
   "source": [
    "### Decision Tree"
   ]
  },
  {
   "cell_type": "code",
   "execution_count": 43,
   "id": "7aaceeec",
   "metadata": {},
   "outputs": [
    {
     "name": "stdout",
     "output_type": "stream",
     "text": [
      "              precision    recall  f1-score   support\n",
      "\n",
      "           0       0.75      0.89      0.82       209\n",
      "           1       0.57      0.33      0.42        91\n",
      "\n",
      "    accuracy                           0.72       300\n",
      "   macro avg       0.66      0.61      0.62       300\n",
      "weighted avg       0.70      0.72      0.69       300\n",
      "\n",
      "F1 score of fitted Model is  0.6947222222222222\n",
      "<sklearn.metrics._plot.confusion_matrix.ConfusionMatrixDisplay object at 0x000001B8AF848C40>\n"
     ]
    },
    {
     "data": {
      "image/png": "[encoded data removed]",
      "text/plain": [
       "<Figure size 432x288 with 2 Axes>"
      ]
     },
     "metadata": {
      "needs_background": "light"
     },
     "output_type": "display_data"
    },
    {
     "name": "stdout",
     "output_type": "stream",
     "text": [
      "[0.69618234 0.7026648  0.76397059 0.74802495 0.66029759 0.66837506\n",
      " 0.6785546  0.7511499  0.68344988 0.68      ]\n",
      "Final average accuracy of model is :- 0.7033\n",
      "Accuracy score on Test data is : 0.72\n"
     ]
    },
    {
     "data": {
      "text/plain": [
       "<AxesSubplot:title={'center':'Feature Importances :'}>"
      ]
     },
     "execution_count": 43,
     "metadata": {},
     "output_type": "execute_result"
    },
    {
     "data": {
      "image/png": "[encoded data removed]",
      "text/plain": [
       "<Figure size 432x288 with 1 Axes>"
      ]
     },
     "metadata": {
      "needs_background": "light"
     },
     "output_type": "display_data"
    }
   ],
   "source": [
    "from sklearn.tree import DecisionTreeClassifier\n",
    "\n",
    "DT=DecisionTreeClassifier(max_depth=9,criterion='entropy')\n",
    "DT.fit(X_train,y_train)\n",
    "predDT=DT.predict(X_test)\n",
    "\n",
    "print(classification_report(y_test,predDT))\n",
    "print(\"F1 score of fitted Model is \",metrics.f1_score(y_test,predDT,average='weighted'))\n",
    "\n",
    "print(metrics.plot_confusion_matrix(DT,X_test,y_test))\n",
    "plt.show()\n",
    "# print(confusion_matrix(y_test,predDT))\n",
    "\n",
    "CV=cross_val_score(DT,X,y,cv=10,scoring='f1_weighted')\n",
    "print(CV)\n",
    "print(\"Final average accuracy of model is :-\",round(np.mean(CV),4))\n",
    "print(\"Accuracy score on Test data is :\",metrics.accuracy_score(y_test,predDT))\n",
    "\n",
    "features=pd.Series(DT.feature_importances_,index=FinalPredictors)\n",
    "features.nlargest(10).plot(kind='barh',title=\"Feature Importances :\")"
   ]
  },
  {
   "cell_type": "code",
   "execution_count": null,
   "id": "243923a7",
   "metadata": {},
   "outputs": [],
   "source": []
  },
  {
   "cell_type": "code",
   "execution_count": 56,
   "id": "20cd28cf-24f7-4423-beff-02c321aef35c",
   "metadata": {},
   "outputs": [
    {
     "name": "stdout",
     "output_type": "stream",
     "text": [
      "              precision    recall  f1-score   support\n",
      "\n",
      "           0       0.79      0.87      0.83       209\n",
      "           1       0.61      0.48      0.54        91\n",
      "\n",
      "    accuracy                           0.75       300\n",
      "   macro avg       0.70      0.67      0.68       300\n",
      "weighted avg       0.74      0.75      0.74       300\n",
      "\n",
      "F1 score of fitted Model is  0.7408642304614562\n",
      "<sklearn.metrics._plot.confusion_matrix.ConfusionMatrixDisplay object at 0x000001B8AF9ACEE0>\n"
     ]
    },
    {
     "data": {
      "image/png": "[encoded data removed]",
      "text/plain": [
       "<Figure size 432x288 with 2 Axes>"
      ]
     },
     "metadata": {
      "needs_background": "light"
     },
     "output_type": "display_data"
    },
    {
     "name": "stdout",
     "output_type": "stream",
     "text": [
      "[0.744      0.6508488  0.66649547 0.74604343 0.70541038 0.78289474\n",
      " 0.65606469 0.67301587 0.66879756 0.7257269 ]\n",
      "Final average accuracy of model is :- 0.7\n",
      "Accuracy score on Test data is : 0.75\n"
     ]
    }
   ],
   "source": [
    "from sklearn.neighbors import KNeighborsClassifier\n",
    "\n",
    "KNN=KNeighborsClassifier(n_neighbors=3,metric='euclidean')\n",
    "\n",
    "KNN.fit(X_train,y_train)\n",
    "\n",
    "predKN=KNN.predict(X_test)\n",
    "\n",
    "print(classification_report(y_test,predKN))\n",
    "print(\"F1 score of fitted Model is \",metrics.f1_score(y_test,predKN,average='weighted'))\n",
    "\n",
    "print(metrics.plot_confusion_matrix(KNN,X_test,y_test))\n",
    "plt.show()\n",
    "# print(confusion_matrix(y_test,predLR))\n",
    "\n",
    "CV=cross_val_score(KNN,X,y,cv=10,scoring='f1_weighted')\n",
    "print(CV)\n",
    "print(\"Final average accuracy of model is :-\",round(np.mean(CV),2))\n",
    "print(\"Accuracy score on Test data is :\",round(metrics.accuracy_score(y_test,predKN),2))\n",
    "\n",
    "\n",
    "\n"
   ]
  },
  {
   "cell_type": "code",
   "execution_count": 82,
   "id": "19f24205-5f35-4b8c-9b1c-8845753be67f",
   "metadata": {},
   "outputs": [
    {
     "name": "stdout",
     "output_type": "stream",
     "text": [
      "              precision    recall  f1-score   support\n",
      "\n",
      "           0       0.79      0.92      0.85       209\n",
      "           1       0.70      0.44      0.54        91\n",
      "\n",
      "    accuracy                           0.77       300\n",
      "   macro avg       0.75      0.68      0.70       300\n",
      "weighted avg       0.76      0.77      0.76       300\n",
      "\n",
      "F1 score of fitted Model is  0.7558223710436099\n",
      "<sklearn.metrics._plot.confusion_matrix.ConfusionMatrixDisplay object at 0x000001B8B1578B50>\n"
     ]
    },
    {
     "data": {
      "image/png": "[encoded data removed]",
      "text/plain": [
       "<Figure size 432x288 with 2 Axes>"
      ]
     },
     "metadata": {
      "needs_background": "light"
     },
     "output_type": "display_data"
    },
    {
     "name": "stdout",
     "output_type": "stream",
     "text": [
      "[0.82013423 0.72043011 0.76028751 0.73438735 0.78289474 0.73044946\n",
      " 0.73947368 0.81711042 0.68801189 0.72702703]\n",
      "Final average accuracy of model is :- 0.752\n",
      "Accuracy score on Test data is : 0.7733333333333333\n"
     ]
    },
    {
     "data": {
      "text/plain": [
       "<AxesSubplot:title={'center':'Feature Importances :'}>"
      ]
     },
     "execution_count": 82,
     "metadata": {},
     "output_type": "execute_result"
    },
    {
     "data": {
      "image/png": "[encoded data removed]",
      "text/plain": [
       "<Figure size 432x288 with 1 Axes>"
      ]
     },
     "metadata": {
      "needs_background": "light"
     },
     "output_type": "display_data"
    }
   ],
   "source": [
    "from sklearn.ensemble import RandomForestClassifier\n",
    "\n",
    "RFC=RandomForestClassifier(n_estimators=100,max_depth=12,criterion='entropy')\n",
    "\n",
    "RFC.fit(X_train,y_train)\n",
    "\n",
    "predRFC=RFC.predict(X_test)\n",
    "\n",
    "print(classification_report(y_test,predRFC))\n",
    "print(\"F1 score of fitted Model is \",metrics.f1_score(y_test,predRFC,average='weighted'))\n",
    "\n",
    "print(metrics.plot_confusion_matrix(RFC,X_test,y_test))\n",
    "plt.show()\n",
    "# print(confusion_matrix(y_test,predDT))\n",
    "\n",
    "CV=cross_val_score(RFC,X,y,cv=10,scoring='f1_weighted')\n",
    "print(CV)\n",
    "print(\"Final average accuracy of model is :-\",round(np.mean(CV),4))\n",
    "print(\"Accuracy score on Test data is :\",metrics.accuracy_score(y_test,predRFC))\n",
    "\n",
    "features=pd.Series(RFC.feature_importances_,index=FinalPredictors)\n",
    "features.nlargest(10).plot(kind='barh',title=\"Feature Importances :\")\n"
   ]
  },
  {
   "cell_type": "markdown",
   "id": "1b2943f0",
   "metadata": {},
   "source": [
    "### Dimensionality Reduction"
   ]
  },
  {
   "cell_type": "code",
   "execution_count": 5,
   "id": "11b740cf-5d78-4c3f-ac19-c8b87c1d15e2",
   "metadata": {},
   "outputs": [
    {
     "data": {
      "text/plain": [
       "array([99.99714577, 99.99878853, 99.99988483, 99.99990012, 99.99991338,\n",
       "       99.99992084, 99.99992698, 99.99993236, 99.99993729, 99.9999417 ,\n",
       "       99.99994577, 99.99994968, 99.99995335, 99.99995684, 99.9999602 ,\n",
       "       99.99996334, 99.99996614, 99.99996876, 99.99997124, 99.99997351])"
      ]
     },
     "execution_count": 5,
     "metadata": {},
     "output_type": "execute_result"
    }
   ],
   "source": [
    "from sklearn.decomposition import PCA\n",
    "\n",
    "pca=PCA(n_components=20)\n",
    "\n",
    "pca.fit_transform(pd.get_dummies(CreditDF.drop('GoodCredit',axis=1)).values)\n",
    "explained_variance=pca.explained_variance_ratio_\n",
    "\n",
    "explained_variance=np.cumsum(explained_variance)*100\n",
    "explained_variance\n",
    "plt.plot(explained_variance)"
   ]
  },
  {
   "cell_type": "code",
   "execution_count": 7,
   "id": "4c3a5473",
   "metadata": {},
   "outputs": [],
   "source": [
    "# generating 2 pca components\n",
    "\n",
    "pca=PCA(n_components=2)\n",
    "pca_comp=pca.fit_transform(pd.get_dummies(CreditDF.drop('GoodCredit',axis=1)).values)\n",
    "X=pca_comp\n",
    "y=CreditDF['GoodCredit'].values\n",
    "from sklearn.preprocessing import StandardScaler,MinMaxScaler\n",
    "# mm=MinMaxScaler()\n",
    "# Any one\n",
    "ss=StandardScaler()\n",
    "# X=mm.fit_transform(X)\n",
    "X=ss.fit_transform(X)\n",
    "from sklearn.model_selection import train_test_split\n",
    "\n",
    "X_train,X_test,y_train,y_test=train_test_split(X,y,test_size=0.3,random_state=3)"
   ]
  },
  {
   "cell_type": "markdown",
   "id": "0ba41d42",
   "metadata": {},
   "source": [
    "### Decision Trees"
   ]
  },
  {
   "cell_type": "code",
   "execution_count": 9,
   "id": "9962b618-8440-4e15-8270-9ae9d3d79e49",
   "metadata": {},
   "outputs": [
    {
     "name": "stdout",
     "output_type": "stream",
     "text": [
      "              precision    recall  f1-score   support\n",
      "\n",
      "           0       0.86      0.72      0.78       256\n",
      "           1       0.15      0.30      0.20        44\n",
      "\n",
      "    accuracy                           0.66       300\n",
      "   macro avg       0.50      0.51      0.49       300\n",
      "weighted avg       0.75      0.66      0.70       300\n",
      "\n",
      "F1 score of Fitted Model is : 0.6962840073075593\n",
      "<sklearn.metrics._plot.confusion_matrix.ConfusionMatrixDisplay object at 0x00000205B3BF9C10>\n"
     ]
    },
    {
     "data": {
      "image/png": "[encoded data removed]",
      "text/plain": [
       "<Figure size 432x288 with 2 Axes>"
      ]
     },
     "metadata": {
      "needs_background": "light"
     },
     "output_type": "display_data"
    },
    {
     "name": "stdout",
     "output_type": "stream",
     "text": [
      "[0.69909584 0.59071464 0.60267559 0.63822844 0.56590947 0.62263368\n",
      " 0.58042979 0.63669274 0.62263368 0.58981439]\n",
      "Final averge f1 score of model is : 0.6148828261754445\n",
      "Test Accuracy of Model is :  0.6566666666666666\n"
     ]
    }
   ],
   "source": [
    "from sklearn.metrics import classification_report,plot_confusion_matrix\n",
    "from sklearn.metrics import f1_score,accuracy_score\n",
    "from sklearn.model_selection import cross_val_score\n",
    "from sklearn.tree import DecisionTreeClassifier\n",
    "\n",
    "DT=DecisionTreeClassifier(max_depth=7,criterion='entropy')\n",
    "\n",
    "DT.fit(X_train,y_train)\n",
    "predDT=DT.predict(X_test)\n",
    "\n",
    "print(classification_report(predDT,y_test))\n",
    "print(\"F1 score of Fitted Model is :\",f1_score(predDT,y_test,average='weighted'))\n",
    "print(plot_confusion_matrix(DT,X_test,y_test))\n",
    "plt.show()\n",
    "\n",
    "cv=cross_val_score(DT,X,y,cv=10,scoring='f1_weighted')\n",
    "\n",
    "print(cv)\n",
    "print(\"Final averge f1 score of model is :\",np.mean(cv))\n",
    "print(\"Test Accuracy of Model is : \",accuracy_score(predDT,y_test))\n",
    "\n",
    "\n"
   ]
  },
  {
   "cell_type": "code",
   "execution_count": null,
   "id": "7894bf51-37c1-479a-989a-273c7607837e",
   "metadata": {},
   "outputs": [],
   "source": []
  },
  {
   "cell_type": "code",
   "execution_count": null,
   "id": "cb46d871-e77b-4551-92a0-6aaf6b5c2fbc",
   "metadata": {},
   "outputs": [],
   "source": []
  }
 ],
 "metadata": {
  "kernelspec": {
   "display_name": "Python 3 (ipykernel)",
   "language": "python",
   "name": "python3"
  },
  "language_info": {
   "codemirror_mode": {
    "name": "ipython",
    "version": 3
   },
   "file_extension": ".py",
   "mimetype": "text/x-python",
   "name": "python",
   "nbconvert_exporter": "python",
   "pygments_lexer": "ipython3",
   "version": "3.8.3"
  }
 },
 "nbformat": 4,
 "nbformat_minor": 5
}
