{
 "cells": [
  {
   "cell_type": "code",
   "execution_count": 61,
   "id": "9db1ff5f-b6a2-436f-9083-1d860c905cdc",
   "metadata": {},
   "outputs": [],
   "source": [
    "import warnings\n",
    "warnings.filterwarnings('ignore')"
   ]
  },
  {
   "cell_type": "code",
   "execution_count": 62,
   "id": "87208f0a-f600-4de6-a0da-2eb26f55f952",
   "metadata": {},
   "outputs": [
    {
     "data": {
      "text/html": [
       "<div>\n",
       "<style scoped>\n",
       "    .dataframe tbody tr th:only-of-type {\n",
       "        vertical-align: middle;\n",
       "    }\n",
       "\n",
       "    .dataframe tbody tr th {\n",
       "        vertical-align: top;\n",
       "    }\n",
       "\n",
       "    .dataframe thead th {\n",
       "        text-align: right;\n",
       "    }\n",
       "</style>\n",
       "<table border=\"1\" class=\"dataframe\">\n",
       "  <thead>\n",
       "    <tr style=\"text-align: right;\">\n",
       "      <th></th>\n",
       "      <th>VistID</th>\n",
       "      <th>Time_Spent</th>\n",
       "      <th>Age</th>\n",
       "      <th>Avg_Income</th>\n",
       "      <th>Internet_Usage</th>\n",
       "      <th>Ad_Topic</th>\n",
       "      <th>Country_Name</th>\n",
       "      <th>City_code</th>\n",
       "      <th>Male</th>\n",
       "      <th>Time_Period</th>\n",
       "      <th>Weekday</th>\n",
       "      <th>Month</th>\n",
       "      <th>Year</th>\n",
       "      <th>Clicked</th>\n",
       "    </tr>\n",
       "  </thead>\n",
       "  <tbody>\n",
       "    <tr>\n",
       "      <th>0</th>\n",
       "      <td>5183153</td>\n",
       "      <td>87.97</td>\n",
       "      <td>43</td>\n",
       "      <td>55901.12</td>\n",
       "      <td>185.46</td>\n",
       "      <td>product_11</td>\n",
       "      <td>Serbia</td>\n",
       "      <td>City_5</td>\n",
       "      <td>No</td>\n",
       "      <td>Mid-Night</td>\n",
       "      <td>Thursday</td>\n",
       "      <td>July</td>\n",
       "      <td>2020</td>\n",
       "      <td>0</td>\n",
       "    </tr>\n",
       "    <tr>\n",
       "      <th>1</th>\n",
       "      <td>4023265</td>\n",
       "      <td>51.63</td>\n",
       "      <td>50</td>\n",
       "      <td>39132.00</td>\n",
       "      <td>176.73</td>\n",
       "      <td>product_8</td>\n",
       "      <td>Turkmenistan</td>\n",
       "      <td>City_1</td>\n",
       "      <td>No</td>\n",
       "      <td>Evening</td>\n",
       "      <td>Saturday</td>\n",
       "      <td>June</td>\n",
       "      <td>2020</td>\n",
       "      <td>1</td>\n",
       "    </tr>\n",
       "    <tr>\n",
       "      <th>2</th>\n",
       "      <td>4708083</td>\n",
       "      <td>82.37</td>\n",
       "      <td>38</td>\n",
       "      <td>57032.36</td>\n",
       "      <td>210.60</td>\n",
       "      <td>product_6</td>\n",
       "      <td>Northern Mariana Islands</td>\n",
       "      <td>City_2</td>\n",
       "      <td>No</td>\n",
       "      <td>Morning</td>\n",
       "      <td>Tuesday</td>\n",
       "      <td>January</td>\n",
       "      <td>2020</td>\n",
       "      <td>0</td>\n",
       "    </tr>\n",
       "    <tr>\n",
       "      <th>3</th>\n",
       "      <td>9771815</td>\n",
       "      <td>62.06</td>\n",
       "      <td>45</td>\n",
       "      <td>48868.00</td>\n",
       "      <td>190.05</td>\n",
       "      <td>product_19</td>\n",
       "      <td>South Africa</td>\n",
       "      <td>City_3</td>\n",
       "      <td>Yes</td>\n",
       "      <td>Morning</td>\n",
       "      <td>Thursday</td>\n",
       "      <td>April</td>\n",
       "      <td>2020</td>\n",
       "      <td>1</td>\n",
       "    </tr>\n",
       "    <tr>\n",
       "      <th>4</th>\n",
       "      <td>6451317</td>\n",
       "      <td>77.66</td>\n",
       "      <td>31</td>\n",
       "      <td>61608.23</td>\n",
       "      <td>204.86</td>\n",
       "      <td>product_11</td>\n",
       "      <td>Guadeloupe</td>\n",
       "      <td>City_2</td>\n",
       "      <td>No</td>\n",
       "      <td>Noon</td>\n",
       "      <td>Thursday</td>\n",
       "      <td>January</td>\n",
       "      <td>2020</td>\n",
       "      <td>0</td>\n",
       "    </tr>\n",
       "  </tbody>\n",
       "</table>\n",
       "</div>"
      ],
      "text/plain": [
       "    VistID  Time_Spent  Age  Avg_Income  Internet_Usage    Ad_Topic  \\\n",
       "0  5183153       87.97   43    55901.12          185.46  product_11   \n",
       "1  4023265       51.63   50    39132.00          176.73   product_8   \n",
       "2  4708083       82.37   38    57032.36          210.60   product_6   \n",
       "3  9771815       62.06   45    48868.00          190.05  product_19   \n",
       "4  6451317       77.66   31    61608.23          204.86  product_11   \n",
       "\n",
       "               Country_Name City_code Male Time_Period   Weekday    Month  \\\n",
       "0                    Serbia    City_5   No   Mid-Night  Thursday     July   \n",
       "1              Turkmenistan    City_1   No     Evening  Saturday     June   \n",
       "2  Northern Mariana Islands    City_2   No     Morning   Tuesday  January   \n",
       "3              South Africa    City_3  Yes     Morning  Thursday    April   \n",
       "4                Guadeloupe    City_2   No        Noon  Thursday  January   \n",
       "\n",
       "   Year  Clicked  \n",
       "0  2020        0  \n",
       "1  2020        1  \n",
       "2  2020        0  \n",
       "3  2020        1  \n",
       "4  2020        0  "
      ]
     },
     "execution_count": 62,
     "metadata": {},
     "output_type": "execute_result"
    }
   ],
   "source": [
    "import pandas as pd\n",
    "import numpy as np\n",
    "import matplotlib.pyplot as plt\n",
    "\n",
    "Ad_data=pd.read_csv(\"C:/Users/mchil/Downloads/Python batch/Python Pred Modeling All notebooks + Datasets/Python Datasets/Classification Datasets/Ad click data.csv\")\n",
    "\n",
    "Ad_data.head()"
   ]
  },
  {
   "cell_type": "code",
   "execution_count": 63,
   "id": "4babdf16-543b-4015-9bc8-97ff8400714d",
   "metadata": {},
   "outputs": [
    {
     "data": {
      "text/plain": [
       "(6657, 14)"
      ]
     },
     "execution_count": 63,
     "metadata": {},
     "output_type": "execute_result"
    }
   ],
   "source": [
    "Ad_data.shape"
   ]
  },
  {
   "cell_type": "code",
   "execution_count": 64,
   "id": "dc876a05-eb86-4f56-bc3c-4b4a08566849",
   "metadata": {},
   "outputs": [
    {
     "data": {
      "text/plain": [
       "0"
      ]
     },
     "execution_count": 64,
     "metadata": {},
     "output_type": "execute_result"
    }
   ],
   "source": [
    "Ad_data.duplicated().sum()"
   ]
  },
  {
   "cell_type": "markdown",
   "id": "f0fa96e1-016b-4289-a38a-8319ce587f2d",
   "metadata": {},
   "source": [
    "### Defining Problem statement\n",
    "* Target :- Clicked (If user will click add or not based on various characteristics)\n",
    "* Predictors: - Age,Income,country,Avg_spend_time,Ad_topic,Gender,etc."
   ]
  },
  {
   "cell_type": "markdown",
   "id": "0efcec53-b6b6-4832-8386-102ea4ba8a45",
   "metadata": {},
   "source": [
    "### Analysing the distribution of Target Variable"
   ]
  },
  {
   "cell_type": "code",
   "execution_count": 65,
   "id": "1bd2229a-b10d-43bd-aed6-003ad910fdfb",
   "metadata": {},
   "outputs": [
    {
     "data": {
      "text/plain": [
       "<AxesSubplot:xlabel='Clicked'>"
      ]
     },
     "execution_count": 65,
     "metadata": {},
     "output_type": "execute_result"
    },
    {
     "data": {
      "image/png": "[encoded data removed]",
      "text/plain": [
       "<Figure size 432x288 with 1 Axes>"
      ]
     },
     "metadata": {
      "needs_background": "light"
     },
     "output_type": "display_data"
    }
   ],
   "source": [
    "Ad_data.groupby('Clicked').size().plot(kind='bar')"
   ]
  },
  {
   "cell_type": "code",
   "execution_count": 66,
   "id": "7e486b17-b876-48ec-af9a-e527b998a13b",
   "metadata": {},
   "outputs": [
    {
     "data": {
      "text/plain": [
       "Index(['VistID', 'Time_Spent', 'Age', 'Avg_Income', 'Internet_Usage',\n",
       "       'Ad_Topic', 'Country_Name', 'City_code', 'Male', 'Time_Period',\n",
       "       'Weekday', 'Month', 'Year', 'Clicked'],\n",
       "      dtype='object')"
      ]
     },
     "execution_count": 66,
     "metadata": {},
     "output_type": "execute_result"
    }
   ],
   "source": [
    "#### Target Distribution is good and no treatment is need for Machine Learning\n",
    "#### Deleting Qualitative Columns VisitID,Country_Name,Year\n",
    "Ad_data.columns"
   ]
  },
  {
   "cell_type": "code",
   "execution_count": 67,
   "id": "8b8c4a58-8aa3-4518-a08a-27a34fbb400b",
   "metadata": {},
   "outputs": [],
   "source": [
    "to_drop=[\"VistID\",\"Country_Name\",\"Year\"]\n",
    "Ad_data.drop(to_drop,axis=1,inplace=True)"
   ]
  },
  {
   "cell_type": "code",
   "execution_count": 68,
   "id": "aece2c51-0de3-412f-a85d-072c29b8c606",
   "metadata": {},
   "outputs": [
    {
     "data": {
      "text/html": [
       "<div>\n",
       "<style scoped>\n",
       "    .dataframe tbody tr th:only-of-type {\n",
       "        vertical-align: middle;\n",
       "    }\n",
       "\n",
       "    .dataframe tbody tr th {\n",
       "        vertical-align: top;\n",
       "    }\n",
       "\n",
       "    .dataframe thead th {\n",
       "        text-align: right;\n",
       "    }\n",
       "</style>\n",
       "<table border=\"1\" class=\"dataframe\">\n",
       "  <thead>\n",
       "    <tr style=\"text-align: right;\">\n",
       "      <th></th>\n",
       "      <th>Time_Spent</th>\n",
       "      <th>Age</th>\n",
       "      <th>Avg_Income</th>\n",
       "      <th>Internet_Usage</th>\n",
       "      <th>Ad_Topic</th>\n",
       "      <th>City_code</th>\n",
       "      <th>Male</th>\n",
       "      <th>Time_Period</th>\n",
       "      <th>Weekday</th>\n",
       "      <th>Month</th>\n",
       "      <th>Clicked</th>\n",
       "    </tr>\n",
       "  </thead>\n",
       "  <tbody>\n",
       "    <tr>\n",
       "      <th>0</th>\n",
       "      <td>87.97</td>\n",
       "      <td>43</td>\n",
       "      <td>55901.12</td>\n",
       "      <td>185.46</td>\n",
       "      <td>product_11</td>\n",
       "      <td>City_5</td>\n",
       "      <td>No</td>\n",
       "      <td>Mid-Night</td>\n",
       "      <td>Thursday</td>\n",
       "      <td>July</td>\n",
       "      <td>0</td>\n",
       "    </tr>\n",
       "    <tr>\n",
       "      <th>1</th>\n",
       "      <td>51.63</td>\n",
       "      <td>50</td>\n",
       "      <td>39132.00</td>\n",
       "      <td>176.73</td>\n",
       "      <td>product_8</td>\n",
       "      <td>City_1</td>\n",
       "      <td>No</td>\n",
       "      <td>Evening</td>\n",
       "      <td>Saturday</td>\n",
       "      <td>June</td>\n",
       "      <td>1</td>\n",
       "    </tr>\n",
       "    <tr>\n",
       "      <th>2</th>\n",
       "      <td>82.37</td>\n",
       "      <td>38</td>\n",
       "      <td>57032.36</td>\n",
       "      <td>210.60</td>\n",
       "      <td>product_6</td>\n",
       "      <td>City_2</td>\n",
       "      <td>No</td>\n",
       "      <td>Morning</td>\n",
       "      <td>Tuesday</td>\n",
       "      <td>January</td>\n",
       "      <td>0</td>\n",
       "    </tr>\n",
       "    <tr>\n",
       "      <th>3</th>\n",
       "      <td>62.06</td>\n",
       "      <td>45</td>\n",
       "      <td>48868.00</td>\n",
       "      <td>190.05</td>\n",
       "      <td>product_19</td>\n",
       "      <td>City_3</td>\n",
       "      <td>Yes</td>\n",
       "      <td>Morning</td>\n",
       "      <td>Thursday</td>\n",
       "      <td>April</td>\n",
       "      <td>1</td>\n",
       "    </tr>\n",
       "    <tr>\n",
       "      <th>4</th>\n",
       "      <td>77.66</td>\n",
       "      <td>31</td>\n",
       "      <td>61608.23</td>\n",
       "      <td>204.86</td>\n",
       "      <td>product_11</td>\n",
       "      <td>City_2</td>\n",
       "      <td>No</td>\n",
       "      <td>Noon</td>\n",
       "      <td>Thursday</td>\n",
       "      <td>January</td>\n",
       "      <td>0</td>\n",
       "    </tr>\n",
       "  </tbody>\n",
       "</table>\n",
       "</div>"
      ],
      "text/plain": [
       "   Time_Spent  Age  Avg_Income  Internet_Usage    Ad_Topic City_code Male  \\\n",
       "0       87.97   43    55901.12          185.46  product_11    City_5   No   \n",
       "1       51.63   50    39132.00          176.73   product_8    City_1   No   \n",
       "2       82.37   38    57032.36          210.60   product_6    City_2   No   \n",
       "3       62.06   45    48868.00          190.05  product_19    City_3  Yes   \n",
       "4       77.66   31    61608.23          204.86  product_11    City_2   No   \n",
       "\n",
       "  Time_Period   Weekday    Month  Clicked  \n",
       "0   Mid-Night  Thursday     July        0  \n",
       "1     Evening  Saturday     June        1  \n",
       "2     Morning   Tuesday  January        0  \n",
       "3     Morning  Thursday    April        1  \n",
       "4        Noon  Thursday  January        0  "
      ]
     },
     "execution_count": 68,
     "metadata": {},
     "output_type": "execute_result"
    }
   ],
   "source": [
    "Ad_data.head()"
   ]
  },
  {
   "cell_type": "markdown",
   "id": "a9bfaf15-f38d-4ebe-a5ad-399ef2eb8424",
   "metadata": {},
   "source": [
    "### Basic Data Exploration\n",
    "* Info()\n",
    "* Nunique()\n",
    "* Describe()"
   ]
  },
  {
   "cell_type": "code",
   "execution_count": 69,
   "id": "95deba68-cbc9-49a0-bc4e-0b93343cd4f9",
   "metadata": {},
   "outputs": [
    {
     "name": "stdout",
     "output_type": "stream",
     "text": [
      "<class 'pandas.core.frame.DataFrame'>\n",
      "RangeIndex: 6657 entries, 0 to 6656\n",
      "Data columns (total 11 columns):\n",
      " #   Column          Non-Null Count  Dtype  \n",
      "---  ------          --------------  -----  \n",
      " 0   Time_Spent      6657 non-null   float64\n",
      " 1   Age             6657 non-null   int64  \n",
      " 2   Avg_Income      6657 non-null   float64\n",
      " 3   Internet_Usage  6657 non-null   float64\n",
      " 4   Ad_Topic        6657 non-null   object \n",
      " 5   City_code       6657 non-null   object \n",
      " 6   Male            6657 non-null   object \n",
      " 7   Time_Period     6657 non-null   object \n",
      " 8   Weekday         6657 non-null   object \n",
      " 9   Month           6657 non-null   object \n",
      " 10  Clicked         6657 non-null   int64  \n",
      "dtypes: float64(3), int64(2), object(6)\n",
      "memory usage: 572.2+ KB\n"
     ]
    }
   ],
   "source": [
    "Ad_data.info()"
   ]
  },
  {
   "cell_type": "code",
   "execution_count": 70,
   "id": "c824ac58-f687-4236-a2e4-36684a99fdd4",
   "metadata": {},
   "outputs": [
    {
     "data": {
      "text/html": [
       "<div>\n",
       "<style scoped>\n",
       "    .dataframe tbody tr th:only-of-type {\n",
       "        vertical-align: middle;\n",
       "    }\n",
       "\n",
       "    .dataframe tbody tr th {\n",
       "        vertical-align: top;\n",
       "    }\n",
       "\n",
       "    .dataframe thead th {\n",
       "        text-align: right;\n",
       "    }\n",
       "</style>\n",
       "<table border=\"1\" class=\"dataframe\">\n",
       "  <thead>\n",
       "    <tr style=\"text-align: right;\">\n",
       "      <th></th>\n",
       "      <th>Time_Spent</th>\n",
       "      <th>Age</th>\n",
       "      <th>Avg_Income</th>\n",
       "      <th>Internet_Usage</th>\n",
       "      <th>Ad_Topic</th>\n",
       "      <th>City_code</th>\n",
       "      <th>Male</th>\n",
       "      <th>Time_Period</th>\n",
       "      <th>Weekday</th>\n",
       "      <th>Month</th>\n",
       "      <th>Clicked</th>\n",
       "    </tr>\n",
       "  </thead>\n",
       "  <tbody>\n",
       "    <tr>\n",
       "      <th>count</th>\n",
       "      <td>6657.000000</td>\n",
       "      <td>6657.000000</td>\n",
       "      <td>6657.000000</td>\n",
       "      <td>6657.000000</td>\n",
       "      <td>6657</td>\n",
       "      <td>6657</td>\n",
       "      <td>6657</td>\n",
       "      <td>6657</td>\n",
       "      <td>6657</td>\n",
       "      <td>6657</td>\n",
       "      <td>6657.000000</td>\n",
       "    </tr>\n",
       "    <tr>\n",
       "      <th>unique</th>\n",
       "      <td>NaN</td>\n",
       "      <td>NaN</td>\n",
       "      <td>NaN</td>\n",
       "      <td>NaN</td>\n",
       "      <td>30</td>\n",
       "      <td>9</td>\n",
       "      <td>2</td>\n",
       "      <td>6</td>\n",
       "      <td>7</td>\n",
       "      <td>7</td>\n",
       "      <td>NaN</td>\n",
       "    </tr>\n",
       "    <tr>\n",
       "      <th>top</th>\n",
       "      <td>NaN</td>\n",
       "      <td>NaN</td>\n",
       "      <td>NaN</td>\n",
       "      <td>NaN</td>\n",
       "      <td>product_22</td>\n",
       "      <td>City_1</td>\n",
       "      <td>No</td>\n",
       "      <td>Evening</td>\n",
       "      <td>Friday</td>\n",
       "      <td>January</td>\n",
       "      <td>NaN</td>\n",
       "    </tr>\n",
       "    <tr>\n",
       "      <th>freq</th>\n",
       "      <td>NaN</td>\n",
       "      <td>NaN</td>\n",
       "      <td>NaN</td>\n",
       "      <td>NaN</td>\n",
       "      <td>266</td>\n",
       "      <td>2559</td>\n",
       "      <td>3571</td>\n",
       "      <td>1266</td>\n",
       "      <td>986</td>\n",
       "      <td>988</td>\n",
       "      <td>NaN</td>\n",
       "    </tr>\n",
       "    <tr>\n",
       "      <th>mean</th>\n",
       "      <td>66.849548</td>\n",
       "      <td>37.258825</td>\n",
       "      <td>55930.486743</td>\n",
       "      <td>184.947684</td>\n",
       "      <td>NaN</td>\n",
       "      <td>NaN</td>\n",
       "      <td>NaN</td>\n",
       "      <td>NaN</td>\n",
       "      <td>NaN</td>\n",
       "      <td>NaN</td>\n",
       "      <td>0.456362</td>\n",
       "    </tr>\n",
       "    <tr>\n",
       "      <th>std</th>\n",
       "      <td>15.509672</td>\n",
       "      <td>10.995458</td>\n",
       "      <td>13110.339257</td>\n",
       "      <td>43.189896</td>\n",
       "      <td>NaN</td>\n",
       "      <td>NaN</td>\n",
       "      <td>NaN</td>\n",
       "      <td>NaN</td>\n",
       "      <td>NaN</td>\n",
       "      <td>NaN</td>\n",
       "      <td>0.498129</td>\n",
       "    </tr>\n",
       "    <tr>\n",
       "      <th>min</th>\n",
       "      <td>32.600000</td>\n",
       "      <td>19.000000</td>\n",
       "      <td>13996.500000</td>\n",
       "      <td>104.780000</td>\n",
       "      <td>NaN</td>\n",
       "      <td>NaN</td>\n",
       "      <td>NaN</td>\n",
       "      <td>NaN</td>\n",
       "      <td>NaN</td>\n",
       "      <td>NaN</td>\n",
       "      <td>0.000000</td>\n",
       "    </tr>\n",
       "    <tr>\n",
       "      <th>25%</th>\n",
       "      <td>55.200000</td>\n",
       "      <td>28.000000</td>\n",
       "      <td>48454.000000</td>\n",
       "      <td>145.730000</td>\n",
       "      <td>NaN</td>\n",
       "      <td>NaN</td>\n",
       "      <td>NaN</td>\n",
       "      <td>NaN</td>\n",
       "      <td>NaN</td>\n",
       "      <td>NaN</td>\n",
       "      <td>0.000000</td>\n",
       "    </tr>\n",
       "    <tr>\n",
       "      <th>50%</th>\n",
       "      <td>70.660000</td>\n",
       "      <td>36.000000</td>\n",
       "      <td>58183.000000</td>\n",
       "      <td>193.580000</td>\n",
       "      <td>NaN</td>\n",
       "      <td>NaN</td>\n",
       "      <td>NaN</td>\n",
       "      <td>NaN</td>\n",
       "      <td>NaN</td>\n",
       "      <td>NaN</td>\n",
       "      <td>0.000000</td>\n",
       "    </tr>\n",
       "    <tr>\n",
       "      <th>75%</th>\n",
       "      <td>79.570000</td>\n",
       "      <td>46.000000</td>\n",
       "      <td>65957.000000</td>\n",
       "      <td>222.260000</td>\n",
       "      <td>NaN</td>\n",
       "      <td>NaN</td>\n",
       "      <td>NaN</td>\n",
       "      <td>NaN</td>\n",
       "      <td>NaN</td>\n",
       "      <td>NaN</td>\n",
       "      <td>1.000000</td>\n",
       "    </tr>\n",
       "    <tr>\n",
       "      <th>max</th>\n",
       "      <td>91.430000</td>\n",
       "      <td>61.000000</td>\n",
       "      <td>79484.800000</td>\n",
       "      <td>269.960000</td>\n",
       "      <td>NaN</td>\n",
       "      <td>NaN</td>\n",
       "      <td>NaN</td>\n",
       "      <td>NaN</td>\n",
       "      <td>NaN</td>\n",
       "      <td>NaN</td>\n",
       "      <td>1.000000</td>\n",
       "    </tr>\n",
       "  </tbody>\n",
       "</table>\n",
       "</div>"
      ],
      "text/plain": [
       "         Time_Spent          Age    Avg_Income  Internet_Usage    Ad_Topic  \\\n",
       "count   6657.000000  6657.000000   6657.000000     6657.000000        6657   \n",
       "unique          NaN          NaN           NaN             NaN          30   \n",
       "top             NaN          NaN           NaN             NaN  product_22   \n",
       "freq            NaN          NaN           NaN             NaN         266   \n",
       "mean      66.849548    37.258825  55930.486743      184.947684         NaN   \n",
       "std       15.509672    10.995458  13110.339257       43.189896         NaN   \n",
       "min       32.600000    19.000000  13996.500000      104.780000         NaN   \n",
       "25%       55.200000    28.000000  48454.000000      145.730000         NaN   \n",
       "50%       70.660000    36.000000  58183.000000      193.580000         NaN   \n",
       "75%       79.570000    46.000000  65957.000000      222.260000         NaN   \n",
       "max       91.430000    61.000000  79484.800000      269.960000         NaN   \n",
       "\n",
       "       City_code  Male Time_Period Weekday    Month      Clicked  \n",
       "count       6657  6657        6657    6657     6657  6657.000000  \n",
       "unique         9     2           6       7        7          NaN  \n",
       "top       City_1    No     Evening  Friday  January          NaN  \n",
       "freq        2559  3571        1266     986      988          NaN  \n",
       "mean         NaN   NaN         NaN     NaN      NaN     0.456362  \n",
       "std          NaN   NaN         NaN     NaN      NaN     0.498129  \n",
       "min          NaN   NaN         NaN     NaN      NaN     0.000000  \n",
       "25%          NaN   NaN         NaN     NaN      NaN     0.000000  \n",
       "50%          NaN   NaN         NaN     NaN      NaN     0.000000  \n",
       "75%          NaN   NaN         NaN     NaN      NaN     1.000000  \n",
       "max          NaN   NaN         NaN     NaN      NaN     1.000000  "
      ]
     },
     "execution_count": 70,
     "metadata": {},
     "output_type": "execute_result"
    }
   ],
   "source": [
    "Ad_data.describe(include='all')"
   ]
  },
  {
   "cell_type": "code",
   "execution_count": 71,
   "id": "3ca2da6d-7420-4f35-a17d-1b9094ff2686",
   "metadata": {},
   "outputs": [
    {
     "data": {
      "text/plain": [
       "Time_Spent         900\n",
       "Age                 43\n",
       "Avg_Income        1487\n",
       "Internet_Usage     966\n",
       "Ad_Topic            30\n",
       "City_code            9\n",
       "Male                 2\n",
       "Time_Period          6\n",
       "Weekday              7\n",
       "Month                7\n",
       "Clicked              2\n",
       "dtype: int64"
      ]
     },
     "execution_count": 71,
     "metadata": {},
     "output_type": "execute_result"
    }
   ],
   "source": [
    "Ad_data.nunique()"
   ]
  },
  {
   "cell_type": "markdown",
   "id": "c023735b-2ed8-479d-b983-4bd0c7617980",
   "metadata": {},
   "source": [
    "#### basic Exploration result\n",
    "* Continuous Variables:- Time_Spent,Age,Avg_Income,Internet_Usage\n",
    "* Categorical Variables :- Ad_Topic,City_code,Male,Time_Period,Weekday,Month\n",
    "* Target :- Clicked"
   ]
  },
  {
   "cell_type": "code",
   "execution_count": 72,
   "id": "947fa6fd-c572-47ac-82f4-5e4c30367705",
   "metadata": {},
   "outputs": [],
   "source": [
    "Conti=['Time_Spent','Age','Avg_Income','Internet_Usage']\n",
    "Categ=['Ad_Topic','City_code','Male','Time_Period','Weekday','Month']\n",
    "Target='Clicked'"
   ]
  },
  {
   "cell_type": "markdown",
   "id": "1d9f33ea-5871-4f54-973f-9be2b6d78f9d",
   "metadata": {},
   "source": [
    "### Univariate Analysis\n",
    "* Continuous Variables"
   ]
  },
  {
   "cell_type": "code",
   "execution_count": 73,
   "id": "1c0c2987-f34a-43c3-85e6-0ef647c2952d",
   "metadata": {},
   "outputs": [
    {
     "data": {
      "text/plain": [
       "array([[<AxesSubplot:title={'center':'Time_Spent'}>,\n",
       "        <AxesSubplot:title={'center':'Age'}>],\n",
       "       [<AxesSubplot:title={'center':'Avg_Income'}>,\n",
       "        <AxesSubplot:title={'center':'Internet_Usage'}>]], dtype=object)"
      ]
     },
     "execution_count": 73,
     "metadata": {},
     "output_type": "execute_result"
    },
    {
     "data": {
      "image/png": "[encoded data removed]",
      "text/plain": [
       "<Figure size 1440x720 with 4 Axes>"
      ]
     },
     "metadata": {
      "needs_background": "light"
     },
     "output_type": "display_data"
    }
   ],
   "source": [
    "Ad_data[Conti].hist(figsize=(20,10))"
   ]
  },
  {
   "cell_type": "code",
   "execution_count": 74,
   "id": "80da83f7-cda8-4a02-a065-08813aeb7992",
   "metadata": {},
   "outputs": [],
   "source": [
    "# Distributions of Continuous Variables Are good no need of Any Treatment"
   ]
  },
  {
   "cell_type": "markdown",
   "id": "b2ea5c28-3065-4ef4-af89-3cf9c6fd07c7",
   "metadata": {},
   "source": [
    "* Categorical Variables"
   ]
  },
  {
   "cell_type": "code",
   "execution_count": 75,
   "id": "c708f829-aaaf-47d1-be8c-c907a648a854",
   "metadata": {},
   "outputs": [
    {
     "data": {
      "image/png": "[encoded data removed]",
      "text/plain": [
       "<Figure size 1440x360 with 3 Axes>"
      ]
     },
     "metadata": {
      "needs_background": "light"
     },
     "output_type": "display_data"
    }
   ],
   "source": [
    "fig,subplot=plt.subplots(nrows=1,ncols=3,figsize=(20,5))\n",
    "\n",
    "for i,j in zip(Categ,range(3)):\n",
    "    Ad_data.groupby(i).size().plot(kind='bar',ax=subplot[j])"
   ]
  },
  {
   "cell_type": "code",
   "execution_count": 76,
   "id": "f994b7b3-1700-4286-8eae-1bd94210f15b",
   "metadata": {},
   "outputs": [
    {
     "data": {
      "image/png": "[encoded data removed]",
      "text/plain": [
       "<Figure size 1440x360 with 3 Axes>"
      ]
     },
     "metadata": {
      "needs_background": "light"
     },
     "output_type": "display_data"
    }
   ],
   "source": [
    "fig,subplot=plt.subplots(nrows=1,ncols=3,figsize=(20,5))\n",
    "\n",
    "for i,j in zip(Categ[3:],range(3)):\n",
    "    Ad_data.groupby(i).size().plot(kind='bar',ax=subplot[j])"
   ]
  },
  {
   "cell_type": "code",
   "execution_count": 77,
   "id": "a2b2ff20-4ea0-46ae-a6e3-2e51ac22c405",
   "metadata": {},
   "outputs": [],
   "source": [
    "# All Categorical Distributions are good and Selected"
   ]
  },
  {
   "cell_type": "markdown",
   "id": "659aaca4-a2d4-44a8-af75-c122ea797ba5",
   "metadata": {},
   "source": [
    "### Bivariate Analysis\n",
    "\n",
    "* Continuous vs Categorical"
   ]
  },
  {
   "cell_type": "code",
   "execution_count": 78,
   "id": "b8d2dc8d-f3be-43f1-9e59-ef5e702a3488",
   "metadata": {},
   "outputs": [
    {
     "data": {
      "image/png": "[encoded data removed]",
      "text/plain": [
       "<Figure size 1440x360 with 4 Axes>"
      ]
     },
     "metadata": {
      "needs_background": "light"
     },
     "output_type": "display_data"
    }
   ],
   "source": [
    "fig,subplot=plt.subplots(1,4,figsize=(20,5))\n",
    "\n",
    "for i,j in zip(Conti,range(len(Conti))):\n",
    "    Ad_data.boxplot(column=i,by=Target,ax=subplot[j])"
   ]
  },
  {
   "cell_type": "markdown",
   "id": "048772f7-b89d-40d7-b570-503f45c7efbc",
   "metadata": {},
   "source": [
    "#### Statistical Analysis of Conti vs Categ ANOVA Test"
   ]
  },
  {
   "cell_type": "code",
   "execution_count": 79,
   "id": "813f2c92-d57c-4d6b-a9b4-7a91573c6f11",
   "metadata": {},
   "outputs": [
    {
     "name": "stdout",
     "output_type": "stream",
     "text": [
      "Column Time_Spent is Correlated with Target with P-Value: 0.0\n",
      "Column Age is Correlated with Target with P-Value: 6.40789044460054e-91\n",
      "Column Avg_Income is Correlated with Target with P-Value: 0.0\n",
      "Column Internet_Usage is Correlated with Target with P-Value: 0.0\n",
      "Selected Predictors :-\n",
      " ['Time_Spent', 'Age', 'Avg_Income', 'Internet_Usage']\n"
     ]
    }
   ],
   "source": [
    "def fun_anova(df,pred,target):\n",
    "    from scipy.stats import f_oneway\n",
    "    selected_pred=[]\n",
    "    for i in pred:\n",
    "        inp=df.groupby(target)[i].apply(list)\n",
    "        \n",
    "        anov=f_oneway(*inp)\n",
    "        \n",
    "        if anov[1]<0.05:\n",
    "            print(\"Column {} is Correlated with Target with P-Value: {}\".format(i,anov[1]))\n",
    "            selected_pred.append(i)\n",
    "        else:\n",
    "            print(\"Column {} is Not Correlated with Target with P-Value: {}\".format(i,anov[1]))\n",
    "        \n",
    "        \n",
    "    print(\"Selected Predictors :-\\n\",selected_pred)\n",
    "\n",
    "fun_anova(Ad_data,Conti,Target)"
   ]
  },
  {
   "cell_type": "code",
   "execution_count": null,
   "id": "7866661f-0a7f-4056-aa4e-ed7aa264215e",
   "metadata": {},
   "outputs": [],
   "source": []
  },
  {
   "cell_type": "markdown",
   "id": "3815bdbd-19e6-4d21-8ab7-aafd653a5809",
   "metadata": {},
   "source": [
    "* Categorical Vs Categorical"
   ]
  },
  {
   "cell_type": "code",
   "execution_count": 80,
   "id": "60867795-96c1-4cae-bebe-ca68494f8d95",
   "metadata": {},
   "outputs": [
    {
     "data": {
      "image/png": "[encoded data removed]",
      "text/plain": [
       "<Figure size 1800x360 with 3 Axes>"
      ]
     },
     "metadata": {
      "needs_background": "light"
     },
     "output_type": "display_data"
    }
   ],
   "source": [
    "fig,subplot=plt.subplots(nrows=1,ncols=3,figsize=(25,5))\n",
    "\n",
    "for i,j in zip(Categ,range(3)):\n",
    "    pd.crosstab(index=Ad_data[i],columns=Ad_data[Target]).plot(kind='bar',ax=subplot[j])"
   ]
  },
  {
   "cell_type": "code",
   "execution_count": 81,
   "id": "ff08183a-457f-4764-9b4c-6124759e60f5",
   "metadata": {},
   "outputs": [
    {
     "data": {
      "image/png": "[encoded data removed]",
      "text/plain": [
       "<Figure size 1800x360 with 3 Axes>"
      ]
     },
     "metadata": {
      "needs_background": "light"
     },
     "output_type": "display_data"
    }
   ],
   "source": [
    "fig,subplot=plt.subplots(nrows=1,ncols=3,figsize=(25,5))\n",
    "\n",
    "for i,j in zip(Categ[3:],range(3)):\n",
    "    pd.crosstab(index=Ad_data[i],columns=Ad_data[Target]).plot(kind='bar',ax=subplot[j])"
   ]
  },
  {
   "cell_type": "markdown",
   "id": "da3a28ed-c197-417e-a60f-5166a83a6d1f",
   "metadata": {},
   "source": [
    "#### Statistical Analysis of Categ vs Categ (Ch2 Test)"
   ]
  },
  {
   "cell_type": "code",
   "execution_count": 82,
   "id": "cd4dec70-3f68-4531-89a5-300f0d16de03",
   "metadata": {},
   "outputs": [
    {
     "name": "stdout",
     "output_type": "stream",
     "text": [
      "Column Ad_Topic is Correlated with Target with P-Value: 1.2676573604736642e-24\n",
      "Column City_code is Correlated with Target with P-Value: 2.6667953391697526e-88\n",
      "Column Male is Correlated with Target with P-Value: 0.026951713017450765\n",
      "Column Time_Period is Correlated with Target with P-Value: 4.465745015735821e-47\n",
      "Column Weekday is Not Correlated with Target with P-Value: 0.7226317326250824\n",
      "Column Month is Not Correlated with Target with P-Value: 0.4229049097263303\n",
      "Selected Predictors :-\n",
      " ['Ad_Topic', 'City_code', 'Male', 'Time_Period']\n"
     ]
    }
   ],
   "source": [
    "def fun_chi2(df,pred,target):\n",
    "    from scipy.stats import chi2_contingency\n",
    "    selected_pred=[]\n",
    "    for i in pred:\n",
    "        inp=pd.crosstab(index=df[i],columns=df[target])\n",
    "        \n",
    "        chi=chi2_contingency(inp)\n",
    "        \n",
    "        if chi[1]<0.05:\n",
    "            print(\"Column {} is Correlated with Target with P-Value: {}\".format(i,chi[1]))\n",
    "            selected_pred.append(i)\n",
    "        \n",
    "        else:\n",
    "            print(\"Column {} is Not Correlated with Target with P-Value: {}\".format(i,chi[1]))\n",
    "            \n",
    "    print(\"Selected Predictors :-\\n\",selected_pred)\n",
    "    \n",
    "\n",
    "fun_chi2(Ad_data,Categ,Target)"
   ]
  },
  {
   "cell_type": "markdown",
   "id": "cf599256-fc47-4692-ac74-390703b3eafa",
   "metadata": {},
   "source": [
    "#### Selected Final Predictors\n",
    "* Continuous:- ['Time_Spent', 'Age', 'Avg_Income', 'Internet_Usage']\n",
    "* Categorical :- ['Ad_Topic', 'City_code', 'Male', 'Time_Period']\n",
    "* Target: - Clicked"
   ]
  },
  {
   "cell_type": "markdown",
   "id": "153c418d-098d-4652-8383-56d493b8b792",
   "metadata": {},
   "source": [
    "### Extracting Useful Predictors\n"
   ]
  },
  {
   "cell_type": "code",
   "execution_count": 83,
   "id": "399ac291-820e-4a35-8333-cd91d1473818",
   "metadata": {},
   "outputs": [
    {
     "data": {
      "text/html": [
       "<div>\n",
       "<style scoped>\n",
       "    .dataframe tbody tr th:only-of-type {\n",
       "        vertical-align: middle;\n",
       "    }\n",
       "\n",
       "    .dataframe tbody tr th {\n",
       "        vertical-align: top;\n",
       "    }\n",
       "\n",
       "    .dataframe thead th {\n",
       "        text-align: right;\n",
       "    }\n",
       "</style>\n",
       "<table border=\"1\" class=\"dataframe\">\n",
       "  <thead>\n",
       "    <tr style=\"text-align: right;\">\n",
       "      <th></th>\n",
       "      <th>Time_Spent</th>\n",
       "      <th>Age</th>\n",
       "      <th>Avg_Income</th>\n",
       "      <th>Internet_Usage</th>\n",
       "      <th>Ad_Topic</th>\n",
       "      <th>City_code</th>\n",
       "      <th>Male</th>\n",
       "      <th>Time_Period</th>\n",
       "    </tr>\n",
       "  </thead>\n",
       "  <tbody>\n",
       "    <tr>\n",
       "      <th>0</th>\n",
       "      <td>87.97</td>\n",
       "      <td>43</td>\n",
       "      <td>55901.12</td>\n",
       "      <td>185.46</td>\n",
       "      <td>product_11</td>\n",
       "      <td>City_5</td>\n",
       "      <td>No</td>\n",
       "      <td>Mid-Night</td>\n",
       "    </tr>\n",
       "    <tr>\n",
       "      <th>1</th>\n",
       "      <td>51.63</td>\n",
       "      <td>50</td>\n",
       "      <td>39132.00</td>\n",
       "      <td>176.73</td>\n",
       "      <td>product_8</td>\n",
       "      <td>City_1</td>\n",
       "      <td>No</td>\n",
       "      <td>Evening</td>\n",
       "    </tr>\n",
       "    <tr>\n",
       "      <th>2</th>\n",
       "      <td>82.37</td>\n",
       "      <td>38</td>\n",
       "      <td>57032.36</td>\n",
       "      <td>210.60</td>\n",
       "      <td>product_6</td>\n",
       "      <td>City_2</td>\n",
       "      <td>No</td>\n",
       "      <td>Morning</td>\n",
       "    </tr>\n",
       "    <tr>\n",
       "      <th>3</th>\n",
       "      <td>62.06</td>\n",
       "      <td>45</td>\n",
       "      <td>48868.00</td>\n",
       "      <td>190.05</td>\n",
       "      <td>product_19</td>\n",
       "      <td>City_3</td>\n",
       "      <td>Yes</td>\n",
       "      <td>Morning</td>\n",
       "    </tr>\n",
       "    <tr>\n",
       "      <th>4</th>\n",
       "      <td>77.66</td>\n",
       "      <td>31</td>\n",
       "      <td>61608.23</td>\n",
       "      <td>204.86</td>\n",
       "      <td>product_11</td>\n",
       "      <td>City_2</td>\n",
       "      <td>No</td>\n",
       "      <td>Noon</td>\n",
       "    </tr>\n",
       "  </tbody>\n",
       "</table>\n",
       "</div>"
      ],
      "text/plain": [
       "   Time_Spent  Age  Avg_Income  Internet_Usage    Ad_Topic City_code Male  \\\n",
       "0       87.97   43    55901.12          185.46  product_11    City_5   No   \n",
       "1       51.63   50    39132.00          176.73   product_8    City_1   No   \n",
       "2       82.37   38    57032.36          210.60   product_6    City_2   No   \n",
       "3       62.06   45    48868.00          190.05  product_19    City_3  Yes   \n",
       "4       77.66   31    61608.23          204.86  product_11    City_2   No   \n",
       "\n",
       "  Time_Period  \n",
       "0   Mid-Night  \n",
       "1     Evening  \n",
       "2     Morning  \n",
       "3     Morning  \n",
       "4        Noon  "
      ]
     },
     "execution_count": 83,
     "metadata": {},
     "output_type": "execute_result"
    }
   ],
   "source": [
    "final_predictors=['Time_Spent', 'Age', 'Avg_Income', 'Internet_Usage','Ad_Topic', 'City_code', 'Male', 'Time_Period']\n",
    "\n",
    "Ad_dataML=Ad_data[final_predictors]\n",
    "# Ad_dataML['Clicked']=Ad_data[Target]\n",
    "\n",
    "Ad_dataML.head()"
   ]
  },
  {
   "cell_type": "markdown",
   "id": "b313415b-720a-43c9-8767-9baf7b197215",
   "metadata": {},
   "source": [
    "### Preparing Data For ML\n",
    "* Converting All Categorical Nominal Predictors to Numeric"
   ]
  },
  {
   "cell_type": "code",
   "execution_count": 84,
   "id": "5a883cc0-bbef-44af-9017-8d794ce3d64c",
   "metadata": {},
   "outputs": [],
   "source": [
    "Ad_dataML['Male'].replace({'No':0,'Yes':1},inplace=True)"
   ]
  },
  {
   "cell_type": "code",
   "execution_count": 85,
   "id": "91e8952b-16a1-4b3f-970c-ddb046b5adca",
   "metadata": {},
   "outputs": [
    {
     "data": {
      "text/html": [
       "<div>\n",
       "<style scoped>\n",
       "    .dataframe tbody tr th:only-of-type {\n",
       "        vertical-align: middle;\n",
       "    }\n",
       "\n",
       "    .dataframe tbody tr th {\n",
       "        vertical-align: top;\n",
       "    }\n",
       "\n",
       "    .dataframe thead th {\n",
       "        text-align: right;\n",
       "    }\n",
       "</style>\n",
       "<table border=\"1\" class=\"dataframe\">\n",
       "  <thead>\n",
       "    <tr style=\"text-align: right;\">\n",
       "      <th></th>\n",
       "      <th>Time_Spent</th>\n",
       "      <th>Age</th>\n",
       "      <th>Avg_Income</th>\n",
       "      <th>Internet_Usage</th>\n",
       "      <th>Male</th>\n",
       "      <th>Ad_Topic_product_1</th>\n",
       "      <th>Ad_Topic_product_10</th>\n",
       "      <th>Ad_Topic_product_11</th>\n",
       "      <th>Ad_Topic_product_12</th>\n",
       "      <th>Ad_Topic_product_13</th>\n",
       "      <th>...</th>\n",
       "      <th>City_code_City_6</th>\n",
       "      <th>City_code_City_7</th>\n",
       "      <th>City_code_City_8</th>\n",
       "      <th>City_code_City_9</th>\n",
       "      <th>Time_Period_Early-Morning</th>\n",
       "      <th>Time_Period_Evening</th>\n",
       "      <th>Time_Period_Mid-Night</th>\n",
       "      <th>Time_Period_Morning</th>\n",
       "      <th>Time_Period_Night</th>\n",
       "      <th>Time_Period_Noon</th>\n",
       "    </tr>\n",
       "  </thead>\n",
       "  <tbody>\n",
       "    <tr>\n",
       "      <th>0</th>\n",
       "      <td>87.97</td>\n",
       "      <td>43</td>\n",
       "      <td>55901.12</td>\n",
       "      <td>185.46</td>\n",
       "      <td>0</td>\n",
       "      <td>0</td>\n",
       "      <td>0</td>\n",
       "      <td>1</td>\n",
       "      <td>0</td>\n",
       "      <td>0</td>\n",
       "      <td>...</td>\n",
       "      <td>0</td>\n",
       "      <td>0</td>\n",
       "      <td>0</td>\n",
       "      <td>0</td>\n",
       "      <td>0</td>\n",
       "      <td>0</td>\n",
       "      <td>1</td>\n",
       "      <td>0</td>\n",
       "      <td>0</td>\n",
       "      <td>0</td>\n",
       "    </tr>\n",
       "    <tr>\n",
       "      <th>1</th>\n",
       "      <td>51.63</td>\n",
       "      <td>50</td>\n",
       "      <td>39132.00</td>\n",
       "      <td>176.73</td>\n",
       "      <td>0</td>\n",
       "      <td>0</td>\n",
       "      <td>0</td>\n",
       "      <td>0</td>\n",
       "      <td>0</td>\n",
       "      <td>0</td>\n",
       "      <td>...</td>\n",
       "      <td>0</td>\n",
       "      <td>0</td>\n",
       "      <td>0</td>\n",
       "      <td>0</td>\n",
       "      <td>0</td>\n",
       "      <td>1</td>\n",
       "      <td>0</td>\n",
       "      <td>0</td>\n",
       "      <td>0</td>\n",
       "      <td>0</td>\n",
       "    </tr>\n",
       "    <tr>\n",
       "      <th>2</th>\n",
       "      <td>82.37</td>\n",
       "      <td>38</td>\n",
       "      <td>57032.36</td>\n",
       "      <td>210.60</td>\n",
       "      <td>0</td>\n",
       "      <td>0</td>\n",
       "      <td>0</td>\n",
       "      <td>0</td>\n",
       "      <td>0</td>\n",
       "      <td>0</td>\n",
       "      <td>...</td>\n",
       "      <td>0</td>\n",
       "      <td>0</td>\n",
       "      <td>0</td>\n",
       "      <td>0</td>\n",
       "      <td>0</td>\n",
       "      <td>0</td>\n",
       "      <td>0</td>\n",
       "      <td>1</td>\n",
       "      <td>0</td>\n",
       "      <td>0</td>\n",
       "    </tr>\n",
       "    <tr>\n",
       "      <th>3</th>\n",
       "      <td>62.06</td>\n",
       "      <td>45</td>\n",
       "      <td>48868.00</td>\n",
       "      <td>190.05</td>\n",
       "      <td>1</td>\n",
       "      <td>0</td>\n",
       "      <td>0</td>\n",
       "      <td>0</td>\n",
       "      <td>0</td>\n",
       "      <td>0</td>\n",
       "      <td>...</td>\n",
       "      <td>0</td>\n",
       "      <td>0</td>\n",
       "      <td>0</td>\n",
       "      <td>0</td>\n",
       "      <td>0</td>\n",
       "      <td>0</td>\n",
       "      <td>0</td>\n",
       "      <td>1</td>\n",
       "      <td>0</td>\n",
       "      <td>0</td>\n",
       "    </tr>\n",
       "    <tr>\n",
       "      <th>4</th>\n",
       "      <td>77.66</td>\n",
       "      <td>31</td>\n",
       "      <td>61608.23</td>\n",
       "      <td>204.86</td>\n",
       "      <td>0</td>\n",
       "      <td>0</td>\n",
       "      <td>0</td>\n",
       "      <td>1</td>\n",
       "      <td>0</td>\n",
       "      <td>0</td>\n",
       "      <td>...</td>\n",
       "      <td>0</td>\n",
       "      <td>0</td>\n",
       "      <td>0</td>\n",
       "      <td>0</td>\n",
       "      <td>0</td>\n",
       "      <td>0</td>\n",
       "      <td>0</td>\n",
       "      <td>0</td>\n",
       "      <td>0</td>\n",
       "      <td>1</td>\n",
       "    </tr>\n",
       "  </tbody>\n",
       "</table>\n",
       "<p>5 rows × 50 columns</p>\n",
       "</div>"
      ],
      "text/plain": [
       "   Time_Spent  Age  Avg_Income  Internet_Usage  Male  Ad_Topic_product_1  \\\n",
       "0       87.97   43    55901.12          185.46     0                   0   \n",
       "1       51.63   50    39132.00          176.73     0                   0   \n",
       "2       82.37   38    57032.36          210.60     0                   0   \n",
       "3       62.06   45    48868.00          190.05     1                   0   \n",
       "4       77.66   31    61608.23          204.86     0                   0   \n",
       "\n",
       "   Ad_Topic_product_10  Ad_Topic_product_11  Ad_Topic_product_12  \\\n",
       "0                    0                    1                    0   \n",
       "1                    0                    0                    0   \n",
       "2                    0                    0                    0   \n",
       "3                    0                    0                    0   \n",
       "4                    0                    1                    0   \n",
       "\n",
       "   Ad_Topic_product_13  ...  City_code_City_6  City_code_City_7  \\\n",
       "0                    0  ...                 0                 0   \n",
       "1                    0  ...                 0                 0   \n",
       "2                    0  ...                 0                 0   \n",
       "3                    0  ...                 0                 0   \n",
       "4                    0  ...                 0                 0   \n",
       "\n",
       "   City_code_City_8  City_code_City_9  Time_Period_Early-Morning  \\\n",
       "0                 0                 0                          0   \n",
       "1                 0                 0                          0   \n",
       "2                 0                 0                          0   \n",
       "3                 0                 0                          0   \n",
       "4                 0                 0                          0   \n",
       "\n",
       "   Time_Period_Evening  Time_Period_Mid-Night  Time_Period_Morning  \\\n",
       "0                    0                      1                    0   \n",
       "1                    1                      0                    0   \n",
       "2                    0                      0                    1   \n",
       "3                    0                      0                    1   \n",
       "4                    0                      0                    0   \n",
       "\n",
       "   Time_Period_Night  Time_Period_Noon  \n",
       "0                  0                 0  \n",
       "1                  0                 0  \n",
       "2                  0                 0  \n",
       "3                  0                 0  \n",
       "4                  0                 1  \n",
       "\n",
       "[5 rows x 50 columns]"
      ]
     },
     "execution_count": 85,
     "metadata": {},
     "output_type": "execute_result"
    }
   ],
   "source": [
    "Ad_dataML=pd.get_dummies(Ad_dataML)\n",
    "Ad_dataML.head()"
   ]
  },
  {
   "cell_type": "markdown",
   "id": "87d35980-aa51-4925-aa26-dbb35338e96d",
   "metadata": {},
   "source": [
    "* Standardizing/Normalizing Data"
   ]
  },
  {
   "cell_type": "code",
   "execution_count": 86,
   "id": "3b1146bf-6885-40b3-894a-7e3e86d46881",
   "metadata": {},
   "outputs": [],
   "source": [
    "X=Ad_dataML[list(Ad_dataML.columns)].values\n",
    "y=Ad_data[Target].values\n"
   ]
  },
  {
   "cell_type": "code",
   "execution_count": 87,
   "id": "e05d2811-c9ae-45b8-a0f3-4916dd94a93d",
   "metadata": {},
   "outputs": [
    {
     "data": {
      "text/plain": [
       "array([[0.94118647, 0.57142857, 0.63987949, ..., 0.        , 0.        ,\n",
       "        0.        ],\n",
       "       [0.32347442, 0.73809524, 0.38381665, ..., 0.        , 0.        ,\n",
       "        0.        ],\n",
       "       [0.84599694, 0.45238095, 0.65715342, ..., 1.        , 0.        ,\n",
       "        0.        ],\n",
       "       ...,\n",
       "       [0.418154  , 0.88095238, 0.1539588 , ..., 1.        , 0.        ,\n",
       "        0.        ],\n",
       "       [0.94237634, 0.21428571, 0.76642698, ..., 0.        , 0.        ,\n",
       "        0.        ],\n",
       "       [0.60190379, 0.02380952, 0.69882803, ..., 0.        , 1.        ,\n",
       "        0.        ]])"
      ]
     },
     "execution_count": 87,
     "metadata": {},
     "output_type": "execute_result"
    }
   ],
   "source": [
    "from sklearn.preprocessing import MinMaxScaler\n",
    "\n",
    "X=MinMaxScaler().fit_transform(X)\n",
    "\n",
    "X"
   ]
  },
  {
   "cell_type": "markdown",
   "id": "724cbe5b-9f47-42a0-b58d-55460b7a0272",
   "metadata": {},
   "source": [
    "* Splitting Data Into Train/Test\n"
   ]
  },
  {
   "cell_type": "code",
   "execution_count": 88,
   "id": "c05ddace-765c-40ec-a426-6fef04a61cdd",
   "metadata": {},
   "outputs": [
    {
     "name": "stdout",
     "output_type": "stream",
     "text": [
      "(4659, 50)\n",
      "(1998, 50)\n",
      "(4659,)\n",
      "(1998,)\n"
     ]
    }
   ],
   "source": [
    "from sklearn.model_selection import train_test_split\n",
    "\n",
    "X_train,X_test,y_train,y_test=train_test_split(X,y,train_size=0.7,random_state=32)\n",
    "\n",
    "print(X_train.shape,X_test.shape,y_train.shape,y_test.shape,sep='\\n')"
   ]
  },
  {
   "cell_type": "code",
   "execution_count": null,
   "id": "f52c8174-5f22-4bc7-9e9b-a0b0360bab6f",
   "metadata": {},
   "outputs": [],
   "source": []
  },
  {
   "cell_type": "markdown",
   "id": "c66ab775-3184-4d57-b498-d54f02279ae2",
   "metadata": {},
   "source": [
    "### Logistic Regression\n"
   ]
  },
  {
   "cell_type": "code",
   "execution_count": 89,
   "id": "d9162824-0e8d-4b12-9e0c-0f8f71f17b5f",
   "metadata": {},
   "outputs": [
    {
     "data": {
      "text/plain": [
       "GridSearchCV(cv=10, estimator=LogisticRegression(),\n",
       "             param_grid={'C': [0.01, 0.1, 1, 5, 10], 'penalty': ['l1', 'l2'],\n",
       "                         'solver': ['liblinear', 'newton-cg', 'lbfgs',\n",
       "                                    'lgmax']},\n",
       "             scoring='f1_weighted')"
      ]
     },
     "execution_count": 89,
     "metadata": {},
     "output_type": "execute_result"
    }
   ],
   "source": [
    "from sklearn.model_selection import GridSearchCV\n",
    "from sklearn.linear_model import LogisticRegression\n",
    "\n",
    "LR=LogisticRegression()\n",
    "\n",
    "params={'C':[0.01,0.1,1,5,10],'penalty':['l1','l2'],'solver':['liblinear','newton-cg','lbfgs','lgmax']}\n",
    "\n",
    "gcv=GridSearchCV(LR,param_grid=params,cv=10,scoring='f1_weighted')\n",
    "gcv.fit(X,y)"
   ]
  },
  {
   "cell_type": "code",
   "execution_count": 90,
   "id": "fb35c713-5d0f-41a0-bb76-30192e4ebc87",
   "metadata": {},
   "outputs": [
    {
     "data": {
      "text/plain": [
       "0.9340216385224236"
      ]
     },
     "execution_count": 90,
     "metadata": {},
     "output_type": "execute_result"
    }
   ],
   "source": [
    "gcv.best_params_\n",
    "gcv.best_score_"
   ]
  },
  {
   "cell_type": "code",
   "execution_count": 91,
   "id": "366318a9-adb7-46d2-b0fc-7273e36804e7",
   "metadata": {},
   "outputs": [
    {
     "name": "stdout",
     "output_type": "stream",
     "text": [
      "              precision    recall  f1-score   support\n",
      "\n",
      "           0       0.96      0.92      0.94      1136\n",
      "           1       0.89      0.95      0.92       862\n",
      "\n",
      "    accuracy                           0.93      1998\n",
      "   macro avg       0.93      0.93      0.93      1998\n",
      "weighted avg       0.93      0.93      0.93      1998\n",
      "\n",
      "F1 score of Fitted Model is : 0.9296330172306608\n",
      "<sklearn.metrics._plot.confusion_matrix.ConfusionMatrixDisplay object at 0x00000243760BC670>\n"
     ]
    },
    {
     "data": {
      "image/png": "[encoded data removed]",
      "text/plain": [
       "<Figure size 432x288 with 2 Axes>"
      ]
     },
     "metadata": {
      "needs_background": "light"
     },
     "output_type": "display_data"
    },
    {
     "name": "stdout",
     "output_type": "stream",
     "text": [
      "[0.93693694 0.88773764 0.92472202 0.93975226 0.92611277 0.94273948\n",
      " 0.94273948 0.94280626 0.93519986 0.93517856]\n",
      "Final averge f1 score of model is : 0.931392526370276\n",
      "Test Accuracy of Model is :  0.9294294294294294\n"
     ]
    }
   ],
   "source": [
    "from sklearn.metrics import classification_report,plot_confusion_matrix\n",
    "from sklearn.metrics import f1_score,accuracy_score\n",
    "from sklearn.model_selection import cross_val_score\n",
    "\n",
    "LR=LogisticRegression(C=1,penalty='l2',solver='newton-cg')\n",
    "\n",
    "LR.fit(X_train,y_train)\n",
    "\n",
    "predLR=LR.predict(X_test)\n",
    "\n",
    "print(classification_report(predLR,y_test))\n",
    "print(\"F1 score of Fitted Model is :\",f1_score(predLR,y_test,average='weighted'))\n",
    "print(plot_confusion_matrix(LR,X_test,y_test))\n",
    "plt.show()\n",
    "\n",
    "cv=cross_val_score(LR,X,y,cv=10,scoring='f1_weighted')\n",
    "\n",
    "print(cv)\n",
    "print(\"Final averge f1 score of model is :\",np.mean(cv))\n",
    "print(\"Test Accuracy of Model is : \",accuracy_score(predLR,y_test))\n"
   ]
  },
  {
   "cell_type": "code",
   "execution_count": null,
   "id": "0446abb3-a063-4e95-ad2e-9ffc2637c69c",
   "metadata": {},
   "outputs": [],
   "source": []
  },
  {
   "cell_type": "markdown",
   "id": "809e7f99-c4af-4f84-8ad2-37bbe24d1e39",
   "metadata": {},
   "source": [
    "### Decision Trees"
   ]
  },
  {
   "cell_type": "code",
   "execution_count": 92,
   "id": "ff800dcb-9b3e-4368-a475-b67d6d66784b",
   "metadata": {},
   "outputs": [
    {
     "data": {
      "text/plain": [
       "{'criterion': 'entropy', 'max_depth': 7}"
      ]
     },
     "execution_count": 92,
     "metadata": {},
     "output_type": "execute_result"
    }
   ],
   "source": [
    "from sklearn.model_selection import GridSearchCV\n",
    "from sklearn.tree import DecisionTreeClassifier\n",
    "\n",
    "DT=DecisionTreeClassifier()\n",
    "\n",
    "params={'max_depth':[i for i in range(3,16)],'criterion':['entropy','gini']}\n",
    "\n",
    "gcv=GridSearchCV(DT,param_grid=params,cv=10,scoring='f1_weighted')\n",
    "gcv.fit(X,y)\n",
    "gcv.best_params_"
   ]
  },
  {
   "cell_type": "code",
   "execution_count": 93,
   "id": "b10b291e-715e-4268-9c31-d89082f9a999",
   "metadata": {},
   "outputs": [
    {
     "data": {
      "text/plain": [
       "0.9396751419404232"
      ]
     },
     "execution_count": 93,
     "metadata": {},
     "output_type": "execute_result"
    }
   ],
   "source": [
    "gcv.best_score_"
   ]
  },
  {
   "cell_type": "code",
   "execution_count": 94,
   "id": "29033f86-5c46-420a-b008-8ed2d2a6d796",
   "metadata": {},
   "outputs": [
    {
     "name": "stdout",
     "output_type": "stream",
     "text": [
      "              precision    recall  f1-score   support\n",
      "\n",
      "           0       0.98      0.90      0.94      1182\n",
      "           1       0.87      0.98      0.92       816\n",
      "\n",
      "    accuracy                           0.93      1998\n",
      "   macro avg       0.93      0.94      0.93      1998\n",
      "weighted avg       0.94      0.93      0.93      1998\n",
      "\n",
      "F1 score of Fitted Model is : 0.9318878912824076\n",
      "<sklearn.metrics._plot.confusion_matrix.ConfusionMatrixDisplay object at 0x00000243099D4EB0>\n"
     ]
    },
    {
     "data": {
      "image/png": "[encoded data removed]",
      "text/plain": [
       "<Figure size 432x288 with 2 Axes>"
      ]
     },
     "metadata": {
      "needs_background": "light"
     },
     "output_type": "display_data"
    },
    {
     "name": "stdout",
     "output_type": "stream",
     "text": [
      "[0.94722341 0.90432612 0.92898249 0.94116318 0.93808219 0.95166089\n",
      " 0.95018983 0.94112731 0.95002861 0.944126  ]\n",
      "Final averge f1 score of model is : 0.9396910026808735\n",
      "Test Accuracy of Model is :  0.9314314314314315\n"
     ]
    },
    {
     "data": {
      "text/plain": [
       "<AxesSubplot:>"
      ]
     },
     "execution_count": 94,
     "metadata": {},
     "output_type": "execute_result"
    },
    {
     "data": {
      "image/png": "[encoded data removed]",
      "text/plain": [
       "<Figure size 432x288 with 1 Axes>"
      ]
     },
     "metadata": {
      "needs_background": "light"
     },
     "output_type": "display_data"
    }
   ],
   "source": [
    "from sklearn.metrics import classification_report,plot_confusion_matrix\n",
    "from sklearn.metrics import f1_score,accuracy_score\n",
    "from sklearn.model_selection import cross_val_score\n",
    "\n",
    "DT=DecisionTreeClassifier(max_depth=7,criterion='entropy')\n",
    "\n",
    "DT.fit(X_train,y_train)\n",
    "predDT=DT.predict(X_test)\n",
    "\n",
    "print(classification_report(predDT,y_test))\n",
    "print(\"F1 score of Fitted Model is :\",f1_score(predDT,y_test,average='weighted'))\n",
    "print(plot_confusion_matrix(DT,X_test,y_test))\n",
    "plt.show()\n",
    "\n",
    "cv=cross_val_score(DT,X,y,cv=10,scoring='f1_weighted')\n",
    "\n",
    "print(cv)\n",
    "print(\"Final averge f1 score of model is :\",np.mean(cv))\n",
    "print(\"Test Accuracy of Model is : \",accuracy_score(predDT,y_test))\n",
    "\n",
    "features=pd.Series(DT.feature_importances_,index=list(Ad_dataML.columns))\n",
    "features.nlargest(5).plot(kind='barh')\n"
   ]
  },
  {
   "cell_type": "code",
   "execution_count": 95,
   "id": "49417a6a-5386-4f76-b0be-c5dc5acde105",
   "metadata": {},
   "outputs": [
    {
     "data": {
      "text/plain": [
       "<sklearn.metrics._plot.roc_curve.RocCurveDisplay at 0x24309f37a30>"
      ]
     },
     "execution_count": 95,
     "metadata": {},
     "output_type": "execute_result"
    },
    {
     "data": {
      "image/png": "[encoded data removed]",
      "text/plain": [
       "<Figure size 432x288 with 1 Axes>"
      ]
     },
     "metadata": {
      "needs_background": "light"
     },
     "output_type": "display_data"
    }
   ],
   "source": [
    "from sklearn.metrics import plot_roc_curve,roc_auc_score\n",
    "\n",
    "plot_roc_curve(LR,X,y)\n"
   ]
  },
  {
   "cell_type": "code",
   "execution_count": 96,
   "id": "8ab9ca62-9c22-4acb-a587-25ea7311de2c",
   "metadata": {},
   "outputs": [
    {
     "data": {
      "text/plain": [
       "<sklearn.metrics._plot.roc_curve.RocCurveDisplay at 0x24309a28e50>"
      ]
     },
     "execution_count": 96,
     "metadata": {},
     "output_type": "execute_result"
    },
    {
     "data": {
      "image/png": "[encoded data removed]",
      "text/plain": [
       "<Figure size 432x288 with 1 Axes>"
      ]
     },
     "metadata": {
      "needs_background": "light"
     },
     "output_type": "display_data"
    }
   ],
   "source": [
    "plot_roc_curve(DT,X,y)"
   ]
  },
  {
   "cell_type": "code",
   "execution_count": null,
   "id": "25981162-b878-41f8-90ef-ed041409590c",
   "metadata": {},
   "outputs": [],
   "source": []
  },
  {
   "cell_type": "markdown",
   "id": "52aa48cd",
   "metadata": {},
   "source": [
    "### Random Forest \n"
   ]
  },
  {
   "cell_type": "code",
   "execution_count": 102,
   "id": "af68cee7",
   "metadata": {},
   "outputs": [
    {
     "name": "stdout",
     "output_type": "stream",
     "text": [
      "              precision    recall  f1-score   support\n",
      "\n",
      "           0       0.92      0.98      0.95      1085\n",
      "           1       0.97      0.90      0.94       913\n",
      "\n",
      "    accuracy                           0.94      1998\n",
      "   macro avg       0.95      0.94      0.94      1998\n",
      "weighted avg       0.95      0.94      0.94      1998\n",
      "\n",
      "F1 Score of the fitted model is : 0.9432\n",
      "<sklearn.metrics._plot.confusion_matrix.ConfusionMatrixDisplay object at 0x000002430A5E6C70>\n"
     ]
    },
    {
     "data": {
      "image/png": "[encoded data removed]",
      "text/plain": [
       "<Figure size 432x288 with 2 Axes>"
      ]
     },
     "metadata": {
      "needs_background": "light"
     },
     "output_type": "display_data"
    },
    {
     "name": "stdout",
     "output_type": "stream",
     "text": [
      "[0.94740979 0.90891395 0.93366795 0.94572832 0.94415224 0.95776855\n",
      " 0.94418045 0.94879154 0.95622288 0.95478465]\n",
      "Average f1 score of model is : 0.9442\n"
     ]
    },
    {
     "data": {
      "text/plain": [
       "<AxesSubplot:>"
      ]
     },
     "execution_count": 102,
     "metadata": {},
     "output_type": "execute_result"
    },
    {
     "data": {
      "image/png": "[encoded data removed]",
      "text/plain": [
       "<Figure size 432x288 with 1 Axes>"
      ]
     },
     "metadata": {
      "needs_background": "light"
     },
     "output_type": "display_data"
    }
   ],
   "source": [
    "from sklearn.ensemble import RandomForestClassifier\n",
    "\n",
    "RF=RandomForestClassifier(n_estimators=100,max_depth=7,criterion='gini')\n",
    "RF.fit(X_train,y_train)\n",
    "\n",
    "predRF=RF.predict(X_test)\n",
    "\n",
    "print(classification_report(y_test,predRF))\n",
    "print(\"F1 Score of the fitted model is :\",round(f1_score(y_test,predRF,average='weighted'),4))\n",
    "\n",
    "print(plot_confusion_matrix(RF,X_test,y_test))\n",
    "plt.show()\n",
    "\n",
    "\n",
    "cv=cross_val_score(RF,X,y,cv=10,scoring='f1_weighted')\n",
    "\n",
    "print(cv)\n",
    "print(\"Average f1 score of model is :\",round(np.mean(cv),4))\n",
    "\n",
    "features=pd.Series(RF.feature_importances_,index=list(Ad_dataML.columns))\n",
    "features.nlargest(5).plot(kind='barh')\n"
   ]
  },
  {
   "cell_type": "code",
   "execution_count": 101,
   "id": "2879edc1",
   "metadata": {},
   "outputs": [
    {
     "data": {
      "text/plain": [
       "['Time_Spent',\n",
       " 'Age',\n",
       " 'Avg_Income',\n",
       " 'Internet_Usage',\n",
       " 'Ad_Topic',\n",
       " 'City_code',\n",
       " 'Male',\n",
       " 'Time_Period']"
      ]
     },
     "execution_count": 101,
     "metadata": {},
     "output_type": "execute_result"
    }
   ],
   "source": []
  },
  {
   "cell_type": "markdown",
   "id": "270d58a1",
   "metadata": {},
   "source": [
    "### AdaBoost\n"
   ]
  },
  {
   "cell_type": "code",
   "execution_count": 105,
   "id": "86d34fba",
   "metadata": {},
   "outputs": [
    {
     "data": {
      "text/plain": [
       "AdaBoostClassifier(base_estimator=DecisionTreeClassifier(criterion='entropy',\n",
       "                                                         max_depth=7),\n",
       "                   learning_rate=0.01, n_estimators=150)"
      ]
     },
     "execution_count": 105,
     "metadata": {},
     "output_type": "execute_result"
    }
   ],
   "source": [
    "from sklearn.ensemble import AdaBoostClassifier\n",
    "\n",
    "ADA=AdaBoostClassifier(base_estimator=DT,n_estimators=150,learning_rate=0.01)\n",
    "\n",
    "ADA.fit(X_train,y_train)\n"
   ]
  },
  {
   "cell_type": "code",
   "execution_count": 113,
   "id": "bb0308b3",
   "metadata": {},
   "outputs": [
    {
     "name": "stdout",
     "output_type": "stream",
     "text": [
      "              precision    recall  f1-score   support\n",
      "\n",
      "           0       0.91      0.98      0.94      1085\n",
      "           1       0.97      0.89      0.93       913\n",
      "\n",
      "    accuracy                           0.94      1998\n",
      "   macro avg       0.94      0.93      0.94      1998\n",
      "weighted avg       0.94      0.94      0.94      1998\n",
      "\n",
      "F1 Score of the fitted model is : 0.9376\n",
      "<sklearn.metrics._plot.confusion_matrix.ConfusionMatrixDisplay object at 0x0000024309088730>\n"
     ]
    },
    {
     "data": {
      "image/png": "[encoded data removed]",
      "text/plain": [
       "<Figure size 432x288 with 2 Axes>"
      ]
     },
     "metadata": {
      "needs_background": "light"
     },
     "output_type": "display_data"
    },
    {
     "name": "stdout",
     "output_type": "stream",
     "text": [
      "[0.95189419 0.90303584 0.9351905  0.94572832 0.92472202 0.95318409\n",
      " 0.94273948 0.94278717 0.94718958 0.94417682]\n",
      "Average f1 score of model is : 0.9391\n"
     ]
    },
    {
     "data": {
      "text/plain": [
       "<AxesSubplot:>"
      ]
     },
     "execution_count": 113,
     "metadata": {},
     "output_type": "execute_result"
    },
    {
     "data": {
      "image/png": "[encoded data removed]",
      "text/plain": [
       "<Figure size 432x288 with 1 Axes>"
      ]
     },
     "metadata": {
      "needs_background": "light"
     },
     "output_type": "display_data"
    }
   ],
   "source": [
    "predADA=ADA.predict(X_test)\n",
    "\n",
    "print(classification_report(y_test,predADA))\n",
    "print(\"F1 Score of the fitted model is :\",round(f1_score(y_test,predADA,average='weighted'),4))\n",
    "\n",
    "print(plot_confusion_matrix(ADA,X_test,y_test))\n",
    "plt.show()\n",
    "\n",
    "cv=cross_val_score(ADA,X,y,cv=10,scoring='f1_weighted')\n",
    "\n",
    "print(cv)\n",
    "print(\"Average f1 score of model is :\",round(np.mean(cv),4))\n",
    "\n",
    "features=pd.Series(ADA.feature_importances_,index=list(Ad_dataML.columns))\n",
    "features.nlargest(5).plot(kind='barh')\n",
    "\n"
   ]
  },
  {
   "cell_type": "code",
   "execution_count": null,
   "id": "80e1ba2e",
   "metadata": {},
   "outputs": [],
   "source": []
  },
  {
   "cell_type": "markdown",
   "id": "347e51e9",
   "metadata": {},
   "source": [
    "### XGBoost"
   ]
  },
  {
   "cell_type": "code",
   "execution_count": 130,
   "id": "ae1fe1ef",
   "metadata": {},
   "outputs": [
    {
     "name": "stdout",
     "output_type": "stream",
     "text": [
      "              precision    recall  f1-score   support\n",
      "\n",
      "           0       0.91      0.98      0.94      1085\n",
      "           1       0.98      0.88      0.93       913\n",
      "\n",
      "    accuracy                           0.94      1998\n",
      "   macro avg       0.94      0.93      0.93      1998\n",
      "weighted avg       0.94      0.94      0.94      1998\n",
      "\n",
      "F1 score of fitted model is : 0.9350532195869328\n",
      "<sklearn.metrics._plot.confusion_matrix.ConfusionMatrixDisplay object at 0x000002430960F730>\n"
     ]
    },
    {
     "data": {
      "image/png": "[encoded data removed]",
      "text/plain": [
       "<Figure size 432x288 with 2 Axes>"
      ]
     },
     "metadata": {
      "needs_background": "light"
     },
     "output_type": "display_data"
    },
    {
     "data": {
      "text/plain": [
       "<AxesSubplot:>"
      ]
     },
     "execution_count": 130,
     "metadata": {},
     "output_type": "execute_result"
    },
    {
     "data": {
      "image/png": "[encoded data removed]",
      "text/plain": [
       "<Figure size 432x288 with 1 Axes>"
      ]
     },
     "metadata": {
      "needs_background": "light"
     },
     "output_type": "display_data"
    }
   ],
   "source": [
    "from xgboost import XGBClassifier\n",
    "\n",
    "XGB=XGBClassifier(n_estimators=100,max_depth=6,learning_rate=0.01,objective='binary:logistic',booster='gbtree',eval_metric='logloss')\n",
    "\n",
    "XGB.fit(X_train,y_train)\n",
    "\n",
    "predXGB=XGB.predict(X_test)\n",
    "\n",
    "print(classification_report(y_test,predXGB))\n",
    "print(\"F1 score of fitted model is :\",f1_score(y_test,predXGB,average='weighted'))\n",
    "\n",
    "print(plot_confusion_matrix(XGB,X_test,y_test))\n",
    "plt.show()\n",
    "\n",
    "features=pd.Series(XGB.feature_importances_,index=list(Ad_dataML.columns))\n",
    "features.nlargest(5).plot(kind='barh')"
   ]
  },
  {
   "cell_type": "code",
   "execution_count": null,
   "id": "939ddbb5",
   "metadata": {},
   "outputs": [],
   "source": []
  }
 ],
 "metadata": {
  "kernelspec": {
   "display_name": "Python 3 (ipykernel)",
   "language": "python",
   "name": "python3"
  },
  "language_info": {
   "codemirror_mode": {
    "name": "ipython",
    "version": 3
   },
   "file_extension": ".py",
   "mimetype": "text/x-python",
   "name": "python",
   "nbconvert_exporter": "python",
   "pygments_lexer": "ipython3",
   "version": "3.9.7"
  }
 },
 "nbformat": 4,
 "nbformat_minor": 5
}
