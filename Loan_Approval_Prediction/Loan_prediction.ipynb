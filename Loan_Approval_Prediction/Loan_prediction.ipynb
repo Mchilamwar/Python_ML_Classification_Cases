{
 "cells": [
  {
   "cell_type": "code",
   "execution_count": 1,
   "id": "e9d0d4d1-6eb3-4fa8-a2b0-83dba78831c8",
   "metadata": {},
   "outputs": [],
   "source": [
    "import warnings\n",
    "warnings.filterwarnings('ignore')"
   ]
  },
  {
   "cell_type": "code",
   "execution_count": 2,
   "id": "272b073f-83fb-4033-b86d-8d475dc2c3f9",
   "metadata": {},
   "outputs": [
    {
     "data": {
      "text/html": [
       "<div>\n",
       "<style scoped>\n",
       "    .dataframe tbody tr th:only-of-type {\n",
       "        vertical-align: middle;\n",
       "    }\n",
       "\n",
       "    .dataframe tbody tr th {\n",
       "        vertical-align: top;\n",
       "    }\n",
       "\n",
       "    .dataframe thead th {\n",
       "        text-align: right;\n",
       "    }\n",
       "</style>\n",
       "<table border=\"1\" class=\"dataframe\">\n",
       "  <thead>\n",
       "    <tr style=\"text-align: right;\">\n",
       "      <th></th>\n",
       "      <th>Loan_ID</th>\n",
       "      <th>Gender</th>\n",
       "      <th>Married</th>\n",
       "      <th>Dependents</th>\n",
       "      <th>Education</th>\n",
       "      <th>Self_Employed</th>\n",
       "      <th>ApplicantIncome</th>\n",
       "      <th>CoapplicantIncome</th>\n",
       "      <th>LoanAmount</th>\n",
       "      <th>Loan_Amount_Term</th>\n",
       "      <th>Credit_History</th>\n",
       "      <th>Property_Area</th>\n",
       "      <th>Loan_Status</th>\n",
       "    </tr>\n",
       "  </thead>\n",
       "  <tbody>\n",
       "    <tr>\n",
       "      <th>0</th>\n",
       "      <td>LP001002</td>\n",
       "      <td>Male</td>\n",
       "      <td>No</td>\n",
       "      <td>0</td>\n",
       "      <td>Graduate</td>\n",
       "      <td>No</td>\n",
       "      <td>5849</td>\n",
       "      <td>0.0</td>\n",
       "      <td>NaN</td>\n",
       "      <td>360.0</td>\n",
       "      <td>1.0</td>\n",
       "      <td>Urban</td>\n",
       "      <td>Y</td>\n",
       "    </tr>\n",
       "    <tr>\n",
       "      <th>1</th>\n",
       "      <td>LP001003</td>\n",
       "      <td>Male</td>\n",
       "      <td>Yes</td>\n",
       "      <td>1</td>\n",
       "      <td>Graduate</td>\n",
       "      <td>No</td>\n",
       "      <td>4583</td>\n",
       "      <td>1508.0</td>\n",
       "      <td>128.0</td>\n",
       "      <td>360.0</td>\n",
       "      <td>1.0</td>\n",
       "      <td>Rural</td>\n",
       "      <td>N</td>\n",
       "    </tr>\n",
       "    <tr>\n",
       "      <th>2</th>\n",
       "      <td>LP001005</td>\n",
       "      <td>Male</td>\n",
       "      <td>Yes</td>\n",
       "      <td>0</td>\n",
       "      <td>Graduate</td>\n",
       "      <td>Yes</td>\n",
       "      <td>3000</td>\n",
       "      <td>0.0</td>\n",
       "      <td>66.0</td>\n",
       "      <td>360.0</td>\n",
       "      <td>1.0</td>\n",
       "      <td>Urban</td>\n",
       "      <td>Y</td>\n",
       "    </tr>\n",
       "    <tr>\n",
       "      <th>3</th>\n",
       "      <td>LP001006</td>\n",
       "      <td>Male</td>\n",
       "      <td>Yes</td>\n",
       "      <td>0</td>\n",
       "      <td>Not Graduate</td>\n",
       "      <td>No</td>\n",
       "      <td>2583</td>\n",
       "      <td>2358.0</td>\n",
       "      <td>120.0</td>\n",
       "      <td>360.0</td>\n",
       "      <td>1.0</td>\n",
       "      <td>Urban</td>\n",
       "      <td>Y</td>\n",
       "    </tr>\n",
       "    <tr>\n",
       "      <th>4</th>\n",
       "      <td>LP001008</td>\n",
       "      <td>Male</td>\n",
       "      <td>No</td>\n",
       "      <td>0</td>\n",
       "      <td>Graduate</td>\n",
       "      <td>No</td>\n",
       "      <td>6000</td>\n",
       "      <td>0.0</td>\n",
       "      <td>141.0</td>\n",
       "      <td>360.0</td>\n",
       "      <td>1.0</td>\n",
       "      <td>Urban</td>\n",
       "      <td>Y</td>\n",
       "    </tr>\n",
       "  </tbody>\n",
       "</table>\n",
       "</div>"
      ],
      "text/plain": [
       "    Loan_ID Gender Married Dependents     Education Self_Employed  \\\n",
       "0  LP001002   Male      No          0      Graduate            No   \n",
       "1  LP001003   Male     Yes          1      Graduate            No   \n",
       "2  LP001005   Male     Yes          0      Graduate           Yes   \n",
       "3  LP001006   Male     Yes          0  Not Graduate            No   \n",
       "4  LP001008   Male      No          0      Graduate            No   \n",
       "\n",
       "   ApplicantIncome  CoapplicantIncome  LoanAmount  Loan_Amount_Term  \\\n",
       "0             5849                0.0         NaN             360.0   \n",
       "1             4583             1508.0       128.0             360.0   \n",
       "2             3000                0.0        66.0             360.0   \n",
       "3             2583             2358.0       120.0             360.0   \n",
       "4             6000                0.0       141.0             360.0   \n",
       "\n",
       "   Credit_History Property_Area Loan_Status  \n",
       "0             1.0         Urban           Y  \n",
       "1             1.0         Rural           N  \n",
       "2             1.0         Urban           Y  \n",
       "3             1.0         Urban           Y  \n",
       "4             1.0         Urban           Y  "
      ]
     },
     "execution_count": 2,
     "metadata": {},
     "output_type": "execute_result"
    }
   ],
   "source": [
    "import pandas as pd\n",
    "import numpy as np\n",
    "import matplotlib.pyplot as plt\n",
    "\n",
    "LoanDF=pd.read_csv(\"Loan_Approval_Data.csv\")\n",
    "LoanDF.head()"
   ]
  },
  {
   "cell_type": "code",
   "execution_count": 3,
   "id": "ef6bfc77-c4d0-4c69-bbef-352cb2fd019e",
   "metadata": {},
   "outputs": [
    {
     "data": {
      "text/plain": [
       "(614, 13)"
      ]
     },
     "execution_count": 3,
     "metadata": {},
     "output_type": "execute_result"
    }
   ],
   "source": [
    "LoanDF.shape"
   ]
  },
  {
   "cell_type": "code",
   "execution_count": 4,
   "id": "69dabebb-ca39-4237-b198-afbe1db366eb",
   "metadata": {},
   "outputs": [],
   "source": [
    "LoanDF.duplicated().sum()\n",
    "LoanDF.drop_duplicates(inplace=True)"
   ]
  },
  {
   "cell_type": "markdown",
   "id": "400f412a-ae41-4082-a85c-d8ffbcbfa7dc",
   "metadata": {},
   "source": [
    "### Defining Problem Statement\n",
    "* Target :- Predict the Loan_status (Y/N) Approve or reject based on predictors \n",
    "* Predictors :- Gender,Married,education,Income,etc."
   ]
  },
  {
   "cell_type": "code",
   "execution_count": null,
   "id": "686a9525-3730-47ed-b972-1d567275c03c",
   "metadata": {},
   "outputs": [],
   "source": [
    "\n"
   ]
  },
  {
   "cell_type": "markdown",
   "id": "91d94185-6281-4d3d-94a9-fff306834f8d",
   "metadata": {},
   "source": [
    "### Analysing Distribution of Target Variable"
   ]
  },
  {
   "cell_type": "code",
   "execution_count": 5,
   "id": "da59e433-b04f-4678-9d7b-047647ac75f9",
   "metadata": {},
   "outputs": [
    {
     "data": {
      "text/plain": [
       "<AxesSubplot:xlabel='Loan_Status'>"
      ]
     },
     "execution_count": 5,
     "metadata": {},
     "output_type": "execute_result"
    },
    {
     "data": {
      "image/png": "[encoded data removed]",
      "text/plain": [
       "<Figure size 432x288 with 1 Axes>"
      ]
     },
     "metadata": {
      "needs_background": "light"
     },
     "output_type": "display_data"
    }
   ],
   "source": [
    "LoanDF.groupby('Loan_Status').size().plot(kind='bar',color=['red','lightgreen'])\n"
   ]
  },
  {
   "cell_type": "markdown",
   "id": "6f6c4e66-7e69-4f8a-ad21-c681f48d89d7",
   "metadata": {},
   "source": [
    "* Distribution target is good and suitable for ML"
   ]
  },
  {
   "cell_type": "markdown",
   "id": "61acd42c-fc8a-443d-a425-8e595c57cd5c",
   "metadata": {},
   "source": [
    "### Basic Data Exploration\n",
    "* info()\n",
    "* describe()\n",
    "* nunique()"
   ]
  },
  {
   "cell_type": "code",
   "execution_count": 6,
   "id": "03ae4805-d7a0-4875-8dc1-fa43743f8e95",
   "metadata": {},
   "outputs": [
    {
     "name": "stdout",
     "output_type": "stream",
     "text": [
      "<class 'pandas.core.frame.DataFrame'>\n",
      "Int64Index: 614 entries, 0 to 613\n",
      "Data columns (total 13 columns):\n",
      " #   Column             Non-Null Count  Dtype  \n",
      "---  ------             --------------  -----  \n",
      " 0   Loan_ID            614 non-null    object \n",
      " 1   Gender             601 non-null    object \n",
      " 2   Married            611 non-null    object \n",
      " 3   Dependents         599 non-null    object \n",
      " 4   Education          614 non-null    object \n",
      " 5   Self_Employed      582 non-null    object \n",
      " 6   ApplicantIncome    614 non-null    int64  \n",
      " 7   CoapplicantIncome  614 non-null    float64\n",
      " 8   LoanAmount         592 non-null    float64\n",
      " 9   Loan_Amount_Term   600 non-null    float64\n",
      " 10  Credit_History     564 non-null    float64\n",
      " 11  Property_Area      614 non-null    object \n",
      " 12  Loan_Status        614 non-null    object \n",
      "dtypes: float64(4), int64(1), object(8)\n",
      "memory usage: 67.2+ KB\n"
     ]
    }
   ],
   "source": [
    "LoanDF.info()"
   ]
  },
  {
   "cell_type": "code",
   "execution_count": 7,
   "id": "aedc11c9-7893-4549-b292-387c4c4f44d0",
   "metadata": {},
   "outputs": [
    {
     "data": {
      "text/html": [
       "<div>\n",
       "<style scoped>\n",
       "    .dataframe tbody tr th:only-of-type {\n",
       "        vertical-align: middle;\n",
       "    }\n",
       "\n",
       "    .dataframe tbody tr th {\n",
       "        vertical-align: top;\n",
       "    }\n",
       "\n",
       "    .dataframe thead th {\n",
       "        text-align: right;\n",
       "    }\n",
       "</style>\n",
       "<table border=\"1\" class=\"dataframe\">\n",
       "  <thead>\n",
       "    <tr style=\"text-align: right;\">\n",
       "      <th></th>\n",
       "      <th>Loan_ID</th>\n",
       "      <th>Gender</th>\n",
       "      <th>Married</th>\n",
       "      <th>Dependents</th>\n",
       "      <th>Education</th>\n",
       "      <th>Self_Employed</th>\n",
       "      <th>ApplicantIncome</th>\n",
       "      <th>CoapplicantIncome</th>\n",
       "      <th>LoanAmount</th>\n",
       "      <th>Loan_Amount_Term</th>\n",
       "      <th>Credit_History</th>\n",
       "      <th>Property_Area</th>\n",
       "      <th>Loan_Status</th>\n",
       "    </tr>\n",
       "  </thead>\n",
       "  <tbody>\n",
       "    <tr>\n",
       "      <th>count</th>\n",
       "      <td>614</td>\n",
       "      <td>601</td>\n",
       "      <td>611</td>\n",
       "      <td>599</td>\n",
       "      <td>614</td>\n",
       "      <td>582</td>\n",
       "      <td>614.000000</td>\n",
       "      <td>614.000000</td>\n",
       "      <td>592.000000</td>\n",
       "      <td>600.00000</td>\n",
       "      <td>564.000000</td>\n",
       "      <td>614</td>\n",
       "      <td>614</td>\n",
       "    </tr>\n",
       "    <tr>\n",
       "      <th>unique</th>\n",
       "      <td>614</td>\n",
       "      <td>2</td>\n",
       "      <td>2</td>\n",
       "      <td>4</td>\n",
       "      <td>2</td>\n",
       "      <td>2</td>\n",
       "      <td>NaN</td>\n",
       "      <td>NaN</td>\n",
       "      <td>NaN</td>\n",
       "      <td>NaN</td>\n",
       "      <td>NaN</td>\n",
       "      <td>3</td>\n",
       "      <td>2</td>\n",
       "    </tr>\n",
       "    <tr>\n",
       "      <th>top</th>\n",
       "      <td>LP001002</td>\n",
       "      <td>Male</td>\n",
       "      <td>Yes</td>\n",
       "      <td>0</td>\n",
       "      <td>Graduate</td>\n",
       "      <td>No</td>\n",
       "      <td>NaN</td>\n",
       "      <td>NaN</td>\n",
       "      <td>NaN</td>\n",
       "      <td>NaN</td>\n",
       "      <td>NaN</td>\n",
       "      <td>Semiurban</td>\n",
       "      <td>Y</td>\n",
       "    </tr>\n",
       "    <tr>\n",
       "      <th>freq</th>\n",
       "      <td>1</td>\n",
       "      <td>489</td>\n",
       "      <td>398</td>\n",
       "      <td>345</td>\n",
       "      <td>480</td>\n",
       "      <td>500</td>\n",
       "      <td>NaN</td>\n",
       "      <td>NaN</td>\n",
       "      <td>NaN</td>\n",
       "      <td>NaN</td>\n",
       "      <td>NaN</td>\n",
       "      <td>233</td>\n",
       "      <td>422</td>\n",
       "    </tr>\n",
       "    <tr>\n",
       "      <th>mean</th>\n",
       "      <td>NaN</td>\n",
       "      <td>NaN</td>\n",
       "      <td>NaN</td>\n",
       "      <td>NaN</td>\n",
       "      <td>NaN</td>\n",
       "      <td>NaN</td>\n",
       "      <td>5403.459283</td>\n",
       "      <td>1621.245798</td>\n",
       "      <td>146.412162</td>\n",
       "      <td>342.00000</td>\n",
       "      <td>0.842199</td>\n",
       "      <td>NaN</td>\n",
       "      <td>NaN</td>\n",
       "    </tr>\n",
       "    <tr>\n",
       "      <th>std</th>\n",
       "      <td>NaN</td>\n",
       "      <td>NaN</td>\n",
       "      <td>NaN</td>\n",
       "      <td>NaN</td>\n",
       "      <td>NaN</td>\n",
       "      <td>NaN</td>\n",
       "      <td>6109.041673</td>\n",
       "      <td>2926.248369</td>\n",
       "      <td>85.587325</td>\n",
       "      <td>65.12041</td>\n",
       "      <td>0.364878</td>\n",
       "      <td>NaN</td>\n",
       "      <td>NaN</td>\n",
       "    </tr>\n",
       "    <tr>\n",
       "      <th>min</th>\n",
       "      <td>NaN</td>\n",
       "      <td>NaN</td>\n",
       "      <td>NaN</td>\n",
       "      <td>NaN</td>\n",
       "      <td>NaN</td>\n",
       "      <td>NaN</td>\n",
       "      <td>150.000000</td>\n",
       "      <td>0.000000</td>\n",
       "      <td>9.000000</td>\n",
       "      <td>12.00000</td>\n",
       "      <td>0.000000</td>\n",
       "      <td>NaN</td>\n",
       "      <td>NaN</td>\n",
       "    </tr>\n",
       "    <tr>\n",
       "      <th>25%</th>\n",
       "      <td>NaN</td>\n",
       "      <td>NaN</td>\n",
       "      <td>NaN</td>\n",
       "      <td>NaN</td>\n",
       "      <td>NaN</td>\n",
       "      <td>NaN</td>\n",
       "      <td>2877.500000</td>\n",
       "      <td>0.000000</td>\n",
       "      <td>100.000000</td>\n",
       "      <td>360.00000</td>\n",
       "      <td>1.000000</td>\n",
       "      <td>NaN</td>\n",
       "      <td>NaN</td>\n",
       "    </tr>\n",
       "    <tr>\n",
       "      <th>50%</th>\n",
       "      <td>NaN</td>\n",
       "      <td>NaN</td>\n",
       "      <td>NaN</td>\n",
       "      <td>NaN</td>\n",
       "      <td>NaN</td>\n",
       "      <td>NaN</td>\n",
       "      <td>3812.500000</td>\n",
       "      <td>1188.500000</td>\n",
       "      <td>128.000000</td>\n",
       "      <td>360.00000</td>\n",
       "      <td>1.000000</td>\n",
       "      <td>NaN</td>\n",
       "      <td>NaN</td>\n",
       "    </tr>\n",
       "    <tr>\n",
       "      <th>75%</th>\n",
       "      <td>NaN</td>\n",
       "      <td>NaN</td>\n",
       "      <td>NaN</td>\n",
       "      <td>NaN</td>\n",
       "      <td>NaN</td>\n",
       "      <td>NaN</td>\n",
       "      <td>5795.000000</td>\n",
       "      <td>2297.250000</td>\n",
       "      <td>168.000000</td>\n",
       "      <td>360.00000</td>\n",
       "      <td>1.000000</td>\n",
       "      <td>NaN</td>\n",
       "      <td>NaN</td>\n",
       "    </tr>\n",
       "    <tr>\n",
       "      <th>max</th>\n",
       "      <td>NaN</td>\n",
       "      <td>NaN</td>\n",
       "      <td>NaN</td>\n",
       "      <td>NaN</td>\n",
       "      <td>NaN</td>\n",
       "      <td>NaN</td>\n",
       "      <td>81000.000000</td>\n",
       "      <td>41667.000000</td>\n",
       "      <td>700.000000</td>\n",
       "      <td>480.00000</td>\n",
       "      <td>1.000000</td>\n",
       "      <td>NaN</td>\n",
       "      <td>NaN</td>\n",
       "    </tr>\n",
       "  </tbody>\n",
       "</table>\n",
       "</div>"
      ],
      "text/plain": [
       "         Loan_ID Gender Married Dependents Education Self_Employed  \\\n",
       "count        614    601     611        599       614           582   \n",
       "unique       614      2       2          4         2             2   \n",
       "top     LP001002   Male     Yes          0  Graduate            No   \n",
       "freq           1    489     398        345       480           500   \n",
       "mean         NaN    NaN     NaN        NaN       NaN           NaN   \n",
       "std          NaN    NaN     NaN        NaN       NaN           NaN   \n",
       "min          NaN    NaN     NaN        NaN       NaN           NaN   \n",
       "25%          NaN    NaN     NaN        NaN       NaN           NaN   \n",
       "50%          NaN    NaN     NaN        NaN       NaN           NaN   \n",
       "75%          NaN    NaN     NaN        NaN       NaN           NaN   \n",
       "max          NaN    NaN     NaN        NaN       NaN           NaN   \n",
       "\n",
       "        ApplicantIncome  CoapplicantIncome  LoanAmount  Loan_Amount_Term  \\\n",
       "count        614.000000         614.000000  592.000000         600.00000   \n",
       "unique              NaN                NaN         NaN               NaN   \n",
       "top                 NaN                NaN         NaN               NaN   \n",
       "freq                NaN                NaN         NaN               NaN   \n",
       "mean        5403.459283        1621.245798  146.412162         342.00000   \n",
       "std         6109.041673        2926.248369   85.587325          65.12041   \n",
       "min          150.000000           0.000000    9.000000          12.00000   \n",
       "25%         2877.500000           0.000000  100.000000         360.00000   \n",
       "50%         3812.500000        1188.500000  128.000000         360.00000   \n",
       "75%         5795.000000        2297.250000  168.000000         360.00000   \n",
       "max        81000.000000       41667.000000  700.000000         480.00000   \n",
       "\n",
       "        Credit_History Property_Area Loan_Status  \n",
       "count       564.000000           614         614  \n",
       "unique             NaN             3           2  \n",
       "top                NaN     Semiurban           Y  \n",
       "freq               NaN           233         422  \n",
       "mean          0.842199           NaN         NaN  \n",
       "std           0.364878           NaN         NaN  \n",
       "min           0.000000           NaN         NaN  \n",
       "25%           1.000000           NaN         NaN  \n",
       "50%           1.000000           NaN         NaN  \n",
       "75%           1.000000           NaN         NaN  \n",
       "max           1.000000           NaN         NaN  "
      ]
     },
     "execution_count": 7,
     "metadata": {},
     "output_type": "execute_result"
    }
   ],
   "source": [
    "LoanDF.describe(include='all')"
   ]
  },
  {
   "cell_type": "code",
   "execution_count": 8,
   "id": "ef6bf24f-6fa1-40f4-ac9c-08d782cf11c6",
   "metadata": {},
   "outputs": [
    {
     "data": {
      "text/plain": [
       "Loan_ID              614\n",
       "Gender                 2\n",
       "Married                2\n",
       "Dependents             4\n",
       "Education              2\n",
       "Self_Employed          2\n",
       "ApplicantIncome      505\n",
       "CoapplicantIncome    287\n",
       "LoanAmount           203\n",
       "Loan_Amount_Term      10\n",
       "Credit_History         2\n",
       "Property_Area          3\n",
       "Loan_Status            2\n",
       "dtype: int64"
      ]
     },
     "execution_count": 8,
     "metadata": {},
     "output_type": "execute_result"
    }
   ],
   "source": [
    "LoanDF.nunique()"
   ]
  },
  {
   "cell_type": "markdown",
   "id": "900ef696-4c8d-4dbe-8188-5dc203eae030",
   "metadata": {},
   "source": [
    "#### Exploration Interpretation\n",
    "* Continuous Predictors:-ApplicantIncome,CoapplicantIncome,LoanAMount,Term\n",
    "* Categorical:Gender,Married,Dependents,etc\n",
    "* Qualitative (<b>Rejected</b>):- Loan_ID\n",
    "* Target :- Loan_Status"
   ]
  },
  {
   "cell_type": "code",
   "execution_count": 9,
   "id": "12789c2a-97d1-46be-a4e4-d68d07acf5ed",
   "metadata": {},
   "outputs": [],
   "source": [
    "# Removing Useless Column\n",
    "LoanDF.drop('Loan_ID',axis=1,inplace=True)"
   ]
  },
  {
   "cell_type": "code",
   "execution_count": 10,
   "id": "dbc99577-9683-49ad-b615-a80710c1a604",
   "metadata": {},
   "outputs": [],
   "source": [
    "Conti=['ApplicantIncome','CoapplicantIncome','LoanAmount']\n",
    "Categ=['Gender','Married','Dependents','Education','Self_Employed','Loan_Amount_Term','Credit_History','Property_Area']\n",
    "Target='Loan_Status'"
   ]
  },
  {
   "cell_type": "markdown",
   "id": "39b2cc75-f670-418d-9776-0764d6432ced",
   "metadata": {},
   "source": [
    "### Univariate Analysis\n",
    "* Continuous Predictors"
   ]
  },
  {
   "cell_type": "code",
   "execution_count": 11,
   "id": "16625ae5-56d7-45c9-bcb4-5270d1d214b4",
   "metadata": {},
   "outputs": [
    {
     "data": {
      "text/plain": [
       "array([[<AxesSubplot:title={'center':'ApplicantIncome'}>,\n",
       "        <AxesSubplot:title={'center':'CoapplicantIncome'}>],\n",
       "       [<AxesSubplot:title={'center':'LoanAmount'}>, <AxesSubplot:>]],\n",
       "      dtype=object)"
      ]
     },
     "execution_count": 11,
     "metadata": {},
     "output_type": "execute_result"
    },
    {
     "data": {
      "image/png": "[encoded data removed]",
      "text/plain": [
       "<Figure size 1440x360 with 4 Axes>"
      ]
     },
     "metadata": {
      "needs_background": "light"
     },
     "output_type": "display_data"
    }
   ],
   "source": [
    "LoanDF[Conti].hist(figsize=(20,5),color='cyan')"
   ]
  },
  {
   "cell_type": "markdown",
   "id": "33a470ec-4352-434a-9001-03e3d6fb465a",
   "metadata": {},
   "source": [
    "* Treating The Outliars for ApplicantIncome and CoapplicantIncome with Logical Business value"
   ]
  },
  {
   "cell_type": "code",
   "execution_count": 12,
   "id": "701a94c7-1540-47fa-a696-5815fd42df58",
   "metadata": {},
   "outputs": [
    {
     "data": {
      "text/plain": [
       "126    23803\n",
       "506    20833\n",
       "284    20667\n",
       "308    20233\n",
       "130    20166\n",
       "       ...  \n",
       "188      674\n",
       "500      645\n",
       "600      416\n",
       "468      210\n",
       "216      150\n",
       "Name: ApplicantIncome, Length: 607, dtype: int64"
      ]
     },
     "execution_count": 12,
     "metadata": {},
     "output_type": "execute_result"
    }
   ],
   "source": [
    "LoanDF['ApplicantIncome'][LoanDF['ApplicantIncome']<30000].sort_values(ascending=False)"
   ]
  },
  {
   "cell_type": "code",
   "execution_count": 13,
   "id": "c21b5772-4db1-4fed-8860-8f6a186acda5",
   "metadata": {},
   "outputs": [],
   "source": [
    "LoanDF['ApplicantIncome'][LoanDF['ApplicantIncome']>30000]=23803"
   ]
  },
  {
   "cell_type": "code",
   "execution_count": 14,
   "id": "322fd671-76bb-4a78-a8cb-7e39dd3cd4be",
   "metadata": {},
   "outputs": [
    {
     "data": {
      "text/plain": [
       "122    8980.0\n",
       "444    8333.0\n",
       "12     8106.0\n",
       "372    7873.0\n",
       "135    7750.0\n",
       "        ...  \n",
       "278       0.0\n",
       "274       0.0\n",
       "271       0.0\n",
       "270       0.0\n",
       "613       0.0\n",
       "Name: CoapplicantIncome, Length: 608, dtype: float64"
      ]
     },
     "execution_count": 14,
     "metadata": {},
     "output_type": "execute_result"
    }
   ],
   "source": [
    "LoanDF['CoapplicantIncome'][LoanDF['CoapplicantIncome']<10000].sort_values(ascending=False)"
   ]
  },
  {
   "cell_type": "code",
   "execution_count": 15,
   "id": "ed2119d4-9813-43e5-8143-a4e32d19b6f7",
   "metadata": {},
   "outputs": [],
   "source": [
    "LoanDF['CoapplicantIncome'][LoanDF['CoapplicantIncome']>10000]=8980"
   ]
  },
  {
   "cell_type": "code",
   "execution_count": 16,
   "id": "d7599e6f-0794-463d-89e4-ef463c573a40",
   "metadata": {},
   "outputs": [
    {
     "data": {
      "text/plain": [
       "array([[<AxesSubplot:title={'center':'ApplicantIncome'}>,\n",
       "        <AxesSubplot:title={'center':'CoapplicantIncome'}>],\n",
       "       [<AxesSubplot:title={'center':'LoanAmount'}>, <AxesSubplot:>]],\n",
       "      dtype=object)"
      ]
     },
     "execution_count": 16,
     "metadata": {},
     "output_type": "execute_result"
    },
    {
     "data": {
      "image/png": "[encoded data removed]",
      "text/plain": [
       "<Figure size 1440x360 with 4 Axes>"
      ]
     },
     "metadata": {
      "needs_background": "light"
     },
     "output_type": "display_data"
    }
   ],
   "source": [
    "# Plotting after Outliar treatment\n",
    "LoanDF[Conti].hist(figsize=(20,5),color='cyan')"
   ]
  },
  {
   "cell_type": "markdown",
   "id": "cfb87d76-361c-4ad1-b7cc-df3098389ba2",
   "metadata": {},
   "source": [
    "* Categorical Predictors"
   ]
  },
  {
   "cell_type": "code",
   "execution_count": 17,
   "id": "2a80731c-1eee-4324-a01e-fb6e2ad8bf0d",
   "metadata": {},
   "outputs": [
    {
     "data": {
      "image/png": "[encoded data removed]",
      "text/plain": [
       "<Figure size 1440x360 with 4 Axes>"
      ]
     },
     "metadata": {
      "needs_background": "light"
     },
     "output_type": "display_data"
    }
   ],
   "source": [
    "fig,subplot=plt.subplots(nrows=1,ncols=4,figsize=(20,5))\n",
    "\n",
    "for i,j in zip(Categ,range(4)):\n",
    "    LoanDF.groupby(i).size().plot(kind='bar',ax=subplot[j],color='magenta')"
   ]
  },
  {
   "cell_type": "code",
   "execution_count": 18,
   "id": "6167b45b-941e-421d-ae4f-537faea2ee80",
   "metadata": {},
   "outputs": [
    {
     "data": {
      "image/png": "[encoded data removed]",
      "text/plain": [
       "<Figure size 1440x360 with 4 Axes>"
      ]
     },
     "metadata": {
      "needs_background": "light"
     },
     "output_type": "display_data"
    }
   ],
   "source": [
    "fig,subplot=plt.subplots(nrows=1,ncols=4,figsize=(20,5))\n",
    "\n",
    "for i,j in zip(Categ[4:],range(4)):\n",
    "    LoanDF.groupby(i).size().plot(kind='bar',ax=subplot[j],color='magenta')"
   ]
  },
  {
   "cell_type": "markdown",
   "id": "48f8c6fe-7a07-47f3-92c2-c818c8cc9d23",
   "metadata": {},
   "source": [
    "* Treatment needed for Imbalanced Column Loan_Amount_Term"
   ]
  },
  {
   "cell_type": "code",
   "execution_count": 19,
   "id": "511d1b68-47a1-4c67-93bd-249d8369ce4b",
   "metadata": {},
   "outputs": [],
   "source": [
    "LoanDF['Loan_Amount_Term'][LoanDF['Loan_Amount_Term']<=180]=180.0"
   ]
  },
  {
   "cell_type": "code",
   "execution_count": 20,
   "id": "f18c493e-ae0c-4c9d-b536-f66a6bf86d48",
   "metadata": {},
   "outputs": [],
   "source": [
    "LoanDF['Loan_Amount_Term'][LoanDF['Loan_Amount_Term']==240]=300.0"
   ]
  },
  {
   "cell_type": "code",
   "execution_count": 21,
   "id": "cc11618b-3d11-4013-a83b-52c2a5094645",
   "metadata": {},
   "outputs": [
    {
     "data": {
      "text/plain": [
       "<AxesSubplot:xlabel='Loan_Amount_Term'>"
      ]
     },
     "execution_count": 21,
     "metadata": {},
     "output_type": "execute_result"
    },
    {
     "data": {
      "image/png": "[encoded data removed]",
      "text/plain": [
       "<Figure size 432x288 with 1 Axes>"
      ]
     },
     "metadata": {
      "needs_background": "light"
     },
     "output_type": "display_data"
    }
   ],
   "source": [
    "LoanDF.groupby('Loan_Amount_Term').size().plot(kind='bar')"
   ]
  },
  {
   "cell_type": "markdown",
   "id": "84b52927-0d80-4bea-8440-e98f2969e832",
   "metadata": {},
   "source": [
    "#### Analysis Result\n",
    "* Selected Continuous Predictors:- All\n",
    "* Selected Categorical Predictors:- All,(except) Loan_amount_term its having imbalance distribution even after treatmet,it can be confirmed further in Statistical Analysis"
   ]
  },
  {
   "cell_type": "markdown",
   "id": "b63f2fee-db9a-4186-ab1e-366c9a89c9ac",
   "metadata": {},
   "source": [
    "### Treating Missing Values"
   ]
  },
  {
   "cell_type": "code",
   "execution_count": 22,
   "id": "69d9a9cb-d845-485d-b484-c85fc8701df4",
   "metadata": {},
   "outputs": [
    {
     "data": {
      "text/plain": [
       "ApplicantIncome       0\n",
       "CoapplicantIncome     0\n",
       "LoanAmount           22\n",
       "dtype: int64"
      ]
     },
     "execution_count": 22,
     "metadata": {},
     "output_type": "execute_result"
    }
   ],
   "source": [
    "LoanDF[Conti].isna().sum()"
   ]
  },
  {
   "cell_type": "code",
   "execution_count": 23,
   "id": "d1fe990a-c68b-42f5-870f-164d57f6d174",
   "metadata": {},
   "outputs": [],
   "source": [
    "LoanDF['LoanAmount'].fillna(LoanDF['LoanAmount'].median(),inplace=True)"
   ]
  },
  {
   "cell_type": "code",
   "execution_count": 24,
   "id": "95d0d5f2-c0f5-4ae0-90c0-fb89c664c10e",
   "metadata": {},
   "outputs": [
    {
     "data": {
      "text/plain": [
       "Gender              13\n",
       "Married              3\n",
       "Dependents          15\n",
       "Education            0\n",
       "Self_Employed       32\n",
       "Loan_Amount_Term    14\n",
       "Credit_History      50\n",
       "Property_Area        0\n",
       "dtype: int64"
      ]
     },
     "execution_count": 24,
     "metadata": {},
     "output_type": "execute_result"
    }
   ],
   "source": [
    "LoanDF[Categ].isna().sum() "
   ]
  },
  {
   "cell_type": "code",
   "execution_count": 25,
   "id": "ff50a753-7a81-4d72-9ec8-a5c7386fca95",
   "metadata": {},
   "outputs": [],
   "source": [
    "for i in range(8):\n",
    "    LoanDF[Categ[i]].fillna(LoanDF[Categ[i]].mode()[0],inplace=True)"
   ]
  },
  {
   "cell_type": "code",
   "execution_count": 26,
   "id": "c39eb854-f3ea-4df1-ae31-bb46d8e1dd0e",
   "metadata": {},
   "outputs": [
    {
     "data": {
      "text/plain": [
       "Gender               0\n",
       "Married              0\n",
       "Dependents           0\n",
       "Education            0\n",
       "Self_Employed        0\n",
       "ApplicantIncome      0\n",
       "CoapplicantIncome    0\n",
       "LoanAmount           0\n",
       "Loan_Amount_Term     0\n",
       "Credit_History       0\n",
       "Property_Area        0\n",
       "Loan_Status          0\n",
       "dtype: int64"
      ]
     },
     "execution_count": 26,
     "metadata": {},
     "output_type": "execute_result"
    }
   ],
   "source": [
    "LoanDF.isna().sum()"
   ]
  },
  {
   "cell_type": "markdown",
   "id": "8a4ef6cc-6575-4042-a58d-8e27813f9fe7",
   "metadata": {},
   "source": [
    "### Bivariate Analysis\n",
    "* Continuous Vs Categorical"
   ]
  },
  {
   "cell_type": "code",
   "execution_count": 27,
   "id": "77c596f5-2bc7-40a3-8562-cc53c6de83f7",
   "metadata": {},
   "outputs": [
    {
     "data": {
      "image/png": "[encoded data removed]",
      "text/plain": [
       "<Figure size 1440x360 with 3 Axes>"
      ]
     },
     "metadata": {
      "needs_background": "light"
     },
     "output_type": "display_data"
    }
   ],
   "source": [
    "fig,subplot=plt.subplots(1,3,figsize=(20,5))\n",
    "for i,j in zip(Conti,range(3)):\n",
    "    LoanDF.boxplot(by=Target,column=i,ax=subplot[j])"
   ]
  },
  {
   "cell_type": "markdown",
   "id": "905eb0e3-0f55-4317-9fc7-00b85be6271f",
   "metadata": {},
   "source": [
    "#### ANOVA Test (Statistical analysis for correlation )"
   ]
  },
  {
   "cell_type": "code",
   "execution_count": 28,
   "id": "403d39b4-3118-4fc9-b459-56986268c0c1",
   "metadata": {},
   "outputs": [
    {
     "name": "stdout",
     "output_type": "stream",
     "text": [
      "Column ApplicantIncome is NOT correlated with Target | P-value :0.9529534007092838 \n",
      "Column CoapplicantIncome is NOT correlated with Target | P-value :0.9011685371080465 \n",
      "Column LoanAmount is NOT correlated with Target | P-value :0.41132365467797827 \n"
     ]
    },
    {
     "data": {
      "text/plain": [
       "[]"
      ]
     },
     "execution_count": 28,
     "metadata": {},
     "output_type": "execute_result"
    }
   ],
   "source": [
    "def fun_anova(df,pred,target):\n",
    "    from scipy.stats import f_oneway\n",
    "    selected_conti=[]\n",
    "    for i in pred:\n",
    "        inp=df.groupby(target)[i].apply(list)\n",
    "        \n",
    "        anov=f_oneway(*inp)\n",
    "        \n",
    "        if anov[1]<0.05:\n",
    "            print(\"Column {} is correlated with Target | P-value :{} \".format(i,anov[1]))\n",
    "            selected_conti.append(i)\n",
    "        \n",
    "        else:\n",
    "            print(\"Column {} is NOT correlated with Target | P-value :{} \".format(i,anov[1]))\n",
    "            \n",
    "    return selected_conti\n",
    "\n",
    "fun_anova(LoanDF,Conti,Target)\n",
    "      "
   ]
  },
  {
   "cell_type": "markdown",
   "id": "16f58ad3-652d-44f7-9ed6-5654b77fe4d2",
   "metadata": {},
   "source": [
    "* ANOVA test Rejected all the Continuous Variables"
   ]
  },
  {
   "cell_type": "markdown",
   "id": "3af0fbe8-64b9-498c-86ad-b4f34995ec44",
   "metadata": {},
   "source": [
    "* Categorical vs Categorical"
   ]
  },
  {
   "cell_type": "code",
   "execution_count": 29,
   "id": "24816e37-ee72-463f-885a-88d6808e1a96",
   "metadata": {},
   "outputs": [
    {
     "data": {
      "image/png": "[encoded data removed]",
      "text/plain": [
       "<Figure size 1440x360 with 4 Axes>"
      ]
     },
     "metadata": {
      "needs_background": "light"
     },
     "output_type": "display_data"
    }
   ],
   "source": [
    "fig,subplot=plt.subplots(1,4,figsize=(20,5))\n",
    "\n",
    "for i,j in zip(Categ,range(4)):\n",
    "    pd.crosstab(index=LoanDF[i],columns=LoanDF[Target]).plot(kind='bar',ax=subplot[j])"
   ]
  },
  {
   "cell_type": "code",
   "execution_count": 30,
   "id": "016966fc-b76d-4502-ad4d-a56d0d505e7a",
   "metadata": {},
   "outputs": [
    {
     "data": {
      "image/png": "[encoded data removed]",
      "text/plain": [
       "<Figure size 1440x360 with 4 Axes>"
      ]
     },
     "metadata": {
      "needs_background": "light"
     },
     "output_type": "display_data"
    }
   ],
   "source": [
    "\n",
    "fig,subplot=plt.subplots(1,4,figsize=(20,5))\n",
    "\n",
    "for i,j in zip(Categ[4:],range(4)):\n",
    "    pd.crosstab(index=LoanDF[i],columns=LoanDF[Target]).plot(kind='bar',ax=subplot[j])"
   ]
  },
  {
   "cell_type": "markdown",
   "id": "6a2877e6-584e-4163-9429-e75d360b0c35",
   "metadata": {},
   "source": [
    "### Chi2 Test (Statistical Analysis for Categ vs Categ)"
   ]
  },
  {
   "cell_type": "code",
   "execution_count": 31,
   "id": "0d05abd9-02d0-4a29-a496-f7216cd2503a",
   "metadata": {},
   "outputs": [
    {
     "name": "stdout",
     "output_type": "stream",
     "text": [
      "Column Gender is NOT correlated with Target | P-value :0.7391461310869638 \n",
      "Column Married is correlated with Target | P-value :0.029608580862582116 \n",
      "Column Dependents is NOT correlated with Target | P-value :0.3688663081366005 \n",
      "Column Education is correlated with Target | P-value :0.04309962129357355 \n",
      "Column Self_Employed is NOT correlated with Target | P-value :1.0 \n",
      "Column Loan_Amount_Term is NOT correlated with Target | P-value :0.10342497171561134 \n",
      "Column Credit_History is correlated with Target | P-value :3.4183499979091188e-40 \n",
      "Column Property_Area is correlated with Target | P-value :0.0021360187811644937 \n"
     ]
    },
    {
     "data": {
      "text/plain": [
       "['Married', 'Education', 'Credit_History', 'Property_Area']"
      ]
     },
     "execution_count": 31,
     "metadata": {},
     "output_type": "execute_result"
    }
   ],
   "source": [
    "def fun_ch2(df,pred,target):\n",
    "    from scipy.stats import chi2_contingency\n",
    "    \n",
    "    selected_categ=[]\n",
    "    \n",
    "    for i in pred:\n",
    "        inp=pd.crosstab(index=df[i],columns=df[target])\n",
    "        \n",
    "        chi2=chi2_contingency(inp)\n",
    "        \n",
    "        if chi2[1]<0.05:\n",
    "            print(\"Column {} is correlated with Target | P-value :{} \".format(i,chi2[1]))\n",
    "            selected_categ.append(i)\n",
    "        \n",
    "        else:\n",
    "            print(\"Column {} is NOT correlated with Target | P-value :{} \".format(i,chi2[1]))\n",
    "            \n",
    "    return selected_categ\n",
    "\n",
    "\n",
    "fun_ch2(LoanDF,Categ,Target)\n",
    "\n",
    "        "
   ]
  },
  {
   "cell_type": "markdown",
   "id": "c4f54a68-68fd-47fe-8edd-6ea81e73499e",
   "metadata": {},
   "source": [
    "* Final Selected Predictors :- ['Married', 'Education', 'Credit_History', 'Property_Area']"
   ]
  },
  {
   "cell_type": "markdown",
   "id": "aa6963ae-1df9-4538-9358-5d3b4248b2f3",
   "metadata": {},
   "source": [
    "### Extracting Data for ML\n"
   ]
  },
  {
   "cell_type": "code",
   "execution_count": 32,
   "id": "42ad77dc-4667-40e5-93ba-3937eb5df90b",
   "metadata": {},
   "outputs": [
    {
     "data": {
      "text/html": [
       "<div>\n",
       "<style scoped>\n",
       "    .dataframe tbody tr th:only-of-type {\n",
       "        vertical-align: middle;\n",
       "    }\n",
       "\n",
       "    .dataframe tbody tr th {\n",
       "        vertical-align: top;\n",
       "    }\n",
       "\n",
       "    .dataframe thead th {\n",
       "        text-align: right;\n",
       "    }\n",
       "</style>\n",
       "<table border=\"1\" class=\"dataframe\">\n",
       "  <thead>\n",
       "    <tr style=\"text-align: right;\">\n",
       "      <th></th>\n",
       "      <th>Married</th>\n",
       "      <th>Education</th>\n",
       "      <th>Credit_History</th>\n",
       "      <th>Property_Area</th>\n",
       "      <th>Loan_Status</th>\n",
       "    </tr>\n",
       "  </thead>\n",
       "  <tbody>\n",
       "    <tr>\n",
       "      <th>0</th>\n",
       "      <td>No</td>\n",
       "      <td>Graduate</td>\n",
       "      <td>1.0</td>\n",
       "      <td>Urban</td>\n",
       "      <td>Y</td>\n",
       "    </tr>\n",
       "    <tr>\n",
       "      <th>1</th>\n",
       "      <td>Yes</td>\n",
       "      <td>Graduate</td>\n",
       "      <td>1.0</td>\n",
       "      <td>Rural</td>\n",
       "      <td>N</td>\n",
       "    </tr>\n",
       "    <tr>\n",
       "      <th>2</th>\n",
       "      <td>Yes</td>\n",
       "      <td>Graduate</td>\n",
       "      <td>1.0</td>\n",
       "      <td>Urban</td>\n",
       "      <td>Y</td>\n",
       "    </tr>\n",
       "    <tr>\n",
       "      <th>3</th>\n",
       "      <td>Yes</td>\n",
       "      <td>Not Graduate</td>\n",
       "      <td>1.0</td>\n",
       "      <td>Urban</td>\n",
       "      <td>Y</td>\n",
       "    </tr>\n",
       "    <tr>\n",
       "      <th>4</th>\n",
       "      <td>No</td>\n",
       "      <td>Graduate</td>\n",
       "      <td>1.0</td>\n",
       "      <td>Urban</td>\n",
       "      <td>Y</td>\n",
       "    </tr>\n",
       "  </tbody>\n",
       "</table>\n",
       "</div>"
      ],
      "text/plain": [
       "  Married     Education  Credit_History Property_Area Loan_Status\n",
       "0      No      Graduate             1.0         Urban           Y\n",
       "1     Yes      Graduate             1.0         Rural           N\n",
       "2     Yes      Graduate             1.0         Urban           Y\n",
       "3     Yes  Not Graduate             1.0         Urban           Y\n",
       "4      No      Graduate             1.0         Urban           Y"
      ]
     },
     "execution_count": 32,
     "metadata": {},
     "output_type": "execute_result"
    }
   ],
   "source": [
    "LoanML=LoanDF[['Married', 'Education', 'Credit_History', 'Property_Area']]\n",
    "LoanML[Target]=LoanDF[Target]\n",
    "LoanML.head()"
   ]
  },
  {
   "cell_type": "code",
   "execution_count": 33,
   "id": "ad7fa688-4d31-4f3f-a059-ae1892e3f9af",
   "metadata": {},
   "outputs": [],
   "source": [
    "# LoanML.to_pickle('loan_final.pkl')"
   ]
  },
  {
   "cell_type": "markdown",
   "id": "1c4bd644-fee8-4da1-94c1-2f31a1a8b704",
   "metadata": {},
   "source": [
    "### Preparing Data for ML\n",
    "* Converting Nominal/Ordinal Categorical to Numerical"
   ]
  },
  {
   "cell_type": "code",
   "execution_count": 34,
   "id": "4abf37cb-8395-4a00-b335-c1aa5511d8d9",
   "metadata": {},
   "outputs": [],
   "source": [
    "LoanML['Married'].replace({'No':0,'Yes':1},inplace=True)"
   ]
  },
  {
   "cell_type": "code",
   "execution_count": 35,
   "id": "a976c927-11ad-4ce1-92ba-0bd4f774b746",
   "metadata": {},
   "outputs": [],
   "source": [
    "LoanML['Education'].replace({'Not Graduate':0,'Graduate':1},inplace=True)"
   ]
  },
  {
   "cell_type": "code",
   "execution_count": 36,
   "id": "339389c4-3b6b-41ff-9f85-a8a2ca28195a",
   "metadata": {},
   "outputs": [],
   "source": [
    "LoanML['Loan_Status'].replace({'Y':1,'N':0},inplace=True)"
   ]
  },
  {
   "cell_type": "code",
   "execution_count": 37,
   "id": "12ba4e55-6253-4f37-a791-b44bccb6140b",
   "metadata": {},
   "outputs": [
    {
     "data": {
      "text/html": [
       "<div>\n",
       "<style scoped>\n",
       "    .dataframe tbody tr th:only-of-type {\n",
       "        vertical-align: middle;\n",
       "    }\n",
       "\n",
       "    .dataframe tbody tr th {\n",
       "        vertical-align: top;\n",
       "    }\n",
       "\n",
       "    .dataframe thead th {\n",
       "        text-align: right;\n",
       "    }\n",
       "</style>\n",
       "<table border=\"1\" class=\"dataframe\">\n",
       "  <thead>\n",
       "    <tr style=\"text-align: right;\">\n",
       "      <th></th>\n",
       "      <th>Married</th>\n",
       "      <th>Education</th>\n",
       "      <th>Credit_History</th>\n",
       "      <th>Loan_Status</th>\n",
       "      <th>Property_Area_Rural</th>\n",
       "      <th>Property_Area_Semiurban</th>\n",
       "      <th>Property_Area_Urban</th>\n",
       "    </tr>\n",
       "  </thead>\n",
       "  <tbody>\n",
       "    <tr>\n",
       "      <th>0</th>\n",
       "      <td>0</td>\n",
       "      <td>1</td>\n",
       "      <td>1.0</td>\n",
       "      <td>1</td>\n",
       "      <td>0</td>\n",
       "      <td>0</td>\n",
       "      <td>1</td>\n",
       "    </tr>\n",
       "    <tr>\n",
       "      <th>1</th>\n",
       "      <td>1</td>\n",
       "      <td>1</td>\n",
       "      <td>1.0</td>\n",
       "      <td>0</td>\n",
       "      <td>1</td>\n",
       "      <td>0</td>\n",
       "      <td>0</td>\n",
       "    </tr>\n",
       "    <tr>\n",
       "      <th>2</th>\n",
       "      <td>1</td>\n",
       "      <td>1</td>\n",
       "      <td>1.0</td>\n",
       "      <td>1</td>\n",
       "      <td>0</td>\n",
       "      <td>0</td>\n",
       "      <td>1</td>\n",
       "    </tr>\n",
       "    <tr>\n",
       "      <th>3</th>\n",
       "      <td>1</td>\n",
       "      <td>0</td>\n",
       "      <td>1.0</td>\n",
       "      <td>1</td>\n",
       "      <td>0</td>\n",
       "      <td>0</td>\n",
       "      <td>1</td>\n",
       "    </tr>\n",
       "    <tr>\n",
       "      <th>4</th>\n",
       "      <td>0</td>\n",
       "      <td>1</td>\n",
       "      <td>1.0</td>\n",
       "      <td>1</td>\n",
       "      <td>0</td>\n",
       "      <td>0</td>\n",
       "      <td>1</td>\n",
       "    </tr>\n",
       "  </tbody>\n",
       "</table>\n",
       "</div>"
      ],
      "text/plain": [
       "   Married  Education  Credit_History  Loan_Status  Property_Area_Rural  \\\n",
       "0        0          1             1.0            1                    0   \n",
       "1        1          1             1.0            0                    1   \n",
       "2        1          1             1.0            1                    0   \n",
       "3        1          0             1.0            1                    0   \n",
       "4        0          1             1.0            1                    0   \n",
       "\n",
       "   Property_Area_Semiurban  Property_Area_Urban  \n",
       "0                        0                    1  \n",
       "1                        0                    0  \n",
       "2                        0                    1  \n",
       "3                        0                    1  \n",
       "4                        0                    1  "
      ]
     },
     "execution_count": 37,
     "metadata": {},
     "output_type": "execute_result"
    }
   ],
   "source": [
    "LoanML=pd.get_dummies(LoanML)\n",
    "LoanML.head()"
   ]
  },
  {
   "cell_type": "code",
   "execution_count": 38,
   "id": "3059df37-f243-41ea-a1a4-7fdbd1f597d2",
   "metadata": {},
   "outputs": [],
   "source": [
    "Final_pred=list(LoanML.columns)\n",
    "Final_pred.remove(Target)"
   ]
  },
  {
   "cell_type": "markdown",
   "id": "fd68024c-a4a4-4dc0-ac22-5a061f8172ef",
   "metadata": {},
   "source": [
    "* Standardization / Normalization of Data"
   ]
  },
  {
   "cell_type": "code",
   "execution_count": 127,
   "id": "844492df-6fbf-4670-8681-98695cac6ba3",
   "metadata": {},
   "outputs": [],
   "source": [
    "X=LoanML[Final_pred].values\n",
    "y=LoanML[Target].values"
   ]
  },
  {
   "cell_type": "code",
   "execution_count": 128,
   "id": "88bf46f9-dcfc-470f-b3cd-cb6b72ddaab6",
   "metadata": {},
   "outputs": [
    {
     "data": {
      "text/plain": [
       "array([[0., 1., 1., 0., 0., 1.],\n",
       "       [1., 1., 1., 1., 0., 0.],\n",
       "       [1., 1., 1., 0., 0., 1.],\n",
       "       ...,\n",
       "       [1., 1., 1., 0., 0., 1.],\n",
       "       [1., 1., 1., 0., 0., 1.],\n",
       "       [0., 1., 0., 0., 1., 0.]])"
      ]
     },
     "execution_count": 128,
     "metadata": {},
     "output_type": "execute_result"
    }
   ],
   "source": [
    "X\n",
    "# No need to standardize / Normalize the data its already good"
   ]
  },
  {
   "cell_type": "markdown",
   "id": "00d5d7f2-64fe-4540-acda-bd280f1f6f68",
   "metadata": {},
   "source": [
    "* Spliting Data Into Train and Test"
   ]
  },
  {
   "cell_type": "code",
   "execution_count": 129,
   "id": "5ad12e1d-bfee-4de9-a9a0-71cc46c5d4d9",
   "metadata": {},
   "outputs": [
    {
     "name": "stdout",
     "output_type": "stream",
     "text": [
      "(429, 6)\n",
      "(185, 6)\n",
      "(429,)\n",
      "(185,)\n"
     ]
    }
   ],
   "source": [
    "from sklearn.model_selection import train_test_split\n",
    "\n",
    "X_train,X_test,y_train,y_test=train_test_split(X,y,test_size=0.3,random_state=42)\n",
    "\n",
    "print(X_train.shape,X_test.shape,y_train.shape,y_test.shape,sep='\\n')"
   ]
  },
  {
   "cell_type": "code",
   "execution_count": null,
   "id": "6a4fa017-f199-4f7e-889a-30b1b9019d94",
   "metadata": {},
   "outputs": [],
   "source": []
  },
  {
   "cell_type": "markdown",
   "id": "239f2d5a-af32-46af-a72d-e804728a5ed2",
   "metadata": {},
   "source": [
    "### Logistic Regression"
   ]
  },
  {
   "cell_type": "code",
   "execution_count": 130,
   "id": "4482a393-b3e7-4f7b-8934-71981965ab7c",
   "metadata": {},
   "outputs": [
    {
     "name": "stdout",
     "output_type": "stream",
     "text": [
      "              precision    recall  f1-score   support\n",
      "\n",
      "           0       0.93      0.42      0.57        65\n",
      "           1       0.76      0.98      0.86       120\n",
      "\n",
      "    accuracy                           0.78       185\n",
      "   macro avg       0.84      0.70      0.71       185\n",
      "weighted avg       0.82      0.78      0.76       185\n",
      "\n",
      "F1- Score Of fittedt model is :  0.7564817361302097\n",
      "<sklearn.metrics._plot.confusion_matrix.ConfusionMatrixDisplay object at 0x000002C3FF1E6E80>\n",
      "[0.7736365  0.80345413 0.73991935 0.71603296 0.7558112  0.7558112\n",
      " 0.85706819 0.84147582 0.77861378 0.81551149]\n",
      "Final Average Accuarcy of Model is :  0.7837334626268413\n"
     ]
    },
    {
     "data": {
      "image/png": "[encoded data removed]",
      "text/plain": [
       "<Figure size 432x288 with 2 Axes>"
      ]
     },
     "metadata": {
      "needs_background": "light"
     },
     "output_type": "display_data"
    }
   ],
   "source": [
    "from sklearn.linear_model import LogisticRegression\n",
    "from sklearn.metrics import classification_report,f1_score\n",
    "from sklearn import metrics\n",
    "from sklearn.model_selection import cross_val_score\n",
    "\n",
    "LR=LogisticRegression(C=5,penalty='l1',solver='liblinear')\n",
    "LR.fit(X_train,y_train)\n",
    "\n",
    "predLR=LR.predict(X_test)\n",
    "\n",
    "print(classification_report(y_test,predLR))\n",
    "print(\"F1- Score Of fittedt model is : \",f1_score(y_test,predLR,average='weighted'))\n",
    "print(metrics.plot_confusion_matrix(LR,X,y))\n",
    "\n",
    "# Cross Validation\n",
    "\n",
    "cv=cross_val_score(LR,X,y,cv=10,scoring='f1_weighted')\n",
    "print(cv)\n",
    "print(\"Final Average Accuarcy of Model is : \",np.mean(cv))\n",
    "\n",
    "\n"
   ]
  },
  {
   "cell_type": "code",
   "execution_count": 131,
   "id": "e8a46cab-561c-4239-bd98-3c567a3cf092",
   "metadata": {},
   "outputs": [],
   "source": [
    "# from sklearn.model_selection import GridSearchCV\n",
    "# params={'C':[0.1,1,5,10,100],'penalty':['l1','l2'],'solver':['liblinear', 'newton-cg', 'lbfgs', 'sag', 'saga']}\n",
    "# gcv=GridSearchCV(estimator=LR,param_grid=params,cv=10,scoring='f1_weighted')\n",
    "\n",
    "# gcv.fit(X_train,y_train)\n",
    "# gcv.best_params_\n",
    "# gcv.best_score_\n"
   ]
  },
  {
   "cell_type": "code",
   "execution_count": null,
   "id": "54008150-c114-4d45-8669-09dd2020ea37",
   "metadata": {},
   "outputs": [],
   "source": []
  },
  {
   "cell_type": "markdown",
   "id": "3b40b1bb-7e8f-4916-ba5d-29a25c264250",
   "metadata": {},
   "source": [
    "### Decision Trees\n"
   ]
  },
  {
   "cell_type": "code",
   "execution_count": 132,
   "id": "f11f5cde-5020-4944-875b-a72da9d080cb",
   "metadata": {},
   "outputs": [
    {
     "name": "stdout",
     "output_type": "stream",
     "text": [
      "{'criterion': 'entropy', 'max_depth': 3}\n",
      "0.7837334626268413\n"
     ]
    }
   ],
   "source": [
    "from sklearn.model_selection import GridSearchCV\n",
    "from sklearn.tree import DecisionTreeClassifier\n",
    "parms={'max_depth':[i for i in range(3,16)],'criterion':['entropy','gini']}\n",
    "DT=DecisionTreeClassifier()\n",
    "gcv=GridSearchCV(estimator=DT,param_grid=parms,cv=10,scoring='f1_weighted')\n",
    "gcv.fit(X,y)\n",
    "print(gcv.best_params_,gcv.best_score_,sep='\\n')"
   ]
  },
  {
   "cell_type": "code",
   "execution_count": 133,
   "id": "fe5fbcd4-ee03-4673-b291-432f8bbeadd8",
   "metadata": {
    "tags": []
   },
   "outputs": [
    {
     "name": "stdout",
     "output_type": "stream",
     "text": [
      "              precision    recall  f1-score   support\n",
      "\n",
      "           0       0.93      0.42      0.57        65\n",
      "           1       0.76      0.98      0.86       120\n",
      "\n",
      "    accuracy                           0.78       185\n",
      "   macro avg       0.84      0.70      0.71       185\n",
      "weighted avg       0.82      0.78      0.76       185\n",
      "\n",
      "F1- Score Of fittedt model is :  0.7564817361302097\n",
      "<sklearn.metrics._plot.confusion_matrix.ConfusionMatrixDisplay object at 0x000002C3FF60EF40>\n"
     ]
    },
    {
     "data": {
      "image/png": "[encoded data removed]",
      "text/plain": [
       "<Figure size 432x288 with 2 Axes>"
      ]
     },
     "metadata": {
      "needs_background": "light"
     },
     "output_type": "display_data"
    },
    {
     "name": "stdout",
     "output_type": "stream",
     "text": [
      "[0.7736365  0.80345413 0.73991935 0.71603296 0.7558112  0.7558112\n",
      " 0.85706819 0.84147582 0.77861378 0.81551149]\n",
      "Final Average Accuarcy of Model is :  0.7837334626268413\n",
      "Accuracy score on Test is : 0.7837837837837838\n"
     ]
    },
    {
     "data": {
      "text/plain": [
       "<AxesSubplot:>"
      ]
     },
     "execution_count": 133,
     "metadata": {},
     "output_type": "execute_result"
    },
    {
     "data": {
      "image/png": "[encoded data removed]",
      "text/plain": [
       "<Figure size 432x288 with 1 Axes>"
      ]
     },
     "metadata": {
      "needs_background": "light"
     },
     "output_type": "display_data"
    }
   ],
   "source": [
    "from sklearn.tree import DecisionTreeClassifier\n",
    "\n",
    "DT=DecisionTreeClassifier(max_depth=3,criterion='entropy')\n",
    "DT.fit(X_train,y_train)\n",
    "\n",
    "predDT=DT.predict(X_test)\n",
    "\n",
    "print(classification_report(y_test,predDT))\n",
    "print(\"F1- Score Of fittedt model is : \",f1_score(y_test,predDT,average='weighted'))\n",
    "print(metrics.plot_confusion_matrix(DT,X,y))\n",
    "plt.show()\n",
    "\n",
    "# Cross Validation\n",
    "\n",
    "cv=cross_val_score(DT,X,y,cv=10,scoring='f1_weighted')\n",
    "print(cv)\n",
    "print(\"Final Average Accuarcy of Model is : \",np.mean(cv))\n",
    "print(\"Accuracy score on Test is :\",metrics.accuracy_score(y_test,predDT))\n",
    "\n",
    "# feature importance\n",
    "features=pd.Series(DT.feature_importances_,index=Final_pred)\n",
    "features.nlargest(5).plot(kind='barh')\n"
   ]
  },
  {
   "cell_type": "markdown",
   "id": "026cd4fe-e499-496f-bd95-af0f8f584220",
   "metadata": {},
   "source": [
    "#### Most Important feature for DT is Cedit_History\n"
   ]
  },
  {
   "cell_type": "code",
   "execution_count": null,
   "id": "be871334-3bd8-43bf-8bdc-11bdccd05eff",
   "metadata": {},
   "outputs": [],
   "source": []
  },
  {
   "cell_type": "code",
   "execution_count": null,
   "id": "eff07899-52e8-4a35-aa62-2cd5b1dc306b",
   "metadata": {},
   "outputs": [],
   "source": []
  }
 ],
 "metadata": {
  "kernelspec": {
   "display_name": "Python 3 (ipykernel)",
   "language": "python",
   "name": "python3"
  },
  "language_info": {
   "codemirror_mode": {
    "name": "ipython",
    "version": 3
   },
   "file_extension": ".py",
   "mimetype": "text/x-python",
   "name": "python",
   "nbconvert_exporter": "python",
   "pygments_lexer": "ipython3",
   "version": "3.9.7"
  }
 },
 "nbformat": 4,
 "nbformat_minor": 5
}
